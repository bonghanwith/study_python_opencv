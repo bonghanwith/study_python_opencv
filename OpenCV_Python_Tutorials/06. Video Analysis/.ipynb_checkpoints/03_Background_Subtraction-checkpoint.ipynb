{
 "cells": [
  {
   "cell_type": "markdown",
   "metadata": {},
   "source": [
    "### [Background Subtraction](https://docs.opencv.org/3.4/db/d5c/tutorial_py_bg_subtraction.html)\n",
    "In several applications, we need to extract foreground for further operations like object tracking. Background Subtraction is a well-known method in those cases.\n",
    "\n",
    "#### Goal\n",
    "In this chapter,\n",
    "\n",
    "* We will familiarize with the background subtraction methods available in OpenCV.\n",
    "\n",
    "#### Basics\n",
    "배경 빼기는 많은 비전 기반 응용 프로그램에서 주요 전처리 단계입니다. 예를 들어 정적 카메라가 방에 들어오고 나갈 방문자의 수를 차지하는 방문객 카운터 또는 차량에 대한 정보를 추출하는 교통 카메라 등을 생각해보십시오.이 모든 경우에 먼저 사람 또는 차량을 추출해야합니다 혼자. 기술적으로 정적 배경에서 움직이는 전경을 추출해야합니다.\n",
    "\n",
    "혼자서 배경 이미지가있는 경우, 방문자가없는 방의 이미지, 차량없는 도로 이미지 등, 쉬운 일입니다. 배경에서 새 이미지를 뺍니다. 전경 개체 만 가져옵니다. 그러나 대부분의 경우 이러한 이미지가 없을 수 있으므로 우리는 이미지가 무엇이든 배경을 추출해야합니다. 차량의 그림자가있을 때 더 복잡해집니다. 그림자도 움직이기 때문에 간단한 빼기가 포그 라운드로 표시됩니다. 그것은 사물을 복잡하게합니다.\n",
    "\n",
    "이 목적을 위해 몇 가지 알고리즘이 도입되었습니다. OpenCV는 매우 사용하기 쉬운 세 가지 알고리즘을 구현했습니다. 우리는 그들을 하나 하나 보게 될 것입니다.\n",
    "\n",
    "##### BackgroundSubtractorMOG\n",
    "이것은 가우스 혼합 기반 배경 / 전경 분할 알고리즘입니다. 2001 년 P. KadewTrakuPong과 R. Bowden의 \"그림자 검출을 이용한 실시간 추적을위한 개선 된 적응성 배경 혼합 모델\"이라는 논문에서 소개되었습니다. K 가우스 분포를 혼합하여 각 배경 픽셀을 모델링하는 방법을 사용합니다 ( K = 3 내지 5). 혼합물의 가중치는 해당 색상이 장면에 머무르는 시간 비율을 나타냅니다. 가능한 배경색은 길고 정적 인 배경색입니다.\n",
    "\n",
    "코딩하는 동안 cv.createBackgroundSubtractorMOG () 함수를 사용하여 배경 객체를 만들어야합니다 . 그것은 역사의 길이, 가우스 혼합의 수, 임계 값 등과 같은 몇 가지 선택적 매개 변수를 가지고 있습니다. 그것은 모든 기본값으로 설정됩니다. 그런 다음 비디오 루프 내부에서 BACKGROUNDUBTractor.apply () 메서드를 사용하여 전경 마스크를 가져옵니다.\n",
    "\n",
    "아래의 간단한 예를 참조하십시오."
   ]
  },
  {
   "cell_type": "code",
   "execution_count": 1,
   "metadata": {},
   "outputs": [
    {
     "data": {
      "text/plain": [
       "-1"
      ]
     },
     "execution_count": 1,
     "metadata": {},
     "output_type": "execute_result"
    }
   ],
   "source": [
    "import numpy as np\n",
    "import cv2 as cv\n",
    "\n",
    "cap  = cv.VideoCapture('vtest.avi')\n",
    "fgbg = cv.bgsegm.createBackgroundSubtractorMOG()\n",
    "\n",
    "while(1):\n",
    "    ret, frame = cap.read()\n",
    "    fgmask     = fgbg.apply(frame)\n",
    "    cv.imshow('frame', fgmask)\n",
    "    \n",
    "    k = cv.waitKey(30) & 0xff\n",
    "    if k == 27:\n",
    "        break\n",
    "cap.release()\n",
    "cv.destroyAllWindows()\n",
    "cv.waitKey(1)"
   ]
  },
  {
   "cell_type": "markdown",
   "metadata": {},
   "source": [
    "##### BackgroundSubtractorMOG2\n",
    "그것은 또한 가우스 혼합 기반 배경 / 전경 분할 알고리즘입니다. 이것은 Z.Zivkovic의 \"백그라운드 감산을위한 적응 형 가우시안 혼합 모델 개선\"과 2006 년 \"배경 뺄셈 작업을위한 이미지 픽셀 당 효율적인 적응 형 밀도 추정\"을 기반으로합니다.이 알고리즘의 한 가지 중요한 특징은 각 픽셀에 대해 적절한 가우스 분포 수를 선택합니다. (마지막으로 알고리즘을 통해 K 가우스 분포를 취한 것을 기억하십시오.) 조명 변화 등으로 인해 다양한 장면에 더 잘 적응할 수 있습니다.\n",
    "\n",
    "앞의 경우와 마찬가지로 배경 감산기 객체를 만들어야합니다. 여기서 그림자를 감지 할 것인지 여부를 선택할 수 있습니다. detectShadows = True 인 경우 (기본적으로) 그림자를 감지하고 표시하지만 속도는 감소합니다. 그림자는 회색으로 표시됩니다."
   ]
  },
  {
   "cell_type": "code",
   "execution_count": 2,
   "metadata": {},
   "outputs": [
    {
     "ename": "error",
     "evalue": "OpenCV(3.4.2) /opt/concourse/worker/volumes/live/9523d527-1b9e-48e0-7ed0-a36adde286f0/volume/opencv-suite_1535558719691/work/modules/highgui/src/window.cpp:356: error: (-215:Assertion failed) size.width>0 && size.height>0 in function 'imshow'\n",
     "output_type": "error",
     "traceback": [
      "\u001b[0;31m---------------------------------------------------------------------------\u001b[0m",
      "\u001b[0;31merror\u001b[0m                                     Traceback (most recent call last)",
      "\u001b[0;32m<ipython-input-2-69fc647b7eb0>\u001b[0m in \u001b[0;36m<module>\u001b[0;34m\u001b[0m\n\u001b[1;32m      8\u001b[0m     \u001b[0mret\u001b[0m\u001b[0;34m,\u001b[0m \u001b[0mframe\u001b[0m \u001b[0;34m=\u001b[0m \u001b[0mcap\u001b[0m\u001b[0;34m.\u001b[0m\u001b[0mread\u001b[0m\u001b[0;34m(\u001b[0m\u001b[0;34m)\u001b[0m\u001b[0;34m\u001b[0m\u001b[0m\n\u001b[1;32m      9\u001b[0m     \u001b[0mfgmask\u001b[0m     \u001b[0;34m=\u001b[0m \u001b[0mfgbg\u001b[0m\u001b[0;34m.\u001b[0m\u001b[0mapply\u001b[0m\u001b[0;34m(\u001b[0m\u001b[0mframe\u001b[0m\u001b[0;34m)\u001b[0m\u001b[0;34m\u001b[0m\u001b[0m\n\u001b[0;32m---> 10\u001b[0;31m     \u001b[0mcv\u001b[0m\u001b[0;34m.\u001b[0m\u001b[0mimshow\u001b[0m\u001b[0;34m(\u001b[0m\u001b[0;34m'frame'\u001b[0m\u001b[0;34m,\u001b[0m\u001b[0mfgmask\u001b[0m\u001b[0;34m)\u001b[0m\u001b[0;34m\u001b[0m\u001b[0m\n\u001b[0m\u001b[1;32m     11\u001b[0m \u001b[0;34m\u001b[0m\u001b[0m\n\u001b[1;32m     12\u001b[0m     \u001b[0mk\u001b[0m \u001b[0;34m=\u001b[0m \u001b[0mcv\u001b[0m\u001b[0;34m.\u001b[0m\u001b[0mwaitKey\u001b[0m\u001b[0;34m(\u001b[0m\u001b[0;36m30\u001b[0m\u001b[0;34m)\u001b[0m \u001b[0;34m&\u001b[0m \u001b[0;36m0xff\u001b[0m\u001b[0;34m\u001b[0m\u001b[0m\n",
      "\u001b[0;31merror\u001b[0m: OpenCV(3.4.2) /opt/concourse/worker/volumes/live/9523d527-1b9e-48e0-7ed0-a36adde286f0/volume/opencv-suite_1535558719691/work/modules/highgui/src/window.cpp:356: error: (-215:Assertion failed) size.width>0 && size.height>0 in function 'imshow'\n"
     ]
    }
   ],
   "source": [
    "import numpy as np\n",
    "import cv2 as cv\n",
    "\n",
    "cap  = cv.VideoCapture('vtest.avi')\n",
    "fgbg = cv.createBackgroundSubtractorMOG2()\n",
    "\n",
    "while(1):\n",
    "    ret, frame = cap.read()\n",
    "    fgmask     = fgbg.apply(frame)\n",
    "    cv.imshow('frame',fgmask)\n",
    "    \n",
    "    k = cv.waitKey(30) & 0xff\n",
    "    if k == 27:\n",
    "        break\n",
    "cap.release()\n",
    "cv.destroyAllWindows()\n",
    "cv.waitKey(1)"
   ]
  },
  {
   "cell_type": "markdown",
   "metadata": {},
   "source": [
    "##### BackgroundSubtractorGMG\n",
    "이 알고리즘은 통계적 배경 이미지 추정과 픽셀 단위 베이지안 분할을 결합합니다. 2012 년에 Andrew B. Godbehere, Akihiro Matsukawa, Ken Goldberg가 \"응답 성이 뛰어난 오디오 아트 설치를위한 가변 조명 조건에서의 인간 방문자의 시각적 트래킹\"이라는 기사에서 소개되었습니다.이 논문에 따르면 시스템은 성공적인 대화식 캘리포니아 주 샌프란시스코의 현대 유대인 박물관에서 2011 년 3 월 31 일부터 7 월 31 일까지 \"Are We There Yet?\"라는 오디오 아트 설치 작품을 발표했습니다.\n",
    "\n",
    "그것은 배경 모델링을 위해 처음 몇 프레임 (기본값으로 120 프레임)을 사용합니다. 베이지안 추론을 사용하여 가능한 전경 객체를 식별하는 확률 적 전경 분할 알고리즘을 사용합니다. 추정치는 적응 적이다. 새로운 관측치는 가변 관측을 수용하기 위해 기존의 관측치보다 훨씬 가중치가 높습니다. 닫히고 열리는 것과 같은 몇 가지 형태 필터링 작업은 원하지 않는 노이즈를 제거하기 위해 수행됩니다. 처음 몇 프레임 동안 검정색 창이 나타납니다.\n",
    "\n",
    "노이즈를 제거하기 위해 결과에 형태학적인 개방을 적용하는 것이 좋습니다."
   ]
  },
  {
   "cell_type": "code",
   "execution_count": 1,
   "metadata": {},
   "outputs": [
    {
     "data": {
      "text/plain": [
       "-1"
      ]
     },
     "execution_count": 1,
     "metadata": {},
     "output_type": "execute_result"
    }
   ],
   "source": [
    "import numpy as np\n",
    "import cv2 as cv\n",
    "\n",
    "cap    = cv.VideoCapture('vtest.avi')\n",
    "kernel = cv.getStructuringElement(cv.MORPH_ELLIPSE,(3,3))\n",
    "fgbg   = cv.bgsegm.createBackgroundSubtractorGMG()\n",
    "\n",
    "while(1):\n",
    "    ret, frame = cap.read()\n",
    "    fgmask     = fgbg.apply(frame)\n",
    "    fgmask     = cv.morphologyEx(fgmask, cv.MORPH_OPEN, kernel)\n",
    "    cv.imshow('frame', fgmask)\n",
    "    k = cv.waitKey(30) & 0xff\n",
    "    if k == 27:\n",
    "        break\n",
    "cap.release()\n",
    "cv.destroyAllWindows()\n",
    "cv.waitKey(1)"
   ]
  }
 ],
 "metadata": {
  "kernelspec": {
   "display_name": "Python 3",
   "language": "python",
   "name": "python3"
  },
  "language_info": {
   "codemirror_mode": {
    "name": "ipython",
    "version": 3
   },
   "file_extension": ".py",
   "mimetype": "text/x-python",
   "name": "python",
   "nbconvert_exporter": "python",
   "pygments_lexer": "ipython3",
   "version": "3.6.6"
  },
  "toc": {
   "base_numbering": 1,
   "nav_menu": {},
   "number_sections": true,
   "sideBar": true,
   "skip_h1_title": false,
   "title_cell": "Table of Contents",
   "title_sidebar": "Contents",
   "toc_cell": false,
   "toc_position": {},
   "toc_section_display": true,
   "toc_window_display": false
  },
  "varInspector": {
   "cols": {
    "lenName": 16,
    "lenType": 16,
    "lenVar": 40
   },
   "kernels_config": {
    "python": {
     "delete_cmd_postfix": "",
     "delete_cmd_prefix": "del ",
     "library": "var_list.py",
     "varRefreshCmd": "print(var_dic_list())"
    },
    "r": {
     "delete_cmd_postfix": ") ",
     "delete_cmd_prefix": "rm(",
     "library": "var_list.r",
     "varRefreshCmd": "cat(var_dic_list()) "
    }
   },
   "types_to_exclude": [
    "module",
    "function",
    "builtin_function_or_method",
    "instance",
    "_Feature"
   ],
   "window_display": false
  }
 },
 "nbformat": 4,
 "nbformat_minor": 2
}
