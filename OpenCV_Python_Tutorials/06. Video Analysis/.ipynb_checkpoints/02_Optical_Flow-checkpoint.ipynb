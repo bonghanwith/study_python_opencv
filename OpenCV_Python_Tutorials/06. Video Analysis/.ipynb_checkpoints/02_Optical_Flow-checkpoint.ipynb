{
 "cells": [
  {
   "cell_type": "markdown",
   "metadata": {},
   "source": [
    "### [Optical_flow](https://docs.opencv.org/3.4/d7/d8b/tutorial_py_lucas_kanade.html)\n",
    "Now let's discuss an important concept, \"Optical Flow\", which is related to videos and has many applications.\n",
    "\n",
    "#### Goal\n",
    "In this chapter,\n",
    "\n",
    "* We will understand the concepts of optical flow and its estimation using Lucas-Kanade method.\n",
    "* We will use functions like cv.calcOpticalFlowPyrLK() to track feature points in a video.\n",
    "\n",
    "#### Optical Flow\n",
    "광학 흐름은 물체 또는 카메라의 이동에 의해 발생하는 두 개의 연속적인 프레임 사이의 이미지 물체의 외관상 모션 패턴입니다. 2D 벡터 필드이며 각 벡터는 첫 번째 프레임에서 두 번째 프레임까지의 점 이동을 보여주는 변위 벡터입니다. 아래 이미지를 살펴보십시오 (이미지 제공 : Optical Flow에 대한 Wikipedia 기사 ).\n",
    "![](optical_flow_basic1.jpg)\n",
    "\n",
    "그것은 5 개의 연속 된 프레임에서 움직이는 공을 보여줍니다. 화살표는 변위 벡터를 보여줍니다. 광 흐름은 다음과 같은 분야에서 많은 응용 분야를 가지고 있습니다 :\n",
    "\n",
    "* 모션의 구조\n",
    "* 비디오 압축\n",
    "* 비디오 안정화 ...\n",
    "\n",
    "옵티컬 플로우는 몇 가지 가정하에 작동합니다.\n",
    "\n",
    "1. 객체의 픽셀 강도는 연속 프레임간에 변경되지 않습니다.\n",
    "2. 인접한 픽셀은 비슷한 동작을합니다.\n",
    "\n",
    "첫 번째 프레임의 픽셀 \\\\(I(x,y,t)\\\\)를 고려하십시오 (새 차원을 확인하십시오, 시간은 여기에 추가됩니다. 이전에는 이미지 만 사용 했으므로 시간이 필요하지 않았습니다). \\\\(dt\\\\) 시간 후에 찍은 다음 프레임에서 거리 \\\\((dx, dy)\\\\)만큼 이동합니다. 그래서 그 픽셀들이 동일하고 강도가 변하지 않기 때문에 우리는 말할 수 있습니다,\n",
    "\n",
    "\\\\(I(x,y,t) = I(x+dx, y+dy, t+dt)\\\\)\n",
    "\n",
    "그런 다음 오른쪽의 테일러 급수 근사법을 취하고 일반적인 용어를 제거하고 \\\\(dt\\\\)로 나눠 다음 방정식을 얻습니다.\n",
    "\n",
    "\\\\(f_x u + f_y v + f_t = 0 \\\\)\n",
    "\n",
    "\\\\(f_x = \\frac{\\partial f}{\\partial x} \\; ; \\; f_y = \\frac{\\partial f}{\\partial y}\\\\)\n",
    "\n",
    "\\\\(u = \\frac{dx}{dt} \\; ; \\; v = \\frac{dy}{dt}\\\\)\n",
    "\n",
    "\n",
    "위의 방정식을 옵티컬 플로 방정식이라고합니다. 그것 안에서 우리는 \\\\(f_x\\\\)와 \\\\(f_y\\\\)를 찾을 수 있습니다. 그것들은 이미지 그라디언트입니다. 마찬가지로 \\\\(f_t\\\\)는 시간에 따른 그래디언트입니다. 그러나 \\\\((u, v)\\\\)는 알려져 있지 않습니다. 이 방정식은 두 개의 미지 변수로 풀 수는 없습니다. 따라서이 문제를 해결하기 위해 여러 가지 방법이 제공되며 그 중 하나는 Lucas-Kanade입니다.\n",
    "\n",
    "##### Lucas-Kanade method\n",
    "\n",
    "우리는 이전에 모든 이웃 픽셀들이 비슷한 움직임을 보일 것이라는 가정을 보았습니다. 루카스 - 카나데 (Lucas-Kanade) 방법은 그 지점을 중심으로 3x3 패치를 사용합니다. 그래서 모든 9 점은 같은 동작을합니다. 우리는이 9 점에 대해 \\\\((f_x, f_y, f_t)\\\\)를 찾을 수 있습니다. 이제 우리의 문제는 지나치게 결정되는 두 개의 알려지지 않은 변수를 가진 9 개의 방정식을 풀어냅니다. 최소 제곱합 방법을 사용하면 더 나은 솔루션을 얻을 수 있습니다. 아래는 최종 방정식 2 방정식 2 알려지지 않은 문제이며 해답을 얻는 것입니다.\n",
    "\n",
    "\\\\(\\begin{bmatrix} u \\\\ v \\end{bmatrix} = \\begin{bmatrix} \\sum_{i}{f_{x_i}}^2 & \\sum_{i}{f_{x_i} f_{y_i} } \\\\ \\sum_{i}{f_{x_i} f_{y_i}} & \\sum_{i}{f_{y_i}}^2 \\end{bmatrix}^{-1} \\begin{bmatrix} - \\sum_{i}{f_{x_i} f_{t_i}} \\\\ - \\sum_{i}{f_{y_i} f_{t_i}} \\end{bmatrix}\\\\)\n",
    "\n",
    "(해리스 코너 탐지기와 역행렬의 유사성을 확인하십시오. 이것은 모서리가 추적되는 더 좋은 점임을 나타냅니다.)\n",
    "\n",
    "그래서 사용자 관점에서 볼 때, 아이디어는 간단하고, 우리는 추적 할 몇 가지 포인트를주고, 우리는 그 포인트의 옵티컬 플로우 벡터를받습니다. 그러나 다시 몇 가지 문제가 있습니다. 지금까지 우리는 작은 동작을 다루고있었습니다. 그래서 큰 움직임이있을 때 실패합니다. 그래서 다시 피라미드로갑니다. 피라미드에 올라가면 작은 동작이 제거되고 큰 동작은 작은 동작이됩니다. Lucas-Kanade를 적용하면 규모와 함께 옵티컬 플로우가 생성됩니다.\n",
    "\n",
    "#### Lucas-Kanade Optical Flow in OpenCV\n",
    "OpenCV는이 모든 것을 하나의 함수 cv.calcOpticalFlowPyrLK ()에 제공 합니다. 여기에서는 비디오의 일부 지점을 추적하는 간단한 응용 프로그램을 만듭니다. 포인트를 결정하기 위해 우리는 cv.goodFeaturesToTrack ()을 사용 합니다. 첫 번째 프레임을 가져 와서 Shi-Tomasi 구석 점을 찾아낸 다음 Lucas-Kanade 옵티컬 플로우를 사용하여 점을 반복적으로 추적합니다. 함수 cv.calcOpticalFlowPyrLK ()에 대해 우리는 이전 프레임, 이전 포인트 및 다음 프레임을 전달합니다. 다음 점이 발견되면 1의 값을 갖는 일부 상태 번호와 함께 다음 점을 반환하고, 그렇지 않으면 0을 반환합니다. 우리는 다음 단계에서 이전 지점으로이 다음 지점을 반복적으로 전달합니다. 아래 코드를 참조하십시오."
   ]
  },
  {
   "cell_type": "code",
   "execution_count": 2,
   "metadata": {},
   "outputs": [],
   "source": [
    "import numpy as np\n",
    "import cv2 as cv\n",
    "\n",
    "cap = cv.VideoCapture('slow.flv')\n",
    "\n",
    "# params for ShiTomasi corner detection\n",
    "feature_params = dict( maxCorners = 100,\n",
    "                       qualityLevel = 0.3,\n",
    "                       minDistance = 7,\n",
    "                       blockSize = 7 )\n",
    "\n",
    "# Parameters for lucas kanade optical flow\n",
    "lk_params = dict( winSize  = (15,15),\n",
    "                  maxLevel = 2,\n",
    "                  criteria = (cv.TERM_CRITERIA_EPS | cv.TERM_CRITERIA_COUNT, 10, 0.03))\n",
    "\n",
    "# Create some random colors\n",
    "color = np.random.randint(0,255,(100,3))\n",
    "\n",
    "# Take first frame and find corners in it\n",
    "ret, old_frame = cap.read()\n",
    "old_gray       = cv.cvtColor(old_frame, cv.COLOR_BGR2GRAY)\n",
    "p0             = cv.goodFeaturesToTrack(old_gray, mask = None, **feature_params)\n",
    "\n",
    "# Create a mask image for drawing purposes\n",
    "mask = np.zeros_like(old_frame)\n",
    "while(1):\n",
    "    ret,frame   = cap.read()\n",
    "    frame_gray  = cv.cvtColor(frame, cv.COLOR_BGR2GRAY)\n",
    "   \n",
    "    # calculate optical flow\n",
    "    p1, st, err = cv.calcOpticalFlowPyrLK(old_gray, frame_gray, p0, None, **lk_params)\n",
    "    \n",
    "    # Select good points\n",
    "    good_new    = p1[st == 1]\n",
    "    good_old    = p0[st == 1]\n",
    "    # draw the tracks\n",
    "    for i, (new ,old) in enumerate(zip(good_new, good_old)):\n",
    "        a, b  = new.ravel()\n",
    "        c, d  = old.ravel()\n",
    "        mask  = cv.line(mask, (a, b), (c, d), color[i].tolist(), 2)\n",
    "        frame = cv.circle(frame, (a, b), 5,color[i].tolist(), -1)\n",
    "    img = cv.add(frame, mask)\n",
    "    cv.imshow('frame', img)\n",
    "    k = cv.waitKey(30) & 0xff\n",
    "    if k == 27:\n",
    "        break\n",
    "    # Now update the previous frame and previous points\n",
    "    old_gray = frame_gray.copy()\n",
    "    p0       = good_new.reshape(-1, 1, 2)\n",
    "cv.destroyAllWindows()\n",
    "cv.waitKey(1)\n",
    "cap.release()"
   ]
  },
  {
   "cell_type": "markdown",
   "metadata": {},
   "source": [
    "(이 코드는 다음 키포인트가 얼마나 정확한지 확인하지 않습니다. 따라서 이미지에서 어떤 피쳐 포인트가 사라지더라도 옵티컬 플로우가 다음 포인트를 찾을 가능성이 있습니다. OpenCV 샘플은 매 5 프레임마다 특징점을 찾는 샘플을 제공하며, 좋은 점만 선택하도록 옵티컬 플로 포인트의 역방향 체크를 실행합니다. 샘플 / 파이썬 / lk_track.py).\n",
    "\n",
    "#### Dense Optical Flow in OpenCV\n",
    "루카스 - 카나 데 (Lucas-Kanade) 방법은 희소 한 특징 집합 (이 예에서는 Shi-Tomasi 알고리즘을 사용하여 감지 된 모서리)에 대한 옵티컬 플로우를 계산합니다. OpenCV는 밀도가 높은 옵티컬 플로우를 찾는 또 다른 알고리즘을 제공합니다. 프레임의 모든 점에 대한 옵티컬 플로우를 계산합니다. 2003 년 Gunner Farneback의 \"다항식 확장에 기반한 2 프레임 모션 추정\"에서 설명하는 Gunner Farneback의 알고리즘을 기반으로합니다.\n",
    "\n",
    "아래 샘플은 위의 알고리즘을 사용하여 밀도가 높은 옵티컬 플로우를 찾는 방법을 보여줍니다. 옵티컬 플로우 벡터 \\\\((u, v)\\\\)를 갖는 2 채널 어레이를 얻습니다. 우리는 그들의 규모와 방향을 찾습니다. 더 나은 시각화를 위해 결과의 색을 지정합니다. 방향은 이미지의 색조 값에 해당합니다. 크기는 값 평면에 해당합니다. 아래 코드를 참조하십시오."
   ]
  },
  {
   "cell_type": "code",
   "execution_count": 3,
   "metadata": {},
   "outputs": [
    {
     "data": {
      "text/plain": [
       "-1"
      ]
     },
     "execution_count": 3,
     "metadata": {},
     "output_type": "execute_result"
    }
   ],
   "source": [
    "import cv2 as cv\n",
    "import numpy as np\n",
    "\n",
    "cap         = cv.VideoCapture(\"vtest.avi\")\n",
    "ret, frame1 = cap.read()\n",
    "prvs        = cv.cvtColor(frame1, cv.COLOR_BGR2GRAY)\n",
    "hsv         = np.zeros_like(frame1)\n",
    "hsv[...,1]  = 255\n",
    "\n",
    "while(1):\n",
    "    ret, frame2 = cap.read()\n",
    "    next        = cv.cvtColor(frame2,cv.COLOR_BGR2GRAY)\n",
    "    flow        = cv.calcOpticalFlowFarneback(prvs,next, None, 0.5, 3, 15, 3, 5, 1.2, 0)\n",
    "    mag, ang    = cv.cartToPolar(flow[..., 0], flow[..., 1])\n",
    "    hsv[...,0]  = ang * 180 /np.pi / 2\n",
    "    hsv[...,2]  = cv.normalize(mag, None, 0, 255, cv.NORM_MINMAX)\n",
    "    bgr         = cv.cvtColor(hsv,cv.COLOR_HSV2BGR)\n",
    "    cv.imshow('frame2', bgr)\n",
    "    k = cv.waitKey(30) & 0xff\n",
    "    if k == 27:\n",
    "        break\n",
    "    elif k == ord('s'):\n",
    "        cv.imwrite('opticalfb.png', frame2)\n",
    "        cv.imwrite('opticalhsv.png', bgr)\n",
    "    prvs = next\n",
    "cap.release()\n",
    "cv.destroyAllWindows()\n",
    "cv.waitKey(1)"
   ]
  },
  {
   "cell_type": "markdown",
   "metadata": {},
   "source": [
    "OpenCV comes with a more advanced sample on dense optical flow, please see samples/python/opt_flow.py.\n",
    "\n",
    "#### Additional Resources\n",
    "#### Exercises\n",
    "Check the code in samples/python/lk_track.py. Try to understand the code.\n",
    "Check the code in samples/python/opt_flow.py. Try to understand the code."
   ]
  }
 ],
 "metadata": {
  "kernelspec": {
   "display_name": "Python 3",
   "language": "python",
   "name": "python3"
  },
  "language_info": {
   "codemirror_mode": {
    "name": "ipython",
    "version": 3
   },
   "file_extension": ".py",
   "mimetype": "text/x-python",
   "name": "python",
   "nbconvert_exporter": "python",
   "pygments_lexer": "ipython3",
   "version": "3.6.6"
  },
  "toc": {
   "base_numbering": 1,
   "nav_menu": {},
   "number_sections": true,
   "sideBar": true,
   "skip_h1_title": false,
   "title_cell": "Table of Contents",
   "title_sidebar": "Contents",
   "toc_cell": false,
   "toc_position": {},
   "toc_section_display": true,
   "toc_window_display": true
  },
  "varInspector": {
   "cols": {
    "lenName": 16,
    "lenType": 16,
    "lenVar": 40
   },
   "kernels_config": {
    "python": {
     "delete_cmd_postfix": "",
     "delete_cmd_prefix": "del ",
     "library": "var_list.py",
     "varRefreshCmd": "print(var_dic_list())"
    },
    "r": {
     "delete_cmd_postfix": ") ",
     "delete_cmd_prefix": "rm(",
     "library": "var_list.r",
     "varRefreshCmd": "cat(var_dic_list()) "
    }
   },
   "types_to_exclude": [
    "module",
    "function",
    "builtin_function_or_method",
    "instance",
    "_Feature"
   ],
   "window_display": false
  }
 },
 "nbformat": 4,
 "nbformat_minor": 2
}
