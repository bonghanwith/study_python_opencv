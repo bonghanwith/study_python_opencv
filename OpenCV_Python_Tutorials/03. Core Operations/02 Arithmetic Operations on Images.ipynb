{
 "cells": [
  {
   "cell_type": "markdown",
   "metadata": {},
   "source": [
    "### [Arithmetic Operations on Images](https://docs.opencv.org/3.4/d0/d86/tutorial_py_image_arithmetics.html)\n",
    "Perform arithmetic operations on images\n",
    "\n",
    "#### Goal\n",
    "* Learn several arithmetic operations on images like addition, subtraction, bitwise operations etc.\n",
    "* You will learn these functions : [cv.add()](https://docs.opencv.org/3.4/d2/de8/group__core__array.html#ga10ac1bfb180e2cfda1701d06c24fdbd6), [cv.addWeighted()](https://docs.opencv.org/3.4/d2/de8/group__core__array.html#gafafb2513349db3bcff51f54ee5592a19) etc.\n",
    "\n",
    "#### Image Addition\n",
    "You can add two images by OpenCV function, cv.add() or simply by numpy operation, res = img1 + img2. Both images should be of same depth and type, or second image can just be a scalar value.\n",
    "\n",
    "> **Note** There is a difference between OpenCV addition and Numpy addition. OpenCV addition is a saturated operation while Numpy addition is a modulo operation.\n",
    "\n",
    "For example, consider below sample:"
   ]
  },
  {
   "cell_type": "code",
   "execution_count": 1,
   "metadata": {},
   "outputs": [
    {
     "name": "stdout",
     "output_type": "stream",
     "text": [
      "[[255]]\n",
      "[4]\n"
     ]
    }
   ],
   "source": [
    "import cv2 as cv\n",
    "import numpy as np\n",
    "import sys\n",
    "sys.path.insert(0, '../common')\n",
    "import bonghanUtil as u\n",
    "\n",
    "x = np.uint8([250]) \n",
    "y = np.uint8([10])\n",
    "\n",
    "print(cv.add(x, y)) # 256 + 10 = 260 => 255\n",
    "print(x + y)        # 256 + 10 = 260 % 256 = 4"
   ]
  },
  {
   "cell_type": "markdown",
   "metadata": {},
   "source": [
    "It will be more visible when you add two images. OpenCV function will provide a better result. So always better stick to OpenCV functions.\n",
    "\n",
    "#### Image Blending\n",
    "This is also image addition, but different weights are given to images so that it gives a feeling of blending or transparency. Images are added as per the equation below:\n",
    "\n",
    "$$ g(x) = (1 - \\alpha)f_{0}(x) + \\alpha f_{1}(x) $$\n",
    "\n",
    "By varying α from \\\\( 0 \\rightarrow 1 \\\\), you can perform a cool transition between one image to another.\n",
    "\n",
    "Here I took two images to blend them together. First image is given a weight of 0.7 and second image is given 0.3. cv.addWeighted() applies following equation on the image.\n",
    "\n",
    "\n",
    "$$ dst = \\alpha \\cdot img1 + \\beta \\cdot img2 + \\gamma $$\n",
    "Here \\\\( \\gamma \\\\) is taken as zero\n",
    "\n",
    "cv.resize(img, None, fx = 0.5, fy = 0.5, interpolation = cv.INTER_AREA)  \n",
    "cv.resize(img, (width * 2, height * 2) , interpolation = cv.INTER_CUBIC)  \n",
    "cv.resize(img, None, fx = 2, fy = 2    , interpolation = cv.INTER_CUBIC)  "
   ]
  },
  {
   "cell_type": "code",
   "execution_count": 2,
   "metadata": {},
   "outputs": [],
   "source": [
    "img1 = cv.imread('../data/ml.png')\n",
    "img2 = cv.imread('../data/opencv-logo.png')\n",
    "\n",
    "img1 = cv.resize(img1, (500, 500), interpolation = cv.INTER_CUBIC)\n",
    "img2 = cv.resize(img2, (500, 500), interpolation = cv.INTER_CUBIC)\n",
    "\n",
    "dst  = cv.addWeighted(img1, 0.7, img2, 0.3, 0)\n",
    "\n",
    "u.showImage(dst)"
   ]
  },
  {
   "cell_type": "markdown",
   "metadata": {},
   "source": [
    "![](imageMerge.jpg)"
   ]
  },
  {
   "cell_type": "markdown",
   "metadata": {},
   "source": [
    "\n",
    "[260:263, 260:263, :]\n",
    "\n",
    "img1           img2           dst\n",
    "[[[195 230 255][[[255 255 255][[[213 238 255]\n",
    "  [204 236 255]  [255 255 255]  [219 242 255]\n",
    "  [211 241 255]  [255 255 255]  [224 245 255]]]]\n",
    "\n",
    " [[163 217 255] [[255 255 255] [[191 228 255]\n",
    "  [163 213 255]  [255 255 255]  [191 226 255]\n",
    "  [156 202 250]  [255 255 255]  [186 218 252]]]]\n",
    "\n",
    " [[144 209 255] [[255 255 255] [[177 223 255]\n",
    "  [131 190 247]  [255 255 255]  [168 210 249]\n",
    "[100 155 219]]]  [255 255 255]]][146 185 230]]]"
   ]
  },
  {
   "cell_type": "markdown",
   "metadata": {},
   "source": [
    "#### Bitwise Operations\n",
    "This includes bitwise AND, OR, NOT and XOR operations. They will be highly useful while extracting any part of the image (as we will see in coming chapters), defining and working with non-rectangular ROI etc. Below we will see an example on how to change a particular region of an image.\n",
    "\n",
    "I want to put OpenCV logo above an image. If I add two images, it will change color. If I blend it, I get an transparent effect. But I want it to be opaque. If it was a rectangular region, I could use ROI as we did in last chapter. But OpenCV logo is a not a rectangular shape. So you can do it with bitwise operations as below:"
   ]
  },
  {
   "cell_type": "code",
   "execution_count": 2,
   "metadata": {},
   "outputs": [],
   "source": [
    "img1 = cv.imread('../data/messi5.jpg')\n",
    "img2 = cv.imread('../data/opencv-logo-white.png')\n",
    "\n",
    "rows, cols, channels = img2.shape\n",
    "roi = img1[0:rows, 0:cols ]\n",
    "\n",
    "img2gray = cv.cvtColor(img2, cv.COLOR_BGR2GRAY)\n",
    "u.showImage(img2gray)\n",
    "\n",
    "ret, mask = cv.threshold(img2gray, 10, 255, cv.THRESH_BINARY)\n",
    "u.showImage(mask)\n",
    "\n",
    "mask_inv = cv.bitwise_not(mask)\n",
    "u.showImage(mask_inv)\n",
    "\n",
    "img1_bg = cv.bitwise_and(roi, roi, mask = mask_inv)\n",
    "u.showImage(img1_bg)\n",
    "\n",
    "# Take only region of logo from logo image.\n",
    "img2_fg = cv.bitwise_and(img2, img2, mask = mask)\n",
    "u.showImage(img2_fg)\n",
    "\n",
    "# Put logo in ROI and modify the main image\n",
    "dst = cv.add(img1_bg,img2_fg)\n",
    "u.showImage(dst)\n",
    "\n",
    "img1[0:rows, 0:cols ] = dst\n",
    "u.showImage(img1)"
   ]
  },
  {
   "cell_type": "markdown",
   "metadata": {},
   "source": [
    "![](dstImage.jpg)\n",
    "roi와 img1과 add하면 결과 처럼 나오지 않는다.\n",
    "\n",
    "#### Additional Resources\n",
    "\n",
    "#### Exercises\n",
    "1. Create a slide show of images in a folder with smooth transition between images using [cv.addWeighted()](https://docs.opencv.org/3.4/d2/de8/group__core__array.html#gafafb2513349db3bcff51f54ee5592a19) function"
   ]
  },
  {
   "cell_type": "code",
   "execution_count": 35,
   "metadata": {},
   "outputs": [
    {
     "data": {
      "text/plain": [
       "-1"
      ]
     },
     "execution_count": 35,
     "metadata": {},
     "output_type": "execute_result"
    }
   ],
   "source": [
    "import cv2 as cv\n",
    "import numpy as np\n",
    "import sys\n",
    "sys.path.insert(0, '../common')\n",
    "import bonghanUtil as u\n",
    "\n",
    "img1 = cv.imread('../data/ml.png')\n",
    "img2 = cv.imread('../data/opencv-logo.png')\n",
    "\n",
    "img1 = cv.resize(img1, (500, 500), interpolation = cv.INTER_CUBIC)\n",
    "img2 = cv.resize(img2, (500, 500), interpolation = cv.INTER_CUBIC)\n",
    "\n",
    "for i in range(1, 101, 1):\n",
    "    cv.imshow('result', cv.addWeighted(img2, 0 + (i / 100), img1, 1 - (i / 100), 0) )\n",
    "    cv.waitKey(10)\n",
    "    \n",
    "cv.destroyAllWindows()\n",
    "cv.waitKey(1)\n"
   ]
  }
 ],
 "metadata": {
  "kernelspec": {
   "display_name": "Python 3",
   "language": "python",
   "name": "python3"
  },
  "language_info": {
   "codemirror_mode": {
    "name": "ipython",
    "version": 3
   },
   "file_extension": ".py",
   "mimetype": "text/x-python",
   "name": "python",
   "nbconvert_exporter": "python",
   "pygments_lexer": "ipython3",
   "version": "3.6.6"
  },
  "toc": {
   "base_numbering": 1,
   "nav_menu": {},
   "number_sections": true,
   "sideBar": true,
   "skip_h1_title": false,
   "title_cell": "Table of Contents",
   "title_sidebar": "Contents",
   "toc_cell": false,
   "toc_position": {},
   "toc_section_display": true,
   "toc_window_display": true
  },
  "varInspector": {
   "cols": {
    "lenName": 16,
    "lenType": 16,
    "lenVar": 40
   },
   "kernels_config": {
    "python": {
     "delete_cmd_postfix": "",
     "delete_cmd_prefix": "del ",
     "library": "var_list.py",
     "varRefreshCmd": "print(var_dic_list())"
    },
    "r": {
     "delete_cmd_postfix": ") ",
     "delete_cmd_prefix": "rm(",
     "library": "var_list.r",
     "varRefreshCmd": "cat(var_dic_list()) "
    }
   },
   "types_to_exclude": [
    "module",
    "function",
    "builtin_function_or_method",
    "instance",
    "_Feature"
   ],
   "window_display": false
  }
 },
 "nbformat": 4,
 "nbformat_minor": 2
}
