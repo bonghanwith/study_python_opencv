{
 "cells": [
  {
   "cell_type": "markdown",
   "metadata": {},
   "source": [
    "# Basic Operations on Images[링크](https://docs.opencv.org/3.0-beta/doc/py_tutorials/py_core/py_basic_ops/py_basic_ops.html#basic-ops)\n",
    "* Learn to read and edit pixel values, working with image ROI and other basic operations.\n",
    "\n",
    "## Goal\n",
    "\n",
    "Learn to:\n",
    "\n",
    "* Access pixel values and modify them\n",
    "* Access image properties\n",
    "* Setting Region of Image (ROI)\n",
    "* Splitting and Merging images\n",
    "\n",
    "Almost all the operations in this section is mainly related to Numpy rather than OpenCV. A good knowledge of Numpy is required to write better optimized code with OpenCV.\n",
    "\n",
    "( Examples will be shown in Python terminal since most of them are just single line codes )"
   ]
  },
  {
   "cell_type": "code",
   "execution_count": 1,
   "metadata": {},
   "outputs": [
    {
     "name": "stdout",
     "output_type": "stream",
     "text": [
      "[204 204 204]\n",
      "204\n",
      "[1 2 3]\n",
      "1\n",
      "[10 20 30]\n",
      "(364, 672, 3)\n",
      "733824\n",
      "uint8\n"
     ]
    }
   ],
   "source": [
    "import cv2\n",
    "import numpy as np\n",
    "\n",
    "img = cv2.imread('messi5.png')\n",
    "\n",
    "px = img[100, 100]\n",
    "print(px)\n",
    "\n",
    "blue = img[100, 100, 0]\n",
    "print(blue)\n",
    "\n",
    "img[100,100] = [1,2,3]\n",
    "\n",
    "px = img[100, 100]\n",
    "print(px)\n",
    "\n",
    "print(img.item(100, 100, 0))\n",
    "\n",
    "img.itemset((100, 100, 0), 10)\n",
    "img.itemset((100, 100, 1), 20)\n",
    "img.itemset((100, 100, 2), 30)\n",
    "print(img[100, 100])\n",
    "\n",
    "print(img.shape)\n",
    "print(img.size)\n",
    "print(img.dtype)\n",
    "\n",
    "logo = img[0:100, 0:100]\n",
    "img[200:300, 200:300] = logo\n",
    "\n",
    "#b, g, r = cv2.split(img)\n",
    "#img = cv2.merge((r, g, b))\n",
    "#b = img[100:200, 100:200, 1]\n",
    "#img[:, :, 2] = 0\n",
    "\n",
    "cv2.imshow('image', img)\n",
    "cv2.waitKey(0)\n",
    "cv2.destroyAllWindows()"
   ]
  },
  {
   "cell_type": "markdown",
   "metadata": {},
   "source": [
    "## Making Borders for Images (Padding)"
   ]
  },
  {
   "cell_type": "code",
   "execution_count": 2,
   "metadata": {},
   "outputs": [],
   "source": [
    "import cv2\n",
    "import numpy as np\n",
    "from matplotlib import pyplot as plt\n",
    "\n",
    "BLUE = [255,0,0]\n",
    "\n",
    "img1 = cv2.imread('opencv_logo.png')\n",
    "\n",
    "#replicate = cv2.copyMakeBorder(img1,10,10,10,10,cv2.BORDER_REPLICATE)\n",
    "#reflect = cv2.copyMakeBorder(img1,10,10,10,10,cv2.BORDER_REFLECT)\n",
    "#reflect101 = cv2.copyMakeBorder(img1,10,10,10,10,cv2.BORDER_REFLECT_101)\n",
    "#wrap = cv2.copyMakeBorder(img1,10,10,10,10,cv2.BORDER_WRAP)\n",
    "#constant= cv2.copyMakeBorder(img1,10,10,10,10,cv2.BORDER_CONSTANT,value=BLUE)\n",
    "\n",
    "#plt.subplot(231),plt.imshow(img1,'gray'),plt.title('ORIGINAL')\n",
    "#plt.subplot(232),plt.imshow(replicate,'gray'),plt.title('REPLICATE')\n",
    "#plt.subplot(233),plt.imshow(reflect,'gray'),plt.title('REFLECT')\n",
    "#plt.subplot(234),plt.imshow(reflect101,'gray'),plt.title('REFLECT_101')\n",
    "#plt.subplot(235),plt.imshow(wrap,'gray'),plt.title('WRAP')\n",
    "#plt.subplot(236),plt.imshow(constant,'gray'),plt.title('CONSTANT')\n",
    "\n",
    "#plt.show()"
   ]
  },
  {
   "cell_type": "code",
   "execution_count": null,
   "metadata": {},
   "outputs": [],
   "source": []
  }
 ],
 "metadata": {
  "kernelspec": {
   "display_name": "Python 3",
   "language": "python",
   "name": "python3"
  },
  "language_info": {
   "codemirror_mode": {
    "name": "ipython",
    "version": 3
   },
   "file_extension": ".py",
   "mimetype": "text/x-python",
   "name": "python",
   "nbconvert_exporter": "python",
   "pygments_lexer": "ipython3",
   "version": "3.6.6"
  }
 },
 "nbformat": 4,
 "nbformat_minor": 2
}
