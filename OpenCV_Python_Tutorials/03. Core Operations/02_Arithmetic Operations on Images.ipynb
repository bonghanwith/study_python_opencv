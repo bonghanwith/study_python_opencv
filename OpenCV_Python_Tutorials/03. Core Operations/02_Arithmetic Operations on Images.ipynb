{
 "cells": [
  {
   "cell_type": "markdown",
   "metadata": {},
   "source": [
    "## Arithmetic Operations on Images\n",
    "\n",
    "### Goal\n",
    "* Learn several arithmetic operations on images like addition, subtraction, bitwise operations etc.\n",
    "* You will learn these functions : cv2.add(), cv2.addWeighted() etc."
   ]
  },
  {
   "cell_type": "code",
   "execution_count": 1,
   "metadata": {},
   "outputs": [
    {
     "name": "stdout",
     "output_type": "stream",
     "text": [
      "[[255]]\n",
      "[4]\n"
     ]
    }
   ],
   "source": [
    "import cv2\n",
    "import numpy as np\n",
    "\n",
    "x = np.uint8([250])\n",
    "y = np.uint8([10])\n",
    "\n",
    "print( cv2.add(x, y))\n",
    "\n",
    "print(x + y)\n",
    "\n",
    "img1 = cv2.imread('blending.jpg')\n",
    "img2 = cv2.imread('blending.jpg')\n",
    "\n",
    "img2[:, :, 2] = 0\n",
    "\n",
    "\n",
    "dst = cv2.addWeighted(img1, 0.0, img2, 0.3, 0)\n",
    "cv2.imshow('dst', dst)\n",
    "cv2.waitKey(0)\n",
    "cv2.destroyAllWindows()"
   ]
  },
  {
   "cell_type": "markdown",
   "metadata": {},
   "source": [
    "### Bitwise Operations"
   ]
  },
  {
   "cell_type": "code",
   "execution_count": 3,
   "metadata": {},
   "outputs": [],
   "source": [
    "import cv2\n",
    "import numpy as np\n",
    "\n",
    "img1 = cv2.imread('messi5-1.png')\n",
    "img2 = cv2.imread('opencv-logo2.png')\n",
    "\n",
    "\n",
    "rows,cols,channels = img2.shape\n",
    "roi = img1[0:rows, 0:cols ]\n",
    "\n",
    "\n",
    "img2gray = cv2.cvtColor(img2,cv2.COLOR_BGR2GRAY)\n",
    "cv2.imshow('res',img2gray)\n",
    "cv2.waitKey(0)\n",
    "\n",
    "ret, mask = cv2.threshold(img2gray, 10, 255, cv2.THRESH_BINARY)\n",
    "cv2.imshow('res',mask)\n",
    "cv2.waitKey(0)\n",
    "\n",
    "mask_inv = cv2.bitwise_not(mask)\n",
    "cv2.imshow('res',mask_inv)\n",
    "cv2.waitKey(0)\n",
    "\n",
    "img1_bg = cv2.bitwise_and(roi,roi,mask = mask_inv)\n",
    "cv2.imshow('res',img1_bg)\n",
    "cv2.waitKey(0)\n",
    "\n",
    "# Take only region of logo from logo image.\n",
    "img2_fg = cv2.bitwise_and(img2,img2,mask = mask)\n",
    "\n",
    "cv2.imshow('res',img2_fg)\n",
    "cv2.waitKey(0)\n",
    "\n",
    "# Put logo in ROI and modify the main image\n",
    "dst = cv2.add(img1_bg,img2_fg)\n",
    "\n",
    "cv2.imshow('res',img2_fg)\n",
    "cv2.waitKey(0)\n",
    "img1[0:rows, 0:cols ] = dst\n",
    "\n",
    "cv2.imshow('res',img1)\n",
    "cv2.waitKey(0)\n",
    "cv2.destroyAllWindows()"
   ]
  },
  {
   "cell_type": "code",
   "execution_count": null,
   "metadata": {},
   "outputs": [],
   "source": []
  }
 ],
 "metadata": {
  "kernelspec": {
   "display_name": "Python 3",
   "language": "python",
   "name": "python3"
  },
  "language_info": {
   "codemirror_mode": {
    "name": "ipython",
    "version": 3
   },
   "file_extension": ".py",
   "mimetype": "text/x-python",
   "name": "python",
   "nbconvert_exporter": "python",
   "pygments_lexer": "ipython3",
   "version": "3.6.5"
  }
 },
 "nbformat": 4,
 "nbformat_minor": 2
}
