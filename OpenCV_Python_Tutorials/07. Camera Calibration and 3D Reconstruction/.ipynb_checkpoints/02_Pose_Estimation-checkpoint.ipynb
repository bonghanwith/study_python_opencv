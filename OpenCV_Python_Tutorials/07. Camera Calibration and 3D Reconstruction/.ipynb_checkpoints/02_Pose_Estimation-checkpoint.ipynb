{
 "cells": [
  {
   "cell_type": "markdown",
   "metadata": {},
   "source": [
    "### Pose Estimation\n",
    "This is a small section which will help you to create some cool 3D effects with calib module.\n",
    "\n",
    "#### Goal\n",
    "In this section,\n",
    "* We will learn to exploit calib3d module to create some 3D effects in images.\n",
    "\n",
    "#### Basics\n",
    "이것은 작은 부분이 될 것입니다. 카메라 보정에 대한 마지막 세션에서 카메라 매트릭스, 왜곡 계수 등을 찾았습니다. 패턴 이미지가 주어지면 위의 정보를 활용하여 포즈를 계산하거나 회전하는 방법과 같이 공간에 객체를 배치하는 방법을 사용할 수 있습니다. 평면 객체의 경우 Z = 0이라고 가정하면 문제는 카메라가 공간에 배치되어 패턴 이미지를 볼 수 있게 됩니다. 따라서 우리가 물체가 어떻게 공간에 있는지 알게되면 3D 효과를 시뮬레이트하기 위해 2D 다이어그램을 그려 볼 수 있습니다. 그것을 하는 방법을 보자.\n",
    "\n",
    "우리의 문제는 체스 판의 첫 번째 구석에 3D 좌표축 (X, Y, Z 축)을 그려야한다는 것입니다. X 축은 파란색, Y 축은 녹색 및 Z 축은 빨간색으로 표시됩니다. 결과적으로 Z 축은 체스 판 평면에 수직 인 것처럼 느껴져야합니다.\n",
    "\n",
    "먼저, 이전 보정 결과에서 카메라 행렬 및 왜곡 계수를로드합니다."
   ]
  },
  {
   "cell_type": "code",
   "execution_count": 3,
   "metadata": {},
   "outputs": [],
   "source": [
    "import numpy as np\n",
    "import cv2 as cv\n",
    "import glob\n",
    "\n",
    "# Load previously saved data\n",
    "with np.load('B.npz') as X:\n",
    "    mtx, dist, _, _ = [X[i] for i in ('mtx','dist','rvecs','tvecs')]"
   ]
  },
  {
   "cell_type": "markdown",
   "metadata": {},
   "source": [
    "Now let's create a function, draw which takes the corners in the chessboard (obtained using [cv.findChessboardCorners()](https://docs.opencv.org/3.4/d9/d0c/group__calib3d.html#ga93efa9b0aa890de240ca32b11253dd4a)) and **axis points** to draw a 3D axis."
   ]
  },
  {
   "cell_type": "code",
   "execution_count": 4,
   "metadata": {},
   "outputs": [],
   "source": [
    "def draw(img, corners, imgpts):\n",
    "    corner = tuple(corners[0].ravel())\n",
    "    img = cv.line(img, corner, tuple(imgpts[0].ravel()), (255, 0, 0), 5)\n",
    "    img = cv.line(img, corner, tuple(imgpts[1].ravel()), (0, 255, 0), 5)\n",
    "    img = cv.line(img, corner, tuple(imgpts[2].ravel()), (0, 0, 255), 5)\n",
    "    return img"
   ]
  },
  {
   "cell_type": "markdown",
   "metadata": {},
   "source": [
    "그런 다음 앞의 경우처럼 종결 기준, 객체 점 (체스 판의 모서리 3D 점) 및 축 점을 만듭니다. 축 점은 축을 그리기위한 3D 공간의 점입니다. 우리는 길이 3의 축을 그립니다 (단위는 그 크기에 따라 조정 한 이후로 체스의 정사각형 크기를 기준으로합니다). 따라서 우리의 X 축은 (0,0,0)에서 (3,0,0)까지 그려 지므로 Y 축에 대해서도 마찬가지입니다. Z 축의 경우 (0,0,0)에서 (0,0, -3)까지 그려집니다. 음수는 카메라쪽으로 그려 짐을 나타냅니다."
   ]
  },
  {
   "cell_type": "code",
   "execution_count": 5,
   "metadata": {},
   "outputs": [],
   "source": [
    "criteria = (cv.TERM_CRITERIA_EPS + cv.TERM_CRITERIA_MAX_ITER, 30, 0.001)\n",
    "objp = np.zeros((6 * 7, 3), np.float32)\n",
    "objp[:,:2] = np.mgrid[0:7, 0:6].T.reshape(-1, 2)\n",
    "axis = np.float32([[3, 0, 0], [0, 3, 0], [0, 0, -3]]).reshape(-1,3)"
   ]
  },
  {
   "cell_type": "markdown",
   "metadata": {},
   "source": [
    "이제 평상시처럼 각 이미지를로드합니다. 7x6 그리드 검색. 발견되면 하위 픽셀로 수정합니다. 그런 다음 회전 및 평행 이동을 계산하기 위해 [cv.solvePnPRansac()](https://docs.opencv.org/3.4/d9/d0c/group__calib3d.html#ga50620f0e26e02caa2e9adc07b5fbf24e) 함수를 사용합니다 . 일단 우리가 이러한 변환 행렬을 사용하면 우리는 그것들을 사용하여 축 포인트 를 이미지 평면에 투영합니다. 간단히 말하면, 3D 공간에서 (3,0,0), (0,3,0), (0,0,3) 각각에 해당하는 이미지 평면상의 점을 찾습니다. 일단 우리가 얻으면 우리는 draw () 함수를 사용하여 첫 번째 모서리에서부터이 점들까지 선들을 그립니다. 완료되었습니다!"
   ]
  },
  {
   "cell_type": "code",
   "execution_count": 11,
   "metadata": {
    "scrolled": true
   },
   "outputs": [
    {
     "data": {
      "text/plain": [
       "-1"
      ]
     },
     "execution_count": 11,
     "metadata": {},
     "output_type": "execute_result"
    }
   ],
   "source": [
    "for fname in glob.glob('./07CalibrationData/*.jpg'):\n",
    "    img = cv.imread(fname)\n",
    "    gray = cv.cvtColor(img,cv.COLOR_BGR2GRAY)\n",
    "    ret, corners = cv.findChessboardCorners(gray, (7, 6), None)\n",
    "    if ret == True:\n",
    "        corners2 = cv.cornerSubPix(gray, corners,(11, 11),(-1, -1), criteria)\n",
    "        \n",
    "        # Find the rotation and translation vectors.\n",
    "        ret,rvecs, tvecs = cv.solvePnP(objp, corners2, mtx, dist)\n",
    "        \n",
    "        # project 3D points to image plane\n",
    "        imgpts, jac = cv.projectPoints(axis, rvecs, tvecs, mtx, dist)\n",
    "        img = draw(img, corners2, imgpts)\n",
    "        cv.imshow('img',img)\n",
    "        k = cv.waitKey(0) & 0xFF\n",
    "        if k == ord('s'):\n",
    "            cv.imwrite(fname[20:26] + '.png', img)\n",
    "cv.destroyAllWindows()\n",
    "cv.waitKey(1)"
   ]
  },
  {
   "cell_type": "markdown",
   "metadata": {},
   "source": [
    "##### Render a Cube\n",
    "If you want to draw a cube, modify the draw() function and axis points as follows.\n",
    "\n",
    "Modified draw() function:"
   ]
  },
  {
   "cell_type": "code",
   "execution_count": 9,
   "metadata": {},
   "outputs": [],
   "source": [
    "def draw(img, corners, imgpts):\n",
    "    imgpts = np.int32(imgpts).reshape(-1,2)\n",
    "    # draw ground floor in green\n",
    "    img = cv.drawContours(img, [imgpts[:4]],-1,(0,255,0),-3)\n",
    "    # draw pillars in blue color\n",
    "    for i,j in zip(range(4),range(4,8)):\n",
    "        img = cv.line(img, tuple(imgpts[i]), tuple(imgpts[j]),(255),3)\n",
    "    # draw top layer in red color\n",
    "    img = cv.drawContours(img, [imgpts[4:]],-1,(0,0,255),3)\n",
    "    return img"
   ]
  },
  {
   "cell_type": "markdown",
   "metadata": {},
   "source": [
    "Modified axis points. They are the 8 corners of a cube in 3D space:"
   ]
  },
  {
   "cell_type": "code",
   "execution_count": 10,
   "metadata": {},
   "outputs": [],
   "source": [
    "axis = np.float32([[0,0,0], [0,3,0], [3,3,0], [3,0,0],\n",
    "                   [0,0,-3],[0,3,-3],[3,3,-3],[3,0,-3] ])"
   ]
  },
  {
   "cell_type": "markdown",
   "metadata": {},
   "source": [
    "If you are interested in graphics, augmented reality etc, you can use OpenGL to render more complicated figures.\n",
    "\n",
    "#### Additional Resources\n",
    "\n",
    "#### Exercises"
   ]
  }
 ],
 "metadata": {
  "kernelspec": {
   "display_name": "Python 3",
   "language": "python",
   "name": "python3"
  },
  "language_info": {
   "codemirror_mode": {
    "name": "ipython",
    "version": 3
   },
   "file_extension": ".py",
   "mimetype": "text/x-python",
   "name": "python",
   "nbconvert_exporter": "python",
   "pygments_lexer": "ipython3",
   "version": "3.6.6"
  },
  "toc": {
   "base_numbering": 1,
   "nav_menu": {},
   "number_sections": true,
   "sideBar": true,
   "skip_h1_title": false,
   "title_cell": "Table of Contents",
   "title_sidebar": "Contents",
   "toc_cell": false,
   "toc_position": {
    "height": "calc(100% - 180px)",
    "left": "10px",
    "top": "150px",
    "width": "232.358px"
   },
   "toc_section_display": true,
   "toc_window_display": true
  },
  "varInspector": {
   "cols": {
    "lenName": 16,
    "lenType": 16,
    "lenVar": 40
   },
   "kernels_config": {
    "python": {
     "delete_cmd_postfix": "",
     "delete_cmd_prefix": "del ",
     "library": "var_list.py",
     "varRefreshCmd": "print(var_dic_list())"
    },
    "r": {
     "delete_cmd_postfix": ") ",
     "delete_cmd_prefix": "rm(",
     "library": "var_list.r",
     "varRefreshCmd": "cat(var_dic_list()) "
    }
   },
   "types_to_exclude": [
    "module",
    "function",
    "builtin_function_or_method",
    "instance",
    "_Feature"
   ],
   "window_display": false
  }
 },
 "nbformat": 4,
 "nbformat_minor": 2
}
