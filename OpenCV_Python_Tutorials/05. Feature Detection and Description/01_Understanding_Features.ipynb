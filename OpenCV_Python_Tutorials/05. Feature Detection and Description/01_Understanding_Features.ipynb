{
 "cells": [
  {
   "cell_type": "markdown",
   "metadata": {},
   "source": [
    "## [Feature Detection and Description](https://docs.opencv.org/3.4/db/d27/tutorial_py_table_of_contents_feature2d.html)\n",
    "In this section you will learn about feature detectors and descriptors\n",
    "\n",
    "### [Understanding Features](https://docs.opencv.org/3.4/df/d54/tutorial_py_features_meaning.html)\n",
    "What are the main features in an image? How can finding those features be useful to us?\n",
    "\n",
    "#### Goal\n",
    "In this chapter, we will just try to understand what are features, why are they important, why corners are important etc.\n",
    "\n",
    "#### Explanation\n",
    "대부분의 사람들은 직소 퍼즐 게임을 할 것입니다. 큰 이미지를 만들기 위해 이미지를 정확하게 어셈블 해야하는 작은 이미지가 많이 있습니다. 문제는 어떻게 하는 것입니까? 컴퓨터가 직소 퍼즐을 풀 수 있도록 컴퓨터 프로그램에 같은 이론을 투영하는 것은 어떻습니까? 컴퓨터가 직소 퍼즐을 풀 수 있다면 왜 우리는 컴퓨터에 좋은 자연 경관을 보여주는 많은 실제 이미지를 제공하고 모든 이미지를 큰 단일 이미지로 스티칭 하도록 말할 수는 없습니까? 컴퓨터가 여러 자연 이미지를 하나의 이미지로 스티칭 할 수 있다면 건물이나 구조의 그림을 많이 주고 컴퓨터에서 3D 모델을 만들라고 말하면 어떨까요?\n",
    "\n",
    "음, 질문과 상상력은 계속됩니다. 그러나 그것은 모두 가장 기본적인 질문에 직면해 있습니다. : 어떻게 직소 퍼즐을 합니까? 스크램블 된 이미지 조각을 어떻게 큰 단일 이미지로 배열합니까? 자연스러운 이미지를 하나의 이미지로 어떻게 스티치 할 수 있습니까?\n",
    "\n",
    "대답은 특정 패턴이나 고유 한 특정 기능을 찾고 쉽게 추적하고 쉽게 비교할 수 있다는 것입니다. 그러한 지형 지물의 정의를 찾아 내면 단어로 표현하는 것이 어려울지 모르지만 그 지형 지물을 알 수 있습니다. 어떤 사람이 여러 이미지를 통해 비교할 수 있는 좋은 특징 하나를 지적 해 줄 것을 요구한다면, 그 하나를 지적 할 수 있습니다. 그렇기 때문에 어린 아이들 조차도 단순히 이 게임을 할 수 있는 것입니다. Google은 이미지에서 이러한 기능을 검색하고 해당 기능을 찾고 다른 이미지에서 동일한 기능을 찾고 정렬합니다. 그게 전부입니다. (직소 퍼즐에서 우리는 다른 이미지의 연속성을 더 많이 봤습니다.) 이러한 모든 능력은 본질적으로 우리 안에 존재 합니다.\n",
    "\n",
    "그래서 우리의 기본적인 질문 하나가 더 많아지지만 더 구체적이 됩니다. 이 기능들은 무엇입니까? (답은 컴퓨터에서도 이해할 수 있어야 합니다.)\n",
    "\n",
    "인간이 이러한 특징을 어떻게 발견하는지 말하는 것은 어렵습니다. 이것은 이미 우리의 두뇌에 프로그래밍되어 있습니다. 그러나 어떤 그림을 깊이 들여다 보면 다른 패턴을 찾으면 흥미로운 것을 발견 할 것입니다. For example, take below image:\n",
    "\n",
    "![](feature_building.jpg)\n",
    "이미지는 매우 간단합니다. 이미지 상단에는 6 개의 작은 이미지 조각이 제공됩니다. 원래 이미지에서 이러한 조각의  정확한 위치를 찾는 것이 좋습니다. 얼마나 많은 정확한 결과를 찾을 수 있습니까?\n",
    "\n",
    "A와 B는 평평한 표면이며 많은 지역에 퍼져 있습니다. 이 조각의 정확한 위치를 찾는 것은 어렵습니다.\n",
    "\n",
    "C와 D는 훨씬 더 간단합니다. 그것들은 건물의 가장자리입니다. 대략적인 위치를 찾을 수 있지만 정확한 위치는 여전히 어렵습니다. 이는 패턴이 가장자리를 따라 어디에서나 동일하기 때문입니다. 그러나 가장자리에서, 그것은 다릅니다. 그러므로 가장자리는 평평한 영역에 비해 더 나은 특징이지만, (가장자리의 연속성을 비교하기 위한 직소 퍼즐에서 좋은) 충분하지 않습니다.\n",
    "\n",
    "마지막으로, E와 F는 건물의 일부 코너입니다. 그리고 그들은 쉽게 발견 될 수 있습니다. 모서리에서 이 조각을  옮길 때마다 모양이 달라집니다. 그래서 그들은 좋은 특징으로 간주 될 수 있습니다. 이제 더 나은 이해를 위해보다 단순하고 널리 사용되는 이미지로 이동합니다.\n",
    "![](feature_simple.png)\n",
    "위와 똑같이 파란색 조각은 평평하고 찾기 쉽지 않습니다. 파란색 조각을 움직일 때마다 동일하게 보입니다. 검은 색 조각에는 가장자리가 있습니다. 수직 방향 (즉, 그라데이션 방향)으로 이동하면 변경됩니다. 모서리를 따라 이동 (모서리와 평행)되어 보입니다. 그리고 빨간 조각은 모퉁이입니다. 조각을 이동할 때마다 조각이 다르게 보입니다. 그래서 기본적으로 모서리는 이미지에서 좋은 기능으로 간주됩니다. (모서리뿐만 아니라 어떤 경우에는 얼룩이 좋은 기능으로 간주 됩니다).\n",
    "\n",
    "이제 우리는 \"이 기능들은 무엇입니까?\"라는 질문에 대답 했습니다. 그러나 다음 질문이 생깁니다. 우리가 어떻게 그것들을 찾습니까? 아니면 어떻게 구석을 찾을 수 있습니까? 우리는 직관적 인 방법으로 대답 했습니다. 즉, 주변의 모든 지역에서 (소량으로) 움직일 때 최대 변동을 갖는 이미지의 영역을 찾습니다. 이것은 앞으로의 장에서 컴퓨터 언어로 투영 될 것입니다. 따라서 이러한 이미지 기능을 찾는 것을 **피쳐 탐지** 라고 합니다.\n",
    "\n",
    "이미지의 기능을 발견 했습니다. 일단 당신이 그것을 발견하면, 당신은 다른 이미지에서 동일을 찾을 수 있어야합니다. 어떻게 이뤄지나요? 우리는 그 특징을 둘러싼 지역을 취합니다. \"위쪽은 푸른 하늘, 아래쪽 부분은 건물의 한 부분, 그 건물은 유리 같은 곳\"과 같은 다른 말로 설명합니다. 이미지. 기본적으로이 기능을 설명하고 있습니다. 마찬가지로 컴퓨터는 다른 이미지에서 찾을 수 있도록 지형지 물 주위 영역을 설명해야 합니다. 소위 말하는 **Feature Description(기능 설명)** 이라고 합니다. 기능과 설명이 있으면 모든 이미지에서 동일한 기능을 찾아서 정렬하거나 함께 결합하거나 원하는대로 할 수 있습니다.\n",
    "\n",
    "그래서이 모듈에서 우리는 OpenCV의 다양한 알고리즘을 찾고 기능을 찾고 설명하고 일치 시킵니다"
   ]
  },
  {
   "cell_type": "code",
   "execution_count": null,
   "metadata": {},
   "outputs": [],
   "source": []
  }
 ],
 "metadata": {
  "kernelspec": {
   "display_name": "Python 3",
   "language": "python",
   "name": "python3"
  },
  "language_info": {
   "codemirror_mode": {
    "name": "ipython",
    "version": 3
   },
   "file_extension": ".py",
   "mimetype": "text/x-python",
   "name": "python",
   "nbconvert_exporter": "python",
   "pygments_lexer": "ipython3",
   "version": "3.6.6"
  },
  "toc": {
   "base_numbering": 1,
   "nav_menu": {},
   "number_sections": true,
   "sideBar": true,
   "skip_h1_title": false,
   "title_cell": "Table of Contents",
   "title_sidebar": "Contents",
   "toc_cell": false,
   "toc_position": {},
   "toc_section_display": true,
   "toc_window_display": false
  },
  "varInspector": {
   "cols": {
    "lenName": 16,
    "lenType": 16,
    "lenVar": 40
   },
   "kernels_config": {
    "python": {
     "delete_cmd_postfix": "",
     "delete_cmd_prefix": "del ",
     "library": "var_list.py",
     "varRefreshCmd": "print(var_dic_list())"
    },
    "r": {
     "delete_cmd_postfix": ") ",
     "delete_cmd_prefix": "rm(",
     "library": "var_list.r",
     "varRefreshCmd": "cat(var_dic_list()) "
    }
   },
   "types_to_exclude": [
    "module",
    "function",
    "builtin_function_or_method",
    "instance",
    "_Feature"
   ],
   "window_display": false
  }
 },
 "nbformat": 4,
 "nbformat_minor": 2
}
