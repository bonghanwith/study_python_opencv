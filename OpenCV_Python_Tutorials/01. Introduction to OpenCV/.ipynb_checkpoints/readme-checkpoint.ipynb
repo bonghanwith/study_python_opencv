{
 "cells": [
  {
   "cell_type": "markdown",
   "metadata": {},
   "source": [
    "### Introduction to OpenCV \n",
    "  \n",
    "Learn how to setup OpenCV-Python on your computer! [링크](https://docs.opencv.org/3.4/d6/d00/tutorial_py_root.html)\n",
    "\n",
    "#### 맥 & 윈도우에 개발 환경 설정하기\n",
    "* 맥\n",
    "    1. [https://www.anaconda.com/download/#macos](https://www.anaconda.com/download/#macos)\n",
    "    2. 다운로드 후 설치\n",
    "    3. 새로운 환경 추가 후 not installed 항목 중 opencv(3개) 부분 설\n",
    "    4. Applications에 설치 안된 jupyter nootbook & R 설\n",
    "* 윈도우 \n",
    "    1. 맥과 동일\n",
    "    \n",
    "> Numpy와 Matplotlib는 자동적으로 설치  \n",
    "\n"
   ]
  }
 ],
 "metadata": {
  "kernelspec": {
   "display_name": "Python 3",
   "language": "python",
   "name": "python3"
  },
  "language_info": {
   "codemirror_mode": {
    "name": "ipython",
    "version": 3
   },
   "file_extension": ".py",
   "mimetype": "text/x-python",
   "name": "python",
   "nbconvert_exporter": "python",
   "pygments_lexer": "ipython3",
   "version": "3.6.6"
  },
  "toc": {
   "base_numbering": 1,
   "nav_menu": {},
   "number_sections": true,
   "sideBar": true,
   "skip_h1_title": false,
   "title_cell": "Table of Contents",
   "title_sidebar": "Contents",
   "toc_cell": false,
   "toc_position": {},
   "toc_section_display": true,
   "toc_window_display": false
  },
  "varInspector": {
   "cols": {
    "lenName": 16,
    "lenType": 16,
    "lenVar": 40
   },
   "kernels_config": {
    "python": {
     "delete_cmd_postfix": "",
     "delete_cmd_prefix": "del ",
     "library": "var_list.py",
     "varRefreshCmd": "print(var_dic_list())"
    },
    "r": {
     "delete_cmd_postfix": ") ",
     "delete_cmd_prefix": "rm(",
     "library": "var_list.r",
     "varRefreshCmd": "cat(var_dic_list()) "
    }
   },
   "types_to_exclude": [
    "module",
    "function",
    "builtin_function_or_method",
    "instance",
    "_Feature"
   ],
   "window_display": false
  }
 },
 "nbformat": 4,
 "nbformat_minor": 2
}
