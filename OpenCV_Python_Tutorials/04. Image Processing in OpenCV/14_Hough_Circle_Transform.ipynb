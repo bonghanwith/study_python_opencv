{
 "cells": [
  {
   "cell_type": "markdown",
   "metadata": {},
   "source": [
    "### Hough Circle Transform\n",
    "Learn to detect circles in an image\n",
    "\n",
    "#### 목표\n",
    "In this chapter,\n",
    "\n",
    "* We will learn to use Hough Transform to find circles in an image.\n",
    "* We will see these functions: cv.HoughCircles()\n",
    "\n",
    "#### 이론\n",
    "원은 \\\\((x−x_{center})^2 + (y−y_{center})^2 = r^2 \\\\)로 수학적으로 표현됩니다. 여기서 \\\\((x_{center},y_{center}) \\\\)는 원의 중심이고 r은 원의 반지름입니다. 방정식에서 우리는 3 개의 매개 변수를 볼 수 있습니다. 그래서 우리는 허프 변환을위한 3D 누산기가 필요합니다. 이것은 매우 효과적이지 않습니다. 그래서 OpenCV는 가장자리의 그라디언트 정보를 사용하는 더 까다로운 방법 인 Hough Gradient Method를 사용합니다.\n",
    "\n",
    "여기서 사용하는 함수는 cv.HoughCircles ()입니다. 문서에 잘 설명되어있는 많은 인수가 있습니다. 그래서 우리는 직접 코드로갑니다."
   ]
  },
  {
   "cell_type": "code",
   "execution_count": 5,
   "metadata": {},
   "outputs": [],
   "source": [
    "import numpy as np\n",
    "import cv2 as cv\n",
    "import bonghanUtil as util\n",
    "\n",
    "img = cv.imread('opencv-logo-white.png', 0)\n",
    "img = cv.medianBlur(img, 5)\n",
    "\n",
    "cimg    = cv.cvtColor(img,cv.COLOR_GRAY2BGR)\n",
    "circles = cv.HoughCircles(img, cv.HOUGH_GRADIENT, 1, 20, param1 = 50, param2 = 30, minRadius=0, maxRadius=0)\n",
    "circles = np.uint16(np.around(circles))\n",
    "\n",
    "for i in circles[0,:]:\n",
    "    # draw the outer circle\n",
    "    cv.circle(cimg, (i[0], i[1]), i[2], (0, 255, 0), 2)\n",
    "    \n",
    "    # draw the center of the circle\n",
    "    cv.circle(cimg,(i[0],i[1]), 2, (0, 0, 255), 3)\n",
    "    \n",
    "cv.imwrite('detected_circles.jpg', cimg)\n",
    "util.showImage(cimg, 'detected circles')\n"
   ]
  },
  {
   "cell_type": "markdown",
   "metadata": {},
   "source": [
    "결과 ![](detected_circles.jpg)"
   ]
  }
 ],
 "metadata": {
  "kernelspec": {
   "display_name": "Python 3",
   "language": "python",
   "name": "python3"
  },
  "language_info": {
   "codemirror_mode": {
    "name": "ipython",
    "version": 3
   },
   "file_extension": ".py",
   "mimetype": "text/x-python",
   "name": "python",
   "nbconvert_exporter": "python",
   "pygments_lexer": "ipython3",
   "version": "3.6.6"
  },
  "toc": {
   "base_numbering": 1,
   "nav_menu": {},
   "number_sections": true,
   "sideBar": true,
   "skip_h1_title": false,
   "title_cell": "Table of Contents",
   "title_sidebar": "Contents",
   "toc_cell": false,
   "toc_position": {},
   "toc_section_display": true,
   "toc_window_display": false
  },
  "varInspector": {
   "cols": {
    "lenName": 16,
    "lenType": 16,
    "lenVar": 40
   },
   "kernels_config": {
    "python": {
     "delete_cmd_postfix": "",
     "delete_cmd_prefix": "del ",
     "library": "var_list.py",
     "varRefreshCmd": "print(var_dic_list())"
    },
    "r": {
     "delete_cmd_postfix": ") ",
     "delete_cmd_prefix": "rm(",
     "library": "var_list.r",
     "varRefreshCmd": "cat(var_dic_list()) "
    }
   },
   "types_to_exclude": [
    "module",
    "function",
    "builtin_function_or_method",
    "instance",
    "_Feature"
   ],
   "window_display": false
  }
 },
 "nbformat": 4,
 "nbformat_minor": 2
}
