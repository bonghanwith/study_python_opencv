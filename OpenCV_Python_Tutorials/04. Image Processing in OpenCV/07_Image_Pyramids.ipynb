{
 "cells": [
  {
   "cell_type": "markdown",
   "metadata": {},
   "source": [
    "### Image Pyramids\n",
    "\n",
    "#### Goal\n",
    "In this chapter,\n",
    "* We will learn about Image Pyramids\n",
    "* We will use Image pyramids to create a new fruit, “Orapple”\n",
    "* We will see these functions: cv2.pyrUp(), cv2.pyrDown()\n",
    "\n",
    "#### Theory\n",
    "일반적으로 우리는 일정한 크기의 이미지로 작업했습니다. 그러나 어떤 경우에는 같은 이미지의 다른 해상도의 이미지로 작업해야합니다. 예를 들어 얼굴과 같은 이미지에서 무언가를 검색하는 동안 이미지에 어떤 크기의 물체가 나타날지 확신 할 수 없습니다. 이 경우 해상도가 다른 이미지 세트를 만들어 모든 이미지에서 개체를 검색해야합니다. 서로 다른 해상도의 이미지 세트를 Image Pyramids라고 부릅니다. 왜냐하면 피라미드처럼 맨 아래에 가장 큰 이미지가 가장 큰 이미지로 스택에 보관되어 있기 때문입니다.\n",
    "\n",
    "이미지 피라미드에는 두 가지 종류가 있습니다. 1) 가우시안 피라미드와 2) 라 플라시 피라미드\n",
    "\n",
    "가우시안 피라미드의 고레벨 (저해상도)은 하위 레벨 (고해상도) 이미지에서 연속적인 행과 열을 제거하여 형성됩니다. 그 다음 상위 레벨의 각 픽셀은 가우시안 가중치가있는 기본 레벨에서 5 픽셀의 기여로 형성됩니다. 이렇게하면 M \\ times N이미지가 M / 2 \\ times N / 2이미지 가 됩니다. 따라서 면적은 원래 면적의 1/4로 줄어 듭니다. 이것은 옥타브 (Octave)라고 불립니다. 피라미드에서 위쪽으로 갈수록 같은 패턴이 계속됩니다 (즉, 해상도가 감소합니다). 마찬가지로 확장하면서 면적은 각 단계에서 4 배가됩니다. cv2.pyrDown () 및 cv2.pyrUp () 함수를 사용하여 가우시안 피라미드를 찾을 수 있습니다."
   ]
  },
  {
   "cell_type": "code",
   "execution_count": 4,
   "metadata": {
    "scrolled": true
   },
   "outputs": [
    {
     "data": {
      "text/plain": [
       "-1"
      ]
     },
     "execution_count": 4,
     "metadata": {},
     "output_type": "execute_result"
    }
   ],
   "source": [
    "import cv2\n",
    "import numpy as np\n",
    "\n",
    "img = cv2.imread('messi5.jpg')\n",
    "lower_reso = cv2.pyrDown(img)\n",
    "\n",
    "cv2.imshow('orignal', img)\n",
    "cv2.imshow('res1', lower_reso)\n",
    "lower_reso = cv2.pyrDown(lower_reso)\n",
    "cv2.imshow('res2', lower_reso)\n",
    "lower_reso = cv2.pyrDown(lower_reso)\n",
    "cv2.imshow('res3', lower_reso)\n",
    "\n",
    "cv2.waitKey(0);\n",
    "cv2.destroyAllWindows()\n",
    "cv2.waitKey(1)\n"
   ]
  }
 ],
 "metadata": {
  "kernelspec": {
   "display_name": "Python 3",
   "language": "python",
   "name": "python3"
  },
  "language_info": {
   "codemirror_mode": {
    "name": "ipython",
    "version": 3
   },
   "file_extension": ".py",
   "mimetype": "text/x-python",
   "name": "python",
   "nbconvert_exporter": "python",
   "pygments_lexer": "ipython3",
   "version": "3.6.6"
  }
 },
 "nbformat": 4,
 "nbformat_minor": 2
}
