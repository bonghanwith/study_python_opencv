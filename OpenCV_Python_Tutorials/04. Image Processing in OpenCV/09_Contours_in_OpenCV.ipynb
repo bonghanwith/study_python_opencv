{
 "cells": [
  {
   "cell_type": "markdown",
   "metadata": {},
   "source": [
    "### OpenCV의 윤곽\n",
    "All about Contours in OpenCV\n",
    "\n",
    "#### 윤곽선 : 시작하기\n",
    "Learn to find and draw Contours\n",
    "\n",
    "##### 목표\n",
    "* 윤곽선이 무엇인지 이해하십시오.\n",
    "* 등고선 찾기, 등고선 그리기 등을 배우십시오.\n",
    "* 다음 함수를 볼 수 있습니다 : [cv.findContours()](https://docs.opencv.org/3.4/d3/dc0/group__imgproc__shape.html#ga17ed9f5d79ae97bd4c7cf18403e1689a), [cv.drawContours()](https://docs.opencv.org/3.4/d6/d6e/group__imgproc__draw.html#ga746c0625f1781f1ffc9056259103edbc)\n",
    "\n",
    "##### 윤곽석인란 무었인가\n",
    "윤곽선은 동일한 색상이나 강도를 가진 모든 연속 점 (경계를 따라)을 결합하는 곡선으로 간단히 설명 할 수 있습니다. 윤곽선은 형상 분석 및 객체 감지 및 인식에 유용한 도구입니다.\n",
    "\n",
    "* 정확성을 높이려면 이진 이미지를 사용하십시오. 따라서 윤곽선을 찾기 전에 임계점 또는 캐니 에지 감지를 적용하십시오.\n",
    "* OpenCV 3.2부터 findContours () 는 더 이상 원본 이미지를 수정하지 않지만 수정 된 이미지를 세 개의 반환 매개 변수 중 첫 번째로 반환합니다.\n",
    "* OpenCV에서 윤곽선을 찾는 것은 검정색 배경에서 흰색 물체를 찾는 것과 같습니다. 그러므로 찾을 수있는 물체는 흰색이어야하고 배경은 검은 색이어야합니다.\n",
    "\n",
    "이진 이미지의 윤곽선을 찾는 방법을 살펴 보겠습니다."
   ]
  },
  {
   "cell_type": "code",
   "execution_count": 1,
   "metadata": {},
   "outputs": [],
   "source": [
    "import numpy as np\n",
    "import cv2 as cv\n",
    "import bonghanUtil as util\n",
    "\n",
    "im = cv.imread('test.png')\n",
    "imgray = cv.cvtColor(im, cv.COLOR_BGR2GRAY)\n",
    "\n",
    "ret, thresh = cv.threshold(imgray, 127, 255, 0)\n",
    "im2, contours, hierarchy = cv.findContours(thresh, cv.RETR_TREE, cv.CHAIN_APPROX_SIMPLE)"
   ]
  },
  {
   "cell_type": "markdown",
   "metadata": {},
   "source": [
    "See, cv.findContours () 함수 에는 세 개의 인수가 있습니다. 첫 번째는 소스 이미지이고, 두 번째는 등고선 검색 모드이고, 세 번째는 등고선 근사 방법입니다. 그리고 수정 된 이미지, 등고선 및 계층 구조를 출력합니다. 윤곽은 이미지의 모든 윤곽을 파이썬으로 나타낸 목록입니다. 각각의 개별 윤곽은 객체의 경계 지점의 (x, y) 좌표의 넘파이 배열입니다.\n",
    "\n",
    "##### How to draw the contours?\n",
    "윤곽선을 그리려면 cv.drawContours 함수가 사용됩니다. 또한 경계 지점이있는 경우 모든 모양을 그리는 데 사용할 수 있습니다. 첫 번째 인수는 소스 이미지이고, 두 번째 인수는 파이썬 목록으로 전달되어야하는 등고선이며, 세 번째 인수는 등고선 색인입니다 (개별 윤곽선을 그리는 데 유용합니다. 모든 윤곽선을 그리려면 -1을 전달하고 나머지 인수는 색상, 두께 기타\n",
    "\n",
    "* To draw all the contours in an image:"
   ]
  },
  {
   "cell_type": "code",
   "execution_count": 10,
   "metadata": {},
   "outputs": [],
   "source": [
    "img = np.zeros(im.shape, np.uint8)\n",
    "\n",
    "resultImg = cv.drawContours(img, contours, -1, (0,255,0), 3)\n",
    "\n",
    "util.showImage(resultImg)"
   ]
  },
  {
   "cell_type": "markdown",
   "metadata": {},
   "source": [
    "* To draw an individual contour, say 1st contour:"
   ]
  },
  {
   "cell_type": "code",
   "execution_count": 12,
   "metadata": {},
   "outputs": [],
   "source": [
    "img = np.zeros(im.shape, np.uint8)\n",
    "resultImg = cv.drawContours(img, contours, 2, (0,255,0), 1)\n",
    "\n",
    "util.showImage(resultImg)"
   ]
  },
  {
   "cell_type": "markdown",
   "metadata": {},
   "source": [
    "* But most of the time, below method will be useful:"
   ]
  },
  {
   "cell_type": "code",
   "execution_count": 13,
   "metadata": {},
   "outputs": [],
   "source": [
    "img = np.zeros(im.shape, np.uint8)\n",
    "cnt = contours[2]\n",
    "resultImg = cv.drawContours(img, [cnt], 0, (0,255,0), 3)\n",
    "util.showImage(resultImg)"
   ]
  },
  {
   "cell_type": "markdown",
   "metadata": {},
   "source": [
    "* 결과\n",
    "![](contour_01.png '이미지')\n",
    "\n",
    "array([[[ 16,  22]], [[ 16, 147]], [[205, 147]], [[205,  22]]], dtype=int32)\n",
    "\n",
    "![](contour_02.png)\n",
    "array([[[ 57,  59]], [[ 58,  58]], [[161,  58]], [[162,  59]],  \n",
    "       [[162, 105]], [[161, 106]], [[ 58, 106]], [[ 57, 105]]], dtype=int32)\n",
    "\n",
    "![](contour_03.png)\n",
    "array([[[ 91,  70]], [[ 91,  95]], [[133,  95]], [[133,  70]]], dtype=int32)\n"
   ]
  },
  {
   "cell_type": "markdown",
   "metadata": {},
   "source": [
    "##### 윤곽선 근사 방법\n",
    "\n",
    "이것은 cv.findContours 함수 의 세 번째 인수입니다 . 실제로 그것이 무엇을 나타내는가?\n",
    "\n",
    "위에서 우리는 등고선이 동일한 강도를 지닌 모양의 경계라고 말했다. 도형 경계의 (x, y) 좌표를 저장합니다. 그러나 그것은 모든 좌표를 저장합니까? 이것은이 윤곽 근사법으로 지정됩니다.\n",
    "\n",
    "**cv.CHAIN_APPROX_NONE** 를 건네 주면 모든 경계 지점이 저장됩니다. 그러나 실제로 모든 포인트가 필요합니까? 예를 들어, 직선의 윤곽을 발견했습니다. 그 라인을 나타 내기 위해 라인의 모든 포인트가 필요합니까? 아니요, 우리는 그 라인의 두 종점 만 있으면됩니다. 이것이 **cv.CHAIN_APPROX_SIMPLE**의 기능 입니다. 모든 중복 점을 제거하고 윤곽을 압축하여 메모리를 절약합니다.\n",
    "\n",
    "아래의 사각형 이미지는이 기법을 보여줍니다. 윤곽선 배열의 모든 좌표에 원을 그립니다 (파란색으로 그려 짐). 첫 번째 이미지는 cv.CHAIN_APPROX_NONE (734 점)으로 얻은 점을 표시 하고 두 번째 이미지는 cv.CHAIN_APPROX_SIMPLE (4 점 만)으로 표시합니다. 얼마나 많은 메모리가 절약되는지보십시오!\n"
   ]
  },
  {
   "cell_type": "code",
   "execution_count": 14,
   "metadata": {
    "scrolled": true
   },
   "outputs": [
    {
     "name": "stdout",
     "output_type": "stream",
     "text": [
      "cv.CHAIN_APPROX_SIMPLE 점의 개수 4\n",
      "cv.CHAIN_APPROX_SIMPLE 점의 개수 8\n",
      "cv.CHAIN_APPROX_SIMPLE 점의 개수 4\n",
      "cv.CHAIN_APPROX_NONE 점의 개수 628\n",
      "cv.CHAIN_APPROX_NONE 점의 개수 302\n",
      "cv.CHAIN_APPROX_NONE 점의 개수 134\n"
     ]
    }
   ],
   "source": [
    "for contour in contours:\n",
    "    print('cv.CHAIN_APPROX_SIMPLE 점의 개수', len(contour))\n",
    "\n",
    "im2, contours, hierarchy = cv.findContours(thresh, cv.RETR_TREE, cv.CHAIN_APPROX_NONE)\n",
    "\n",
    "for contour in contours:\n",
    "    print('cv.CHAIN_APPROX_NONE 점의 개수', len(contour))\n",
    "    "
   ]
  },
  {
   "cell_type": "markdown",
   "metadata": {},
   "source": [
    "#### 윤관선 특징\n",
    "Learn to find different features of contours like area, perimeter, bounding rectangle etc.\n",
    "\n",
    "##### 목표\n",
    "In this article, we will learn\n",
    "\n",
    "To find the different features of contours, like area, perimeter, centroid, bounding box etc\n",
    "You will see plenty of functions related to contours.\n",
    "\n",
    "##### 1. Moments\n",
    "이미지 순간은 물체의 중심, 물체의 면적 등과 같은 일부 기능을 계산하는 데 도움이됩니다. 이미지 순간 에 위키 백과 페이지를 확인하십시오.\n",
    "\n",
    "함수 cv.moments () 는 모든 모멘트 값의 사전을 계산합니다. 아래 참조 :\n"
   ]
  },
  {
   "cell_type": "code",
   "execution_count": 15,
   "metadata": {
    "scrolled": true
   },
   "outputs": [
    {
     "name": "stdout",
     "output_type": "stream",
     "text": [
      "{'m00': 20612.5, 'm10': 2132893.833333333, 'm01': 1547028.6666666665, 'm20': 278538862.4166666, 'm11': 161127680.4583333, 'm02': 140876415.25, 'm30': 40728463295.15, 'm21': 21199448440.9, 'm12': 14743092154.3, 'm03': 14334760462.7, 'mu20': 57836079.917146444, 'mu11': 1047733.672488749, 'mu02': 24767369.986764386, 'mu30': -62816675.30971527, 'mu21': 77458662.01050472, 'mu12': 8528884.363070488, 'mu03': 43844000.16923523, 'nu20': 0.13612488060637562, 'nu11': 0.0024659800816225035, 'nu02': 0.05829328832818613, 'nu30': -0.0010297890633591677, 'nu21': 0.0012698233806161868, 'nu12': 0.0001398187948731924, 'nu03': 0.000718759336523068}\n"
     ]
    },
    {
     "data": {
      "text/plain": [
       "\"\\nimport numpy as np\\nimport cv2 as cv\\nimport bonghanUtil as util\\n\\nim = cv.imread('test.png')\\nimgray = cv.cvtColor(im, cv.COLOR_BGR2GRAY)\\n\\nret, thresh = cv.threshold(imgray, 127, 255, 0)\\nim2, contours, hierarchy = cv.findContours(thresh, cv.RETR_TREE, cv.CHAIN_APPROX_SIMPLE)\\n\\n#cnt = contours[0]\\n#M = cv.moments(cnt)\\n\\nbImg = np.zeros(im2.shape, np.uint8)\\nresultImg = cv.drawContours(bImg, contours, -1, (0, 255, 0), 3)\\n\\nutil.showImage(resultImg)\\n#print(M)\\n\""
      ]
     },
     "execution_count": 15,
     "metadata": {},
     "output_type": "execute_result"
    }
   ],
   "source": [
    "import numpy as np\n",
    "import cv2 as cv\n",
    "import bonghanUtil as util\n",
    "\n",
    "im = cv.imread('star.png')\n",
    "imgray = cv.cvtColor(im, cv.COLOR_BGR2GRAY)\n",
    "\n",
    "ret, thresh = cv.threshold(imgray, 127, 255, 0)\n",
    "im2, contours, hierarchy = cv.findContours(thresh, 1, 2)\n",
    "\n",
    "cnt = contours[0]\n",
    "M = cv.moments(cnt)\n",
    "\n",
    "img = np.zeros(im.shape, np.uint8)\n",
    "resultImg = cv.drawContours(img, [cnt], 0, (0,255,0), 1)\n",
    "\n",
    "print(M)\n",
    "util.showImage(resultImg)\n",
    "\n",
    "'''\n",
    "import numpy as np\n",
    "import cv2 as cv\n",
    "import bonghanUtil as util\n",
    "\n",
    "im = cv.imread('test.png')\n",
    "imgray = cv.cvtColor(im, cv.COLOR_BGR2GRAY)\n",
    "\n",
    "ret, thresh = cv.threshold(imgray, 127, 255, 0)\n",
    "im2, contours, hierarchy = cv.findContours(thresh, cv.RETR_TREE, cv.CHAIN_APPROX_SIMPLE)\n",
    "\n",
    "#cnt = contours[0]\n",
    "#M = cv.moments(cnt)\n",
    "\n",
    "bImg = np.zeros(im2.shape, np.uint8)\n",
    "resultImg = cv.drawContours(bImg, contours, -1, (0, 255, 0), 3)\n",
    "\n",
    "util.showImage(resultImg)\n",
    "#print(M)\n",
    "'''"
   ]
  },
  {
   "cell_type": "markdown",
   "metadata": {},
   "source": [
    "From this moments, you can extract useful data like area, centroid etc. Centroid is given by the relations, Cx = M10 / M00 and Cy = M01 / M00. This can be done as follows:"
   ]
  },
  {
   "cell_type": "code",
   "execution_count": 5,
   "metadata": {},
   "outputs": [
    {
     "name": "stdout",
     "output_type": "stream",
     "text": [
      "(149, 204, 3) 103 75\n"
     ]
    }
   ],
   "source": [
    "cx = int(M['m10'] / M['m00'])\n",
    "cy = int(M['m01'] / M['m00'])\n",
    "\n",
    "print(img.shape, cx, cy)\n",
    "#util.showImage(img)"
   ]
  },
  {
   "cell_type": "markdown",
   "metadata": {},
   "source": [
    "##### 2. Contour Area\n",
    "Contour area is given by the function cv.contourArea() or from moments, M['m00']."
   ]
  },
  {
   "cell_type": "code",
   "execution_count": 6,
   "metadata": {
    "scrolled": true
   },
   "outputs": [
    {
     "name": "stdout",
     "output_type": "stream",
     "text": [
      "20612.5\n"
     ]
    }
   ],
   "source": [
    "area = cv.contourArea(cnt)\n",
    "\n",
    "print(area)\n"
   ]
  },
  {
   "cell_type": "markdown",
   "metadata": {},
   "source": [
    "##### 3. Contour Perimeter\n",
    "아크 길이라고도합니다. cv.arcLength () 함수를 사용하여 찾을 수 있습니다 . 두 번째 인수는 모양이 닫힌 윤곽 (True로 전달 된 경우)인지 또는 곡선인지 지정합니다."
   ]
  },
  {
   "cell_type": "code",
   "execution_count": 7,
   "metadata": {},
   "outputs": [
    {
     "name": "stdout",
     "output_type": "stream",
     "text": [
      "938.4924212694168\n"
     ]
    }
   ],
   "source": [
    "perimeter = cv.arcLength(cnt, True)\n",
    "\n",
    "print(perimeter)"
   ]
  },
  {
   "cell_type": "markdown",
   "metadata": {},
   "source": [
    "##### 4. Contour Approximation\n",
    "우리가 지정한 정밀도에 따라 윤곽 셰이프를 정점 수가 적은 다른 모양으로 근사합니다. Douglas-Peucker 알고리즘을 구현 한 것입니다 . 위키 백과 페이지에서 알고리즘 및 데모를 확인하십시오.\n",
    "\n",
    "이를 이해하기 위해 이미지에서 사각형을 찾으려고했지만 이미지의 일부 문제로 인해 완벽한 사각형이 아니라 \"나쁜 모양\"(아래 첫 번째 그림 참조)을 얻었습니다. 이제이 함수를 사용하여 모양을 근사시킬 수 있습니다. 이 두 번째 인수는 엡실론 (epsilon)이라고하며, 이것은 윤곽선에서 근사화 된 윤곽선까지의 최대 거리입니다. 이것은 정확도 매개 변수입니다. 올바른 출력을 얻으려면 엡실론을 현명하게 선택해야합니다."
   ]
  },
  {
   "cell_type": "code",
   "execution_count": 17,
   "metadata": {},
   "outputs": [
    {
     "name": "stdout",
     "output_type": "stream",
     "text": [
      "93.84924212694169 [[[ 11  15]]\n",
      "\n",
      " [[ 11 138]]\n",
      "\n",
      " [[194 138]]\n",
      "\n",
      " [[194  15]]]\n"
     ]
    }
   ],
   "source": [
    "epsilon = 0.1 * cv.arcLength(cnt, True)\n",
    "approx = cv.approxPolyDP(cnt, epsilon, True)\n",
    "\n",
    "img = np.zeros(im.shape, np.uint8)\n",
    "resultImg = cv.drawContours(img, [cnt], 0, (0,255,0), 1)\n",
    "\n",
    "util.showImage(resultImg)\n",
    "\n",
    "resultImg = cv.drawContours(img, [approx], 0, (0,255,0), 1)\n",
    "\n",
    "util.showImage(resultImg)\n",
    "\n",
    "print(epsilon, approx)"
   ]
  },
  {
   "cell_type": "markdown",
   "metadata": {},
   "source": [
    "##### 5. Convex Hull 볼록 선체\n",
    "볼록 선체는 윤곽 근사와 유사하게 보이지만 그렇지 않습니다 (두 경우 모두 동일한 결과를 제공 할 수 있음). 여기서, cv.convexHull () 함수는 커브의 convexity 결함을 검사하고 그것을 수정합니다. 일반적으로 말하자면, 볼록한 곡선은 항상 밖으로 튀어 나오거나 적어도 평평한 곡선입니다. 그리고 그것이 내부로 부풀어 오르는 경우, 이는 볼록 결함으로 불립니다. 예를 들어, 손의 아래 이미지를 확인하십시오. 빨간색 선은 볼록한 선체를 보여줍니다. 양면 화살표는 컨투어로부터의 선체의 국부적 인 최대 편차 인 볼록 결함을 보여줍니다.\n",
    "\n",
    "![이미지](convexitydefects.jpg)\n",
    "\n",
    "구문에 대해 약간 논의 할 사항이 있습니다.\n",
    "\n",
    "hull = cv.convexHull(points[, hull[, clockwise[, returnPoints]]\n",
    "인수 세부 정보 :\n",
    "\n",
    "포인트 는 우리가 전달하는 윤곽입니다.\n",
    "선체 가 출력물이며, 일반적으로 우리는 그것을 피합니다.\n",
    "시계 방향 : 방향 플래그. True이면 출력 볼록 선체는 시계 방향으로 향하게됩니다. 그렇지 않으면 반 시계 방향으로 향하게됩니다.\n",
    "returnPoints : 기본적으로 True입니다. 그런 다음 선체 점의 좌표를 반환합니다. False이면 선체 점에 해당하는 윤곽 점의 인덱스를 반환합니다.\n",
    "위 이미지와 같이 볼록한 선체를 얻으려면 다음을 수행하면 충분합니다.\n",
    "\n",
    "hull = cv.convexHull(cnt)\n",
    "\n",
    "그러나 convexity 결함을 찾으려면 returnPoints = False를 전달해야합니다. 이를 이해하기 위해 위의 직사각형 이미지를 사용합니다. 처음에는 그 윤곽선을 cnt로 찾았습니다. 이제 returnPoints = True로 볼록한 선체를 발견했습니다. 다음 값을 얻었습니다 : [[234 202]], [[51 202]], [51 79]], [[234 79]]] 직사각형의 점. 이제 returnPoints = False로 동일하게 수행하면 [[129], [67], [0], [142]] 결과를 얻습니다. 이것들은 등고선에서 대응하는 점의 색인입니다. 예를 들어, 첫 번째 값을 확인하십시오 : cnt [129] = [[234, 202]] 이는 첫 번째 결과와 같습니다 (다른 것들도 마찬가지입니다).\n",
    "\n",
    "볼록 결함에 대해 논의 할 때 다시 볼 수 있습니다.\n"
   ]
  },
  {
   "cell_type": "code",
   "execution_count": 19,
   "metadata": {},
   "outputs": [
    {
     "name": "stdout",
     "output_type": "stream",
     "text": [
      "{'m00': 49436.5, 'm10': 8339040.333333333, 'm01': 8222720.833333333, 'm20': 1631991324.9166665, 'm11': 1440453245.4583333, 'm02': 1630346669.75, 'm30': 352381861720.2, 'm21': 285726621565.0333, 'm12': 291100773894.73334, 'm03': 360448030030.85004, 'mu20': 225346564.8515303, 'mu11': 53429473.97558403, 'mu02': 262670197.85304093, 'mu30': 1070792597.583313, 'mu21': -3745937053.6775055, 'mu12': -1682856295.6539383, 'mu03': 1894877132.224121, 'nu20': 0.09220522035498098, 'nu11': 0.02186177732336527, 'nu02': 0.10747695883308965, 'nu30': 0.00197054369843931, 'nu21': -0.006893522305378286, 'nu12': -0.003096903990804602, 'nu03': 0.0034870788242729457}\n"
     ]
    }
   ],
   "source": [
    "import numpy as np\n",
    "import cv2 as cv\n",
    "import bonghanUtil as util\n",
    "\n",
    "im = cv.imread('ConvexHull.jpg')\n",
    "imgray = cv.cvtColor(im, cv.COLOR_BGR2GRAY)\n",
    "\n",
    "blur = cv.GaussianBlur(imgray, (5, 5), 0)\n",
    "_, thresh = cv.threshold(blur, 0, 255, cv.THRESH_BINARY + cv.THRESH_OTSU)\n",
    "\n",
    "im2, contours, hierarchy = cv.findContours(thresh, 1, 2)\n",
    "\n",
    "cnt = contours[0]\n",
    "M = cv.moments(cnt)\n",
    "\n",
    "img = np.zeros(im.shape, np.uint8)\n",
    "resultImg = cv.drawContours(img, [cnt], 0, (0,255,0), 1)\n",
    "\n",
    "print(M)\n",
    "util.showImage(resultImg)\n",
    "\n",
    "#hull\n",
    "hull = cv.convexHull(cnt)\n",
    "\n",
    "resultImg = cv.drawContours(img, hull, -1, (255, 0, 0), 10)\n",
    "\n",
    "util.showImage(resultImg)\n",
    "\n",
    "epsilon = 0.1 * cv.arcLength(cnt, True)\n",
    "approx = cv.approxPolyDP(cnt, epsilon, True)\n",
    "\n",
    "resultImg = cv.drawContours(img, [approx], -1, (0, 0, 255), 1)\n",
    "\n",
    "util.showImage(resultImg)\n"
   ]
  },
  {
   "cell_type": "markdown",
   "metadata": {},
   "source": [
    "##### 6. Checking Convexity\n",
    "커브가 볼록인지 아닌지를 확인하는 함수가 있습니다 (cv.isContourConvex()) . True 또는 False 여부 만 반환합니다. 별로 중요하지 않습니다."
   ]
  },
  {
   "cell_type": "code",
   "execution_count": 15,
   "metadata": {},
   "outputs": [
    {
     "data": {
      "text/plain": [
       "True"
      ]
     },
     "execution_count": 15,
     "metadata": {},
     "output_type": "execute_result"
    }
   ],
   "source": [
    "cv.isContourConvex(contours[2])"
   ]
  },
  {
   "cell_type": "markdown",
   "metadata": {},
   "source": [
    "##### 7. Bounding Rectangle\n",
    "경계 사각형에는 두 가지 유형이 있습니다\n",
    "\n",
    "###### a. 직선 경계 사각형\n",
    "그것은 직사각형이며, 객체의 회전을 고려하지 않습니다. 따라서 경계 사각형의 영역은 최소가되지 않습니다. 이것은 cv.boundingRect () 함수에 의해 발견됩니다 .\n",
    "\n",
    "(x, y)를 직사각형의 왼쪽 위 좌표로하고 (w, h)를 폭과 높이로 놓자."
   ]
  },
  {
   "cell_type": "code",
   "execution_count": 20,
   "metadata": {},
   "outputs": [],
   "source": [
    "x, y, w, h = cv.boundingRect (cnt)\n",
    "cv.rectangle(resultImg, (x, y), (x + w, y + h), (0, 255, 0), 2)\n",
    "\n",
    "util.showImage(resultImg)"
   ]
  },
  {
   "cell_type": "markdown",
   "metadata": {},
   "source": [
    "###### b. 회전 된 사각형\n",
    "여기서 경계 사각형은 최소 면적으로 그려 지므로 회전도 고려합니다. 사용 된 함수는 cv.minAreaRect () 입니다. 다음과 같은 detals - (center (x, y), (width, height), 회전 각도)를 포함하는 Box2D 구조체를 반환합니다. 그러나이 직사각형을 그리려면 직사각형의 네 모퉁이가 필요합니다. 함수 cv.boxPoints ()에 의해 얻어진다."
   ]
  },
  {
   "cell_type": "code",
   "execution_count": 21,
   "metadata": {},
   "outputs": [],
   "source": [
    "rect = cv.minAreaRect(cnt)\n",
    "box = cv.boxPoints(rect)\n",
    "box = np.int0(box)\n",
    "cv.drawContours(img,[box],0,(0,0,255),2)\n",
    "\n",
    "util.showImage(img)"
   ]
  },
  {
   "cell_type": "markdown",
   "metadata": {},
   "source": [
    "##### 8. Minimum Enclosing Circle\n",
    "다음으로 cv.minEnclosingCircle () 함수를 사용하여 객체의 circumcircle을 찾습니다 . 최소 면적의 물체를 완전히 덮는 원입니다."
   ]
  },
  {
   "cell_type": "code",
   "execution_count": 22,
   "metadata": {},
   "outputs": [],
   "source": [
    "(x,y),radius = cv.minEnclosingCircle(cnt)\n",
    "\n",
    "center = (int(x), int(y))\n",
    "radius = int(radius)\n",
    "cv.circle(img, center, radius, (0, 255, 0), 2)\n",
    "\n",
    "util.showImage(img)"
   ]
  },
  {
   "cell_type": "markdown",
   "metadata": {},
   "source": [
    "##### 9. Fitting an Ellipse\n",
    "다음은 타원을 물체에 맞추는 것입니다. 타원이 새겨진 회전 된 사각형을 반환합니다."
   ]
  },
  {
   "cell_type": "code",
   "execution_count": 23,
   "metadata": {},
   "outputs": [],
   "source": [
    "ellipse = cv.fitEllipse (cnt)\n",
    "cv.ellipse (img, ellipse, (0, 255, 0), 2)\n",
    "\n",
    "util.showImage(img)"
   ]
  },
  {
   "cell_type": "markdown",
   "metadata": {},
   "source": [
    "##### 10. Fitting a Line\n",
    "마찬가지로 일련의 점에 선을 맞출 수 있습니다. 아래 이미지는 흰색 점 집합을 포함합니다. 우리는 그것에 직선을 근사 할 수 있습니다."
   ]
  },
  {
   "cell_type": "code",
   "execution_count": 24,
   "metadata": {},
   "outputs": [],
   "source": [
    "rows, cols = img.shape[:2]\n",
    "[vx, vy, x, y] = cv.fitLine(cnt, cv.DIST_L2, 0, 0.01, 0.01)\n",
    "lefty = int((-x * vy / vx) + y)\n",
    "righty = int(((cols - x) * vy / vx) + y)\n",
    "cv.line(img, (cols - 1,righty), (0, lefty), ( 0, 255, 0), 2)\n",
    "\n",
    "util.showImage(img)"
   ]
  },
  {
   "cell_type": "code",
   "execution_count": null,
   "metadata": {},
   "outputs": [],
   "source": [
    "import numpy as np\n",
    "import cv2 as cv\n",
    "import bonghanUtil as util\n",
    "\n",
    "im = cv.imread('lightning.jpg')\n",
    "imgray = cv.cvtColor(im, cv.COLOR_BGR2GRAY)\n",
    "\n",
    "blur = cv.GaussianBlur(imgray, (5, 5), 0)\n",
    "_, thresh = cv.threshold(blur, 0, 255, cv.THRESH_BINARY + cv.THRESH_OTSU)\n",
    "\n",
    "im2, contours, hierarchy = cv.findContours(thresh, 1, 2)\n",
    "\n",
    "cnt = contours[0]\n",
    "\n",
    "img = np.zeros(im.shape, np.uint8)\n",
    "cv.drawContours(img, [cnt], 0, (0,255,0), 1)\n",
    "\n",
    "util.showImage(img)\n",
    "\n",
    "#hull\n",
    "hull = cv.convexHull(cnt)\n",
    "\n",
    "cv.drawContours(img, [hull], 0, (255, 0, 0), 10)\n",
    "\n",
    "util.showImage(img)\n",
    "\n",
    "epsilon = 0.1 * cv.arcLength(cnt, True)\n",
    "approx = cv.approxPolyDP(cnt, epsilon, True)\n",
    "\n",
    "cv.drawContours(img, [approx], -1, (0, 0, 255), 1)\n",
    "\n",
    "util.showImage(img)\n",
    "\n",
    "x, y, w, h = cv.boundingRect (cnt)\n",
    "cv.rectangle(img, (x, y), (x + w, y + h), (0,255,0), 2)\n",
    "\n",
    "util.showImage(img)\n",
    "\n",
    "rect = cv.minAreaRect(cnt)\n",
    "box = cv.boxPoints(rect)\n",
    "box = np.int0(box)\n",
    "cv.drawContours(img,[box],0,(0,0,255),2)\n",
    "\n",
    "util.showImage(img)\n",
    "\n",
    "(x,y),radius = cv.minEnclosingCircle(cnt)\n",
    "\n",
    "center = (int(x), int(y))\n",
    "radius = int(radius)\n",
    "cv.circle(img, center, radius, (0, 255, 0), 2)\n",
    "\n",
    "util.showImage(img)\n",
    "\n",
    "ellipse = cv.fitEllipse (cnt)\n",
    "cv.ellipse (img, ellipse, (0, 255, 0), 2)\n",
    "\n",
    "util.showImage(img)\n",
    "\n",
    "rows, cols = img.shape[:2]\n",
    "[vx, vy, x, y] = cv.fitLine(cnt, cv.DIST_L2, 0, 0.01, 0.01)\n",
    "lefty = int((-x * vy / vx) + y)\n",
    "righty = int(((cols - x) * vy / vx) + y)\n",
    "cv.line(img, (cols - 1,righty), (0, lefty), ( 0, 255, 0), 2)\n",
    "\n",
    "util.showImage(img)"
   ]
  },
  {
   "cell_type": "markdown",
   "metadata": {},
   "source": [
    "####  Contour Properties\n",
    "Learn to find different properties of contours like Solidity, Mean Intensity etc.\n",
    "##### 목표\n",
    "여기서는 Solidity, Equivalent Diameter, Mask 이미지, Mean Intensity 등과 같은 객체의 자주 사용되는 속성을 추출하는 방법을 배웁니다. 더 많은 기능은 Matlab regionprops 문서 에서 찾을 수 있습니다 .\n",
    "\n",
    "* (NB : Centroid, Area, Perimeter 등도이 범주에 속하나 마지막 장에서 보았습니다.) *\n",
    "##### 1. Aspect Ratio\n",
    "It is the ratio of width to height of bounding rect of the object.\n",
    "\n",
    "AspectRatio = Width / Height"
   ]
  },
  {
   "cell_type": "code",
   "execution_count": 5,
   "metadata": {},
   "outputs": [
    {
     "name": "stdout",
     "output_type": "stream",
     "text": [
      "1.081447963800905\n"
     ]
    }
   ],
   "source": [
    "x, y, w, h = cv.boundingRect(cnt)\n",
    "aspect_ratio = float(w) / h\n",
    "\n",
    "print(aspect_ratio)"
   ]
  },
  {
   "cell_type": "markdown",
   "metadata": {},
   "source": [
    "##### 2. Extent\n",
    "Extent is the ratio of contour area to bounding rectangle area.\n",
    "\n",
    "Extent = ObjectArea / BoundingRectangleArea"
   ]
  },
  {
   "cell_type": "code",
   "execution_count": 8,
   "metadata": {},
   "outputs": [
    {
     "name": "stdout",
     "output_type": "stream",
     "text": [
      "0.25411310323936465 = 13422.0 / 52819\n"
     ]
    }
   ],
   "source": [
    "area = cv.contourArea(cnt)\n",
    "x, y, w, h = cv.boundingRect(cnt)\n",
    "rect_area  = w * h\n",
    "extent     = float(area) / rect_area\n",
    "\n",
    "print(extent, '=', area, '/', rect_area)"
   ]
  },
  {
   "cell_type": "markdown",
   "metadata": {},
   "source": [
    "#####  3. Solidity\n",
    "Solidity는 컨투어 영역과 볼록한 선체 영역의 비율입니다.\n",
    "\n",
    "Solidity = ContourArea / ConvexHullArea"
   ]
  },
  {
   "cell_type": "code",
   "execution_count": 10,
   "metadata": {
    "scrolled": true
   },
   "outputs": [
    {
     "name": "stdout",
     "output_type": "stream",
     "text": [
      "0.754680910879955  =  13422.0  /  17785.0\n"
     ]
    }
   ],
   "source": [
    "area = cv.contourArea(cnt)\n",
    "hull = cv.convexHull(cnt)\n",
    "hull_area = cv.contourArea(hull)\n",
    "solidity = float(area) / hull_area\n",
    "\n",
    "print(solidity, ' = ', area, ' / ', hull_area)"
   ]
  },
  {
   "cell_type": "markdown",
   "metadata": {},
   "source": [
    "#####  4. 등가 지름\n",
    "등가 지름 (Equivalent Diameter)은 윤곽선 영역과 동일한 영역의 원의 직경입니다.\n",
    "\n",
    "\\\\( EquivalentDiameter = \\sqrt{\\frac{{{4} {\\times} {Contour Area}}}{\\pi}}\n",
    "\\\\)"
   ]
  },
  {
   "cell_type": "code",
   "execution_count": 11,
   "metadata": {
    "scrolled": true
   },
   "outputs": [
    {
     "name": "stdout",
     "output_type": "stream",
     "text": [
      "equi_diameter =  130.72651287873992\n"
     ]
    }
   ],
   "source": [
    "area = cv.contourArea(cnt)\n",
    "equi_diameter = np.sqrt(4 * area / np.pi)\n",
    "\n",
    "print('equi_diameter = ', equi_diameter)"
   ]
  },
  {
   "cell_type": "markdown",
   "metadata": {},
   "source": [
    "##### 5. Orientation\n",
    "Orientation은 객체가 향하는 각도입니다. 다음의 방법은 또한 주요 축과 보조 축 길이를 제공합니다."
   ]
  },
  {
   "cell_type": "code",
   "execution_count": 26,
   "metadata": {
    "scrolled": true
   },
   "outputs": [
    {
     "name": "stdout",
     "output_type": "stream",
     "text": [
      "angel =  134.81773376464844\n"
     ]
    }
   ],
   "source": [
    "(x,y),(MA,ma),angle = cv.fitEllipse(cnt)\n",
    "\n",
    "print('angel = ', angle)"
   ]
  },
  {
   "cell_type": "markdown",
   "metadata": {},
   "source": [
    "##### 6. Mask and Pixel Points\n",
    "어떤 경우에는 그 대상을 구성하는 모든 점이 필요할 수도 있습니다. 다음과 같이 수행 할 수 있습니다."
   ]
  },
  {
   "cell_type": "code",
   "execution_count": 27,
   "metadata": {},
   "outputs": [],
   "source": [
    "mask = np.zeros(img.shape, np.uint8)\n",
    "cv.drawContours(mask, [cnt], 0, 255, -1)\n",
    "np_pixelpoints = np.transpose(np.nonzero(mask))\n",
    "#cv.findNonZero(mask)"
   ]
  },
  {
   "cell_type": "markdown",
   "metadata": {},
   "source": [
    "##### 7. Maximum Value, Minimum Value and their locations\n",
    "We can find these parameters using a mask image."
   ]
  },
  {
   "cell_type": "code",
   "execution_count": 28,
   "metadata": {
    "scrolled": true
   },
   "outputs": [
    {
     "ename": "error",
     "evalue": "OpenCV(3.4.2) /opt/concourse/worker/volumes/live/9523d527-1b9e-48e0-7ed0-a36adde286f0/volume/opencv-suite_1535558719691/work/modules/core/src/minmax.cpp:753: error: (-215:Assertion failed) (cn == 1 && (_mask.empty() || _mask.type() == 0)) || (cn > 1 && _mask.empty() && !minIdx && !maxIdx) in function 'minMaxIdx'\n",
     "output_type": "error",
     "traceback": [
      "\u001b[0;31m---------------------------------------------------------------------------\u001b[0m",
      "\u001b[0;31merror\u001b[0m                                     Traceback (most recent call last)",
      "\u001b[0;32m<ipython-input-28-17a095d248d1>\u001b[0m in \u001b[0;36m<module>\u001b[0;34m\u001b[0m\n\u001b[0;32m----> 1\u001b[0;31m \u001b[0mmin_val\u001b[0m\u001b[0;34m,\u001b[0m \u001b[0mmax_val\u001b[0m\u001b[0;34m,\u001b[0m \u001b[0mmin_loc\u001b[0m\u001b[0;34m,\u001b[0m \u001b[0mmax_loc\u001b[0m \u001b[0;34m=\u001b[0m \u001b[0mcv\u001b[0m\u001b[0;34m.\u001b[0m\u001b[0mminMaxLoc\u001b[0m\u001b[0;34m(\u001b[0m\u001b[0mblur\u001b[0m\u001b[0;34m,\u001b[0m \u001b[0mmask\u001b[0m \u001b[0;34m=\u001b[0m \u001b[0mmask\u001b[0m\u001b[0;34m)\u001b[0m\u001b[0;34m\u001b[0m\u001b[0m\n\u001b[0m\u001b[1;32m      2\u001b[0m \u001b[0mprint\u001b[0m\u001b[0;34m(\u001b[0m\u001b[0mmin_val\u001b[0m\u001b[0;34m,\u001b[0m \u001b[0mmax_val\u001b[0m\u001b[0;34m,\u001b[0m \u001b[0mmin_loc\u001b[0m\u001b[0;34m,\u001b[0m \u001b[0mmax_loc\u001b[0m\u001b[0;34m)\u001b[0m\u001b[0;34m\u001b[0m\u001b[0m\n",
      "\u001b[0;31merror\u001b[0m: OpenCV(3.4.2) /opt/concourse/worker/volumes/live/9523d527-1b9e-48e0-7ed0-a36adde286f0/volume/opencv-suite_1535558719691/work/modules/core/src/minmax.cpp:753: error: (-215:Assertion failed) (cn == 1 && (_mask.empty() || _mask.type() == 0)) || (cn > 1 && _mask.empty() && !minIdx && !maxIdx) in function 'minMaxIdx'\n"
     ]
    }
   ],
   "source": [
    "min_val, max_val, min_loc, max_loc = cv.minMaxLoc(blur, mask = mask)\n",
    "print(min_val, max_val, min_loc, max_loc)"
   ]
  },
  {
   "cell_type": "markdown",
   "metadata": {},
   "source": [
    "##### 8. 평균 색 또는 평균 강도\n",
    "여기서 우리는 물체의 평균 색을 찾을 수 있습니다. 또는 그레이 스케일 모드에서 물체의 평균 강도 일 수 있습니다. 우리는 다시 같은 마스크를 사용합니다."
   ]
  },
  {
   "cell_type": "code",
   "execution_count": 29,
   "metadata": {
    "scrolled": true
   },
   "outputs": [
    {
     "ename": "error",
     "evalue": "OpenCV(3.4.2) /opt/concourse/worker/volumes/live/9523d527-1b9e-48e0-7ed0-a36adde286f0/volume/opencv-suite_1535558719691/work/modules/core/src/mean.cpp:112: error: (-215:Assertion failed) mask.empty() || mask.type() == 0 in function 'mean'\n",
     "output_type": "error",
     "traceback": [
      "\u001b[0;31m---------------------------------------------------------------------------\u001b[0m",
      "\u001b[0;31merror\u001b[0m                                     Traceback (most recent call last)",
      "\u001b[0;32m<ipython-input-29-ca0f9a7d4d63>\u001b[0m in \u001b[0;36m<module>\u001b[0;34m\u001b[0m\n\u001b[0;32m----> 1\u001b[0;31m \u001b[0mmean_val\u001b[0m \u001b[0;34m=\u001b[0m \u001b[0mcv\u001b[0m\u001b[0;34m.\u001b[0m\u001b[0mmean\u001b[0m \u001b[0;34m(\u001b[0m\u001b[0mimgray\u001b[0m\u001b[0;34m,\u001b[0m \u001b[0mmask\u001b[0m \u001b[0;34m=\u001b[0m \u001b[0mmask\u001b[0m\u001b[0;34m)\u001b[0m\u001b[0;34m\u001b[0m\u001b[0m\n\u001b[0m",
      "\u001b[0;31merror\u001b[0m: OpenCV(3.4.2) /opt/concourse/worker/volumes/live/9523d527-1b9e-48e0-7ed0-a36adde286f0/volume/opencv-suite_1535558719691/work/modules/core/src/mean.cpp:112: error: (-215:Assertion failed) mask.empty() || mask.type() == 0 in function 'mean'\n"
     ]
    }
   ],
   "source": [
    "mean_val = cv.mean (imgray, mask = mask)"
   ]
  },
  {
   "cell_type": "markdown",
   "metadata": {},
   "source": [
    "##### 9. 익스 트림 포인트\n",
    "Extreme Points는 객체의 가장 위쪽, 가장 아래쪽, 가장 오른쪽 및 가장 왼쪽의 점을 의미합니다."
   ]
  },
  {
   "cell_type": "code",
   "execution_count": 30,
   "metadata": {
    "scrolled": true
   },
   "outputs": [
    {
     "data": {
      "text/plain": [
       "array([[[0, 0, 0],\n",
       "        [0, 0, 0],\n",
       "        [0, 0, 0],\n",
       "        ...,\n",
       "        [0, 0, 0],\n",
       "        [0, 0, 0],\n",
       "        [0, 0, 0]],\n",
       "\n",
       "       [[0, 0, 0],\n",
       "        [0, 0, 0],\n",
       "        [0, 0, 0],\n",
       "        ...,\n",
       "        [0, 0, 0],\n",
       "        [0, 0, 0],\n",
       "        [0, 0, 0]],\n",
       "\n",
       "       [[0, 0, 0],\n",
       "        [0, 0, 0],\n",
       "        [0, 0, 0],\n",
       "        ...,\n",
       "        [0, 0, 0],\n",
       "        [0, 0, 0],\n",
       "        [0, 0, 0]],\n",
       "\n",
       "       ...,\n",
       "\n",
       "       [[0, 0, 0],\n",
       "        [0, 0, 0],\n",
       "        [0, 0, 0],\n",
       "        ...,\n",
       "        [0, 0, 0],\n",
       "        [0, 0, 0],\n",
       "        [0, 0, 0]],\n",
       "\n",
       "       [[0, 0, 0],\n",
       "        [0, 0, 0],\n",
       "        [0, 0, 0],\n",
       "        ...,\n",
       "        [0, 0, 0],\n",
       "        [0, 0, 0],\n",
       "        [0, 0, 0]],\n",
       "\n",
       "       [[0, 0, 0],\n",
       "        [0, 0, 0],\n",
       "        [0, 0, 0],\n",
       "        ...,\n",
       "        [0, 0, 0],\n",
       "        [0, 0, 0],\n",
       "        [0, 0, 0]]], dtype=uint8)"
      ]
     },
     "execution_count": 30,
     "metadata": {},
     "output_type": "execute_result"
    }
   ],
   "source": [
    "leftmost = tuple(cnt[cnt[:,:,0].argmin()][0])\n",
    "rightmost = tuple(cnt[cnt[:,:,0].argmax()][0])\n",
    "topmost = tuple(cnt[cnt[:,:,1].argmin()][0])\n",
    "bottommost = tuple(cnt[cnt[:,:,1].argmax()][0])\n",
    "\n",
    "cv.circle(img, leftmost, 5, (255, 255, 255), -1)\n",
    "cv.circle(img, rightmost, 5, (255, 255, 255), -1)\n",
    "cv.circle(img, topmost, 5, (255, 255, 255), -1)\n",
    "cv.circle(img, bottommost, 5, (255, 255, 255), -1)\n"
   ]
  },
  {
   "cell_type": "code",
   "execution_count": 32,
   "metadata": {},
   "outputs": [
    {
     "data": {
      "text/plain": [
       "array([[[0, 0, 0],\n",
       "        [0, 0, 0],\n",
       "        [0, 0, 0],\n",
       "        ...,\n",
       "        [0, 0, 0],\n",
       "        [0, 0, 0],\n",
       "        [0, 0, 0]],\n",
       "\n",
       "       [[0, 0, 0],\n",
       "        [0, 0, 0],\n",
       "        [0, 0, 0],\n",
       "        ...,\n",
       "        [0, 0, 0],\n",
       "        [0, 0, 0],\n",
       "        [0, 0, 0]],\n",
       "\n",
       "       [[0, 0, 0],\n",
       "        [0, 0, 0],\n",
       "        [0, 0, 0],\n",
       "        ...,\n",
       "        [0, 0, 0],\n",
       "        [0, 0, 0],\n",
       "        [0, 0, 0]],\n",
       "\n",
       "       ...,\n",
       "\n",
       "       [[0, 0, 0],\n",
       "        [0, 0, 0],\n",
       "        [0, 0, 0],\n",
       "        ...,\n",
       "        [0, 0, 0],\n",
       "        [0, 0, 0],\n",
       "        [0, 0, 0]],\n",
       "\n",
       "       [[0, 0, 0],\n",
       "        [0, 0, 0],\n",
       "        [0, 0, 0],\n",
       "        ...,\n",
       "        [0, 0, 0],\n",
       "        [0, 0, 0],\n",
       "        [0, 0, 0]],\n",
       "\n",
       "       [[0, 0, 0],\n",
       "        [0, 0, 0],\n",
       "        [0, 0, 0],\n",
       "        ...,\n",
       "        [0, 0, 0],\n",
       "        [0, 0, 0],\n",
       "        [0, 0, 0]]], dtype=uint8)"
      ]
     },
     "execution_count": 32,
     "metadata": {},
     "output_type": "execute_result"
    }
   ],
   "source": [
    "import numpy as np\n",
    "import cv2 as cv\n",
    "import bonghanUtil as util\n",
    "\n",
    "im = cv.imread('testmap.png')\n",
    "imgray = cv.cvtColor(im, cv.COLOR_BGR2GRAY)\n",
    "\n",
    "blur = cv.GaussianBlur(imgray, (5, 5), 0)\n",
    "_, thresh = cv.threshold(blur, 0, 255, cv.THRESH_BINARY + cv.THRESH_OTSU)\n",
    "\n",
    "im2, contours, hierarchy = cv.findContours(thresh, 1, 2)\n",
    "\n",
    "cnt = contours[0]\n",
    "\n",
    "img = np.zeros(im.shape, np.uint8)\n",
    "cv.drawContours(img, [cnt], 0, (0,255,0), 1)\n",
    "\n",
    "leftmost = tuple(cnt[cnt[:,:,0].argmin()][0])\n",
    "rightmost = tuple(cnt[cnt[:,:,0].argmax()][0])\n",
    "topmost = tuple(cnt[cnt[:,:,1].argmin()][0])\n",
    "bottommost = tuple(cnt[cnt[:,:,1].argmax()][0])\n",
    "\n",
    "cv.circle(img, leftmost, 5, (255, 255, 255), -1)\n",
    "cv.circle(img, rightmost, 5, (255, 255, 255), -1)\n",
    "cv.circle(img, topmost, 5, (255, 255, 255), -1)\n",
    "cv.circle(img, bottommost, 5, (255, 255, 255), -1)"
   ]
  }
 ],
 "metadata": {
  "kernelspec": {
   "display_name": "Python 3",
   "language": "python",
   "name": "python3"
  },
  "language_info": {
   "codemirror_mode": {
    "name": "ipython",
    "version": 3
   },
   "file_extension": ".py",
   "mimetype": "text/x-python",
   "name": "python",
   "nbconvert_exporter": "python",
   "pygments_lexer": "ipython3",
   "version": "3.6.6"
  },
  "toc": {
   "base_numbering": 1,
   "nav_menu": {},
   "number_sections": true,
   "sideBar": true,
   "skip_h1_title": false,
   "title_cell": "Table of Contents",
   "title_sidebar": "Contents",
   "toc_cell": false,
   "toc_position": {},
   "toc_section_display": true,
   "toc_window_display": false
  },
  "varInspector": {
   "cols": {
    "lenName": 16,
    "lenType": 16,
    "lenVar": 40
   },
   "kernels_config": {
    "python": {
     "delete_cmd_postfix": "",
     "delete_cmd_prefix": "del ",
     "library": "var_list.py",
     "varRefreshCmd": "print(var_dic_list())"
    },
    "r": {
     "delete_cmd_postfix": ") ",
     "delete_cmd_prefix": "rm(",
     "library": "var_list.r",
     "varRefreshCmd": "cat(var_dic_list()) "
    }
   },
   "types_to_exclude": [
    "module",
    "function",
    "builtin_function_or_method",
    "instance",
    "_Feature"
   ],
   "window_display": false
  }
 },
 "nbformat": 4,
 "nbformat_minor": 2
}
