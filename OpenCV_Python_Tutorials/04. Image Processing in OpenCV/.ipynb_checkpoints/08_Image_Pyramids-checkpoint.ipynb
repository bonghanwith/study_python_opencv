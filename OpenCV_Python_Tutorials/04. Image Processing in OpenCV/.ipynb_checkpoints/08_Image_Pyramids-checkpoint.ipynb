{
 "cells": [
  {
   "cell_type": "markdown",
   "metadata": {},
   "source": [
    "### Image Pyramids\n",
    "\n",
    "#### Goal\n",
    "In this chapter,\n",
    "* We will learn about Image Pyramids\n",
    "* We will use Image pyramids to create a new fruit, “Orapple”\n",
    "* We will see these functions: cv2.pyrUp(), cv2.pyrDown()\n",
    "\n",
    "#### Theory\n",
    "일반적으로 우리는 일정한 크기의 이미지로 작업했습니다. 그러나 어떤 경우에는 같은 이미지의 다른 해상도의 이미지로 작업해야합니다. 예를 들어 얼굴과 같은 이미지에서 무언가를 검색하는 동안 이미지에 어떤 크기의 물체가 나타날지 확신 할 수 없습니다. 이 경우 해상도가 다른 이미지 세트를 만들어 모든 이미지에서 개체를 검색해야합니다. 서로 다른 해상도의 이미지 세트를 Image Pyramids라고 부릅니다. 왜냐하면 피라미드처럼 맨 아래에 가장 큰 이미지가 가장 큰 이미지로 스택에 보관되어 있기 때문입니다.\n",
    "\n",
    "이미지 피라미드에는 두 가지 종류가 있습니다. 1) 가우시안 피라미드와 2) 라 플라시 피라미드\n",
    "\n",
    "가우시안 피라미드의 고레벨 (저해상도)은 하위 레벨 (고해상도) 이미지에서 연속적인 행과 열을 제거하여 형성됩니다. 그 다음 상위 레벨의 각 픽셀은 가우시안 가중치가있는 기본 레벨에서 5 픽셀의 기여로 형성됩니다. 이렇게하면 M \\ times N이미지가 M / 2 \\ times N / 2이미지 가 됩니다. 따라서 면적은 원래 면적의 1/4로 줄어 듭니다. 이것은 옥타브 (Octave)라고 불립니다. 피라미드에서 위쪽으로 갈수록 같은 패턴이 계속됩니다 (즉, 해상도가 감소합니다). 마찬가지로 확장하면서 면적은 각 단계에서 4 배가됩니다. cv2.pyrDown () 및 cv2.pyrUp () 함수를 사용하여 가우시안 피라미드를 찾을 수 있습니다."
   ]
  },
  {
   "cell_type": "code",
   "execution_count": null,
   "metadata": {
    "scrolled": true
   },
   "outputs": [],
   "source": [
    "import cv2\n",
    "import numpy as np\n",
    "\n",
    "img = cv2.imread('messi5.jpg')\n",
    "lower_reso = cv2.pyrDown(img)\n",
    "\n",
    "cv2.imshow('orignal', img)\n",
    "cv2.imshow('res1', lower_reso)\n",
    "lower_reso = cv2.pyrDown(lower_reso)\n",
    "cv2.imshow('res2', lower_reso)\n",
    "lower_reso = cv2.pyrDown(lower_reso)\n",
    "cv2.imshow('res3', lower_reso)\n",
    "\n",
    "cv2.waitKey(0);\n",
    "cv2.destroyAllWindows()\n",
    "cv2.waitKey(1)\n"
   ]
  },
  {
   "cell_type": "markdown",
   "metadata": {},
   "source": [
    "이제 cv2.pyrUp () 함수를 사용하여 이미지 피라미드로 이동할 수 있습니다."
   ]
  },
  {
   "cell_type": "code",
   "execution_count": null,
   "metadata": {
    "scrolled": true
   },
   "outputs": [],
   "source": [
    "higher_reso2 = cv2.pyrUp(lower_reso)\n",
    "\n",
    "cv2.imshow('res3', higher_reso2)\n",
    "cv2.waitKey(0);\n",
    "cv2.destroyAllWindows()\n",
    "cv2.waitKey(1)"
   ]
  },
  {
   "cell_type": "markdown",
   "metadata": {},
   "source": [
    "#### 기억 higher_reso2이 하는 동일하지 higher_reso 당신은 해상도를 감소하면, 당신은 정보를 잃어 때문에. 아래 이미지는 이전 사례의 가장 작은 이미지에서 생성 된 피라미드의 3 레벨입니다. 원본 이미지와 비교해보십시오.\n",
    "\n",
    "Laplacian 피라미드는 Gaussian Pyramids에서 형성됩니다. 거기에 독점적 인 기능은 없습니다. Laplacian 피라미드 이미지는 가장자리 이미지와 같습니다. 요소의 대부분은 0입니다. 이미지 압축에 사용됩니다. 라플라시안 피라미드의 레벨은 가우시안 피라미드의 해당 레벨과 가우시안 피라미드의 상위 레벨 확장 버전의 차이에 의해 형성됩니다. Laplacian 레벨의 세 가지 레벨은 다음과 같습니다 (내용이 향상되도록 대비가 조정 됨).\n",
    "\n",
    "Laplacian 피라미드는 Gaussian Pyramids에서 형성됩니다. 거기에 독점적 인 기능은 없습니다. Laplacian 피라미드 이미지는 가장자리 이미지와 같습니다. 요소의 대부분은 0입니다. 이미지 압축에 사용됩니다. 라플라시안 피라미드의 레벨은 가우시안 피라미드의 해당 레벨과 가우시안 피라미드의 상위 레벨 확장 버전의 차이에 의해 형성됩니다. Laplacian 레벨의 세 가지 레벨은 다음과 같습니다 (내용이 향상되도록 대비가 조정 됨).\n",
    "\n"
   ]
  },
  {
   "cell_type": "markdown",
   "metadata": {},
   "source": [
    "#### 피라미드를 사용한 이미지 블렌딩\n",
    "\n",
    "피라미드의 한 응용 프로그램은 이미지 블렌딩입니다. 예를 들어 이미지 바느질에서는 두 이미지를 함께 쌓아야하지만 이미지간에 불연속성으로 인해 잘 보이지 않을 수 있습니다. 이 경우 피라미드로 이미지 블렌딩을하면 이미지에 많은 데이터를 남기지 않고도 원활한 혼합이 가능합니다. 하나의 고전적인 예는 오렌지와 애플의 두 과일을 혼합 한 것입니다. 내가 지금하는 말을 이해하기 위해 지금 결과를 보라.\n",
    "\n",
    "추가 리소스에서 첫 번째 참조를 확인하십시오. 이미지 블렌딩, Laplacian Pyramids 등의 전체 다이어그램 세부 정보가 있습니다. 간단히 말해 다음과 같이 수행됩니다.\n",
    "\n",
    "1. 사과와 오렌지의 두 이미지로드\n",
    "2. 사과와 오렌지에 대한 가우시안 피라미드를 찾으십시오 (이 예제에서는 레벨 수는 6입니다).\n",
    "3. 가우시안 피라미드에서 라플라시안 피라미드를 찾으십시오.\n",
    "4. 이제 Laplacian Pyramids의 각 레벨에서 사과의 왼쪽 절반과 오렌지의 오른쪽 절반에 합류하십시오.\n",
    "5. 마지막으로이 공동 이미지 피라미드에서 원본 이미지를 재구성하십시오.\n",
    "\n",
    "전체 코드는 다음과 같습니다. (간단히하기 위해 각 단계가 별도로 수행되므로 더 많은 메모리가 필요할 수 있습니다. 원하는 경우 최적화 할 수 있습니다)."
   ]
  },
  {
   "cell_type": "code",
   "execution_count": 1,
   "metadata": {},
   "outputs": [
    {
     "data": {
      "text/plain": [
       "True"
      ]
     },
     "execution_count": 1,
     "metadata": {},
     "output_type": "execute_result"
    }
   ],
   "source": [
    "import cv2\n",
    "import numpy as np,sys\n",
    "\n",
    "def showImage(imageList, title):\n",
    "    return\n",
    "    for i in imageList:\n",
    "        cv2.imshow(title, i)\n",
    "        cv2.waitKey(0)\n",
    "        cv2.destroyAllWindows()\n",
    "        cv2.waitKey(1)\n",
    "\n",
    "A = cv2.imread('apple.png')\n",
    "B = cv2.imread('orange.png')\n",
    "\n",
    "A = cv2.resize(A, (256, 256), cv2.INTER_AREA)\n",
    "B = cv2.resize(B, (256, 256), cv2.INTER_AREA)\n",
    "\n",
    "# generate Gaussian pyramid for A\n",
    "G = A.copy()\n",
    "gpA = [G]\n",
    "for i in range(6):\n",
    "    G = cv2.pyrDown(G)\n",
    "    gpA.append(G)\n",
    "\n",
    "showImage(gpA, 'gpA')\n",
    "    \n",
    "# generate Gaussian pyramid for B\n",
    "G = B.copy()\n",
    "gpB = [G]\n",
    "for i in range(6):\n",
    "    G = cv2.pyrDown(G)\n",
    "    gpB.append(G)\n",
    "\n",
    "showImage(gpB, 'gpB')    \n",
    "    \n",
    "# generate Laplacian Pyramid for A\n",
    "lpA = [gpA[5]]\n",
    "for i in range(5,0,-1):\n",
    "    GE = cv2.pyrUp(gpA[i])\n",
    "    L = cv2.subtract(gpA[i-1], GE )\n",
    "    lpA.append(L)\n",
    "    \n",
    "showImage(lpA, 'lpA')\n",
    "\n",
    "# generate Laplacian Pyramid for B\n",
    "lpB = [gpB[5]]\n",
    "for i in range(5,0,-1):\n",
    "    GE = cv2.pyrUp(gpB[i])\n",
    "    L = cv2.subtract(gpB[i-1], GE)\n",
    "    lpB.append(L)\n",
    "\n",
    "showImage(lpB, 'lpB')\n",
    "\n",
    "# Now add left and right halves of images in each level\n",
    "LS = []\n",
    "for la,lb in zip(lpA,lpB):\n",
    "    rows,cols,dpt = la.shape\n",
    "    ls = np.hstack((la[:,0:int(cols/2)], lb[:,int(cols/2):]))\n",
    "    LS.append(ls)\n",
    "\n",
    "showImage(LS, 'LS')\n",
    "\n",
    "# now reconstruct\n",
    "ls_ = LS[0]\n",
    "for i in range(1,6):\n",
    "    ls_ = cv2.pyrUp(ls_)\n",
    "    ls_ = cv2.add(ls_, LS[i])\n",
    "\n",
    "# image with direct connecting each half\n",
    "real = np.hstack((A[:,:int(cols/2)],B[:,int(cols/2):]))\n",
    "\n",
    "cv2.imwrite('Pyramid_blending2.jpg',ls_)\n",
    "cv2.imwrite('Direct_blending.jpg',real)"
   ]
  }
 ],
 "metadata": {
  "kernelspec": {
   "display_name": "Python 3",
   "language": "python",
   "name": "python3"
  },
  "language_info": {
   "codemirror_mode": {
    "name": "ipython",
    "version": 3
   },
   "file_extension": ".py",
   "mimetype": "text/x-python",
   "name": "python",
   "nbconvert_exporter": "python",
   "pygments_lexer": "ipython3",
   "version": "3.6.6"
  },
  "toc": {
   "base_numbering": 1,
   "nav_menu": {},
   "number_sections": true,
   "sideBar": true,
   "skip_h1_title": false,
   "title_cell": "Table of Contents",
   "title_sidebar": "Contents",
   "toc_cell": false,
   "toc_position": {},
   "toc_section_display": true,
   "toc_window_display": true
  }
 },
 "nbformat": 4,
 "nbformat_minor": 2
}
