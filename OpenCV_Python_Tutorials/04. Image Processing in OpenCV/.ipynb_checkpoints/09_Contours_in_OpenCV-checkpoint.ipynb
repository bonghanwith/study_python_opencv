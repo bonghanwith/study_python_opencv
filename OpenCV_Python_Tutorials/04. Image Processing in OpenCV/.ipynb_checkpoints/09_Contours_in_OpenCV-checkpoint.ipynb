{
 "cells": [
  {
   "cell_type": "markdown",
   "metadata": {},
   "source": [
    "### OpenCV의 윤곽\n",
    "All about Contours in OpenCV\n",
    "\n",
    "#### 윤곽선 : 시작하기\n",
    "Learn to find and draw Contours\n",
    "\n",
    "##### 목표\n",
    "* 윤곽선이 무엇인지 이해하십시오.\n",
    "* 등고선 찾기, 등고선 그리기 등을 배우십시오.\n",
    "* 다음 함수를 볼 수 있습니다 : cv.findContours () , cv.drawContours ()\n",
    "\n",
    "##### 윤곽석인란 무었인가\n",
    "윤곽선은 동일한 색상이나 강도를 가진 모든 연속 점 (경계를 따라)을 결합하는 곡선으로 간단히 설명 할 수 있습니다. 윤곽선은 형상 분석 및 객체 감지 및 인식에 유용한 도구입니다.\n",
    "\n",
    "* 정확성을 높이려면 이진 이미지를 사용하십시오. 따라서 윤곽선을 찾기 전에 임계점 또는 캐니 에지 감지를 적용하십시오.\n",
    "* OpenCV 3.2부터 findContours () 는 더 이상 원본 이미지를 수정하지 않지만 수정 된 이미지를 세 개의 반환 매개 변수 중 첫 번째로 반환합니다.\n",
    "* OpenCV에서 윤곽선을 찾는 것은 검정색 배경에서 흰색 물체를 찾는 것과 같습니다. 그러므로 찾을 수있는 물체는 흰색이어야하고 배경은 검은 색이어야합니다.\n",
    "\n",
    "이진 이미지의 윤곽선을 찾는 방법을 살펴 보겠습니다."
   ]
  },
  {
   "cell_type": "code",
   "execution_count": 7,
   "metadata": {},
   "outputs": [],
   "source": [
    "import numpy as np\n",
    "import cv2 as cv\n",
    "import bonghanUtil as util\n",
    "\n",
    "im = cv.imread('test.png')\n",
    "imgray = cv.cvtColor(im, cv.COLOR_BGR2GRAY)\n",
    "\n",
    "ret, thresh = cv.threshold(imgray, 127, 255, 0)\n",
    "im2, contours, hierarchy = cv.findContours(thresh, cv.RETR_TREE, cv.CHAIN_APPROX_SIMPLE)"
   ]
  },
  {
   "cell_type": "markdown",
   "metadata": {},
   "source": [
    "See, cv.findContours () 함수 에는 세 개의 인수가 있습니다. 첫 번째는 소스 이미지이고, 두 번째는 등고선 검색 모드이고, 세 번째는 등고선 근사 방법입니다. 그리고 수정 된 이미지, 등고선 및 계층 구조를 출력합니다. 윤곽은 이미지의 모든 윤곽을 파이썬으로 나타낸 목록입니다. 각각의 개별 윤곽은 객체의 경계 지점의 (x, y) 좌표의 넘파이 배열입니다.\n",
    "\n",
    "##### How to draw the contours?\n",
    "윤곽선을 그리려면 cv.drawContours 함수가 사용됩니다. 또한 경계 지점이있는 경우 모든 모양을 그리는 데 사용할 수 있습니다. 첫 번째 인수는 소스 이미지이고, 두 번째 인수는 파이썬 목록으로 전달되어야하는 등고선이며, 세 번째 인수는 등고선 색인입니다 (개별 윤곽선을 그리는 데 유용합니다. 모든 윤곽선을 그리려면 -1을 전달하고 나머지 인수는 색상, 두께 기타\n",
    "\n",
    "* To draw all the contours in an image:"
   ]
  },
  {
   "cell_type": "code",
   "execution_count": 6,
   "metadata": {},
   "outputs": [],
   "source": [
    "img = np.zeros(im.shape, np.uint8)\n",
    "\n",
    "resultImg = cv.drawContours(img, contours, -1, (0,255,0), 3)\n",
    "\n",
    "util.showImage(resultImg)"
   ]
  },
  {
   "cell_type": "markdown",
   "metadata": {},
   "source": [
    "* To draw an individual contour, say 1st contour:"
   ]
  },
  {
   "cell_type": "code",
   "execution_count": 17,
   "metadata": {},
   "outputs": [],
   "source": [
    "img = np.zeros(im.shape, np.uint8)\n",
    "resultImg = cv.drawContours(img, contours, 2nd, (0,255,0), 1)\n",
    "\n",
    "util.showImage(resultImg)"
   ]
  },
  {
   "cell_type": "markdown",
   "metadata": {},
   "source": [
    "* But most of the time, below method will be useful:"
   ]
  },
  {
   "cell_type": "code",
   "execution_count": 19,
   "metadata": {},
   "outputs": [],
   "source": [
    "img = np.zeros(im.shape, np.uint8)\n",
    "cnt = contours[2]\n",
    "resultImg = cv.drawContours(img, [cnt], 0, (0,255,0), 3)\n",
    "util.showImage(resultImg)"
   ]
  },
  {
   "cell_type": "markdown",
   "metadata": {},
   "source": [
    "* 결과\n",
    "![](contour_01.png '이미지')\n",
    "\n",
    "array([[[ 16,  22]], [[ 16, 147]], [[205, 147]], [[205,  22]]], dtype=int32)\n",
    "\n",
    "![](contour_02.png)\n",
    "array([[[ 57,  59]], [[ 58,  58]], [[161,  58]], [[162,  59]],  \n",
    "       [[162, 105]], [[161, 106]], [[ 58, 106]], [[ 57, 105]]], dtype=int32)\n",
    "\n",
    "![](contour_03.png)\n",
    "array([[[ 91,  70]], [[ 91,  95]], [[133,  95]], [[133,  70]]], dtype=int32)\n"
   ]
  },
  {
   "cell_type": "markdown",
   "metadata": {},
   "source": [
    "##### 윤곽선 근사 방법\n",
    "\n",
    "이것은 cv.findContours 함수 의 세 번째 인수입니다 . 실제로 그것이 무엇을 나타내는가?\n",
    "\n",
    "위에서 우리는 등고선이 동일한 강도를 지닌 모양의 경계라고 말했다. 도형 경계의 (x, y) 좌표를 저장합니다. 그러나 그것은 모든 좌표를 저장합니까? 이것은이 윤곽 근사법으로 지정됩니다.\n",
    "\n",
    "**cv.CHAIN_APPROX_NONE** 를 건네 주면 모든 경계 지점이 저장됩니다. 그러나 실제로 모든 포인트가 필요합니까? 예를 들어, 직선의 윤곽을 발견했습니다. 그 라인을 나타 내기 위해 라인의 모든 포인트가 필요합니까? 아니요, 우리는 그 라인의 두 종점 만 있으면됩니다. 이것이 **cv.CHAIN_APPROX_SIMPLE**의 기능 입니다. 모든 중복 점을 제거하고 윤곽을 압축하여 메모리를 절약합니다.\n",
    "\n",
    "아래의 사각형 이미지는이 기법을 보여줍니다. 윤곽선 배열의 모든 좌표에 원을 그립니다 (파란색으로 그려 짐). 첫 번째 이미지는 cv.CHAIN_APPROX_NONE (734 점)으로 얻은 점을 표시 하고 두 번째 이미지는 cv.CHAIN_APPROX_SIMPLE (4 점 만)으로 표시합니다. 얼마나 많은 메모리가 절약되는지보십시오!\n"
   ]
  },
  {
   "cell_type": "code",
   "execution_count": 32,
   "metadata": {
    "scrolled": true
   },
   "outputs": [
    {
     "name": "stdout",
     "output_type": "stream",
     "text": [
      "cv.CHAIN_APPROX_SIMPLE 점의 개수 4\n",
      "cv.CHAIN_APPROX_SIMPLE 점의 개수 8\n",
      "cv.CHAIN_APPROX_SIMPLE 점의 개수 4\n",
      "cv.CHAIN_APPROX_NONE 점의 개수 628\n",
      "cv.CHAIN_APPROX_NONE 점의 개수 302\n",
      "cv.CHAIN_APPROX_NONE 점의 개수 134\n"
     ]
    }
   ],
   "source": [
    "for contour in contours:\n",
    "    print('cv.CHAIN_APPROX_SIMPLE 점의 개수', len(contour))\n",
    "\n",
    "im2, contours, hierarchy = cv.findContours(thresh, cv.RETR_TREE, cv.CHAIN_APPROX_NONE)\n",
    "\n",
    "for contour in contours:\n",
    "    print('cv.CHAIN_APPROX_NONE 점의 개수', len(contour))"
   ]
  },
  {
   "cell_type": "markdown",
   "metadata": {},
   "source": [
    "#### 윤관선 특징\n",
    "Learn to find different features of contours like area, perimeter, bounding rectangle etc.\n",
    "\n",
    "##### 목표\n",
    "In this article, we will learn\n",
    "\n",
    "To find the different features of contours, like area, perimeter, centroid, bounding box etc\n",
    "You will see plenty of functions related to contours.\n",
    "\n",
    "##### 1. Moments\n",
    "이미지 순간은 물체의 중심, 물체의 면적 등과 같은 일부 기능을 계산하는 데 도움이됩니다. 이미지 순간 에 위키 백과 페이지를 확인하십시오.\n",
    "\n",
    "함수 cv.moments () 는 모든 모멘트 값의 사전을 계산합니다. 아래 참조 :\n"
   ]
  },
  {
   "cell_type": "code",
   "execution_count": 2,
   "metadata": {
    "scrolled": true
   },
   "outputs": [
    {
     "name": "stdout",
     "output_type": "stream",
     "text": [
      "{'m00': 20612.5, 'm10': 2132893.833333333, 'm01': 1547028.6666666665, 'm20': 278538862.4166666, 'm11': 161127680.4583333, 'm02': 140876415.25, 'm30': 40728463295.15, 'm21': 21199448440.9, 'm12': 14743092154.3, 'm03': 14334760462.7, 'mu20': 57836079.917146444, 'mu11': 1047733.672488749, 'mu02': 24767369.986764386, 'mu30': -62816675.30971527, 'mu21': 77458662.01050472, 'mu12': 8528884.363070488, 'mu03': 43844000.16923523, 'nu20': 0.13612488060637562, 'nu11': 0.0024659800816225035, 'nu02': 0.05829328832818613, 'nu30': -0.0010297890633591677, 'nu21': 0.0012698233806161868, 'nu12': 0.0001398187948731924, 'nu03': 0.000718759336523068}\n"
     ]
    },
    {
     "data": {
      "text/plain": [
       "\"\\nimport numpy as np\\nimport cv2 as cv\\nimport bonghanUtil as util\\n\\nim = cv.imread('test.png')\\nimgray = cv.cvtColor(im, cv.COLOR_BGR2GRAY)\\n\\nret, thresh = cv.threshold(imgray, 127, 255, 0)\\nim2, contours, hierarchy = cv.findContours(thresh, cv.RETR_TREE, cv.CHAIN_APPROX_SIMPLE)\\n\\n#cnt = contours[0]\\n#M = cv.moments(cnt)\\n\\nbImg = np.zeros(im2.shape, np.uint8)\\nresultImg = cv.drawContours(bImg, contours, -1, (0, 255, 0), 3)\\n\\nutil.showImage(resultImg)\\n#print(M)\\n\""
      ]
     },
     "execution_count": 2,
     "metadata": {},
     "output_type": "execute_result"
    }
   ],
   "source": [
    "import numpy as np\n",
    "import cv2 as cv\n",
    "import bonghanUtil as util\n",
    "\n",
    "im = cv.imread('star.png')\n",
    "imgray = cv.cvtColor(im, cv.COLOR_BGR2GRAY)\n",
    "\n",
    "ret, thresh = cv.threshold(imgray, 127, 255, 0)\n",
    "im2, contours, hierarchy = cv.findContours(thresh, 1, 2)\n",
    "\n",
    "cnt = contours[0]\n",
    "M = cv.moments(cnt)\n",
    "\n",
    "img = np.zeros(im.shape, np.uint8)\n",
    "resultImg = cv.drawContours(img, [cnt], 0, (0,255,0), 1)\n",
    "\n",
    "print(M)\n",
    "util.showImage(resultImg)\n",
    "\n",
    "'''\n",
    "import numpy as np\n",
    "import cv2 as cv\n",
    "import bonghanUtil as util\n",
    "\n",
    "im = cv.imread('test.png')\n",
    "imgray = cv.cvtColor(im, cv.COLOR_BGR2GRAY)\n",
    "\n",
    "ret, thresh = cv.threshold(imgray, 127, 255, 0)\n",
    "im2, contours, hierarchy = cv.findContours(thresh, cv.RETR_TREE, cv.CHAIN_APPROX_SIMPLE)\n",
    "\n",
    "#cnt = contours[0]\n",
    "#M = cv.moments(cnt)\n",
    "\n",
    "bImg = np.zeros(im2.shape, np.uint8)\n",
    "resultImg = cv.drawContours(bImg, contours, -1, (0, 255, 0), 3)\n",
    "\n",
    "util.showImage(resultImg)\n",
    "#print(M)\n",
    "'''"
   ]
  },
  {
   "cell_type": "markdown",
   "metadata": {},
   "source": [
    "From this moments, you can extract useful data like area, centroid etc. Centroid is given by the relations, Cx = M10 / M00 and Cy = M01 / M00. This can be done as follows:"
   ]
  },
  {
   "cell_type": "code",
   "execution_count": 3,
   "metadata": {},
   "outputs": [
    {
     "name": "stdout",
     "output_type": "stream",
     "text": [
      "(149, 204, 3) 103 75\n"
     ]
    }
   ],
   "source": [
    "cx = int(M['m10'] / M['m00'])\n",
    "cy = int(M['m01'] / M['m00'])\n",
    "\n",
    "print(img.shape, cx, cy)\n",
    "#util.showImage(img)"
   ]
  },
  {
   "cell_type": "markdown",
   "metadata": {},
   "source": [
    "##### 2. Contour Area\n",
    "Contour area is given by the function cv.contourArea() or from moments, M['m00']."
   ]
  },
  {
   "cell_type": "code",
   "execution_count": 21,
   "metadata": {
    "scrolled": true
   },
   "outputs": [
    {
     "name": "stdout",
     "output_type": "stream",
     "text": [
      "20612.5\n"
     ]
    }
   ],
   "source": [
    "area = cv.contourArea(cnt)\n",
    "\n",
    "print(area)\n"
   ]
  },
  {
   "cell_type": "markdown",
   "metadata": {},
   "source": [
    "##### 3. Contour Perimeter\n",
    "아크 길이라고도합니다. cv.arcLength () 함수를 사용하여 찾을 수 있습니다 . 두 번째 인수는 모양이 닫힌 윤곽 (True로 전달 된 경우)인지 또는 곡선인지 지정합니다."
   ]
  },
  {
   "cell_type": "code",
   "execution_count": 4,
   "metadata": {},
   "outputs": [
    {
     "name": "stdout",
     "output_type": "stream",
     "text": [
      "938.4924212694168\n"
     ]
    }
   ],
   "source": [
    "perimeter = cv.arcLength(cnt, True)\n",
    "\n",
    "print(perimeter)"
   ]
  },
  {
   "cell_type": "markdown",
   "metadata": {},
   "source": [
    "##### 4. Contour Approximation\n",
    "우리가 지정한 정밀도에 따라 윤곽 셰이프를 정점 수가 적은 다른 모양으로 근사합니다. Douglas-Peucker 알고리즘을 구현 한 것입니다 . 위키 백과 페이지에서 알고리즘 및 데모를 확인하십시오.\n",
    "\n",
    "이를 이해하기 위해 이미지에서 사각형을 찾으려고했지만 이미지의 일부 문제로 인해 완벽한 사각형이 아니라 \"나쁜 모양\"(아래 첫 번째 그림 참조)을 얻었습니다. 이제이 함수를 사용하여 모양을 근사시킬 수 있습니다. 이 두 번째 인수는 엡실론 (epsilon)이라고하며, 이것은 윤곽선에서 근사화 된 윤곽선까지의 최대 거리입니다. 이것은 정확도 매개 변수입니다. 올바른 출력을 얻으려면 엡실론을 현명하게 선택해야합니다."
   ]
  },
  {
   "cell_type": "code",
   "execution_count": 9,
   "metadata": {},
   "outputs": [
    {
     "name": "stdout",
     "output_type": "stream",
     "text": [
      "93.84924212694169 [[[ 11  15]]\n",
      "\n",
      " [[ 11 138]]\n",
      "\n",
      " [[194 138]]\n",
      "\n",
      " [[194  15]]]\n"
     ]
    }
   ],
   "source": [
    "epsilon = 0.1 * cv.arcLength(cnt, True)\n",
    "approx = cv.approxPolyDP(cnt, epsilon, True)\n",
    "\n",
    "img = np.zeros(im.shape, np.uint8)\n",
    "resultImg = cv.drawContours(img, [cnt], 0, (0,255,0), 1)\n",
    "\n",
    "util.showImage(resultImg)\n",
    "\n",
    "resultImg = cv.drawContours(img, [approx], 0, (0,255,0), 1)\n",
    "\n",
    "util.showImage(resultImg)\n",
    "\n",
    "print(epsilon, approx)"
   ]
  },
  {
   "cell_type": "markdown",
   "metadata": {},
   "source": [
    "##### 5. Convex Hull"
   ]
  },
  {
   "cell_type": "markdown",
   "metadata": {},
   "source": [
    "##### 6. Checking Convexity"
   ]
  },
  {
   "cell_type": "markdown",
   "metadata": {},
   "source": [
    "##### 7. Bounding Rectangle"
   ]
  },
  {
   "cell_type": "markdown",
   "metadata": {},
   "source": [
    "##### 8. Minimum Enclosing Circle"
   ]
  },
  {
   "cell_type": "markdown",
   "metadata": {},
   "source": [
    "##### 9. Fitting an Ellipse"
   ]
  },
  {
   "cell_type": "markdown",
   "metadata": {},
   "source": [
    "##### 10. Fitting a Line"
   ]
  }
 ],
 "metadata": {
  "kernelspec": {
   "display_name": "Python 3",
   "language": "python",
   "name": "python3"
  },
  "language_info": {
   "codemirror_mode": {
    "name": "ipython",
    "version": 3
   },
   "file_extension": ".py",
   "mimetype": "text/x-python",
   "name": "python",
   "nbconvert_exporter": "python",
   "pygments_lexer": "ipython3",
   "version": "3.6.6"
  },
  "toc": {
   "base_numbering": 1,
   "nav_menu": {},
   "number_sections": true,
   "sideBar": true,
   "skip_h1_title": false,
   "title_cell": "Table of Contents",
   "title_sidebar": "Contents",
   "toc_cell": false,
   "toc_position": {},
   "toc_section_display": true,
   "toc_window_display": true
  },
  "varInspector": {
   "cols": {
    "lenName": 16,
    "lenType": 16,
    "lenVar": 40
   },
   "kernels_config": {
    "python": {
     "delete_cmd_postfix": "",
     "delete_cmd_prefix": "del ",
     "library": "var_list.py",
     "varRefreshCmd": "print(var_dic_list())"
    },
    "r": {
     "delete_cmd_postfix": ") ",
     "delete_cmd_prefix": "rm(",
     "library": "var_list.r",
     "varRefreshCmd": "cat(var_dic_list()) "
    }
   },
   "types_to_exclude": [
    "module",
    "function",
    "builtin_function_or_method",
    "instance",
    "_Feature"
   ],
   "window_display": false
  }
 },
 "nbformat": 4,
 "nbformat_minor": 2
}
