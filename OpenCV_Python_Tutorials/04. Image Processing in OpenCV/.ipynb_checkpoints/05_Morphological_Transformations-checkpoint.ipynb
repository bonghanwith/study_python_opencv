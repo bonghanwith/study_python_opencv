{
 "cells": [
  {
   "cell_type": "markdown",
   "metadata": {},
   "source": [
    "### 형태 변환 Morphological Transformations [링크](https://docs.opencv.org/3.0-beta/doc/py_tutorials/py_imgproc/py_morphological_ops/py_morphological_ops.html#morphological-ops)\n",
    "#### 목표\n",
    "이 챕터에서는,\n",
    "* 우리는 부식, 이완, 개통, 폐색과 같은 다른 형태학적인 작동을 배울 것입니다.\n",
    "* 우리는 **cv2.erode () , cv2.dilate () , cv2.morphologyEx ()** 등과 같은 다른 함수를 보게 될 것입니다 .\n",
    "\n",
    "#### Theory\n",
    "형태 변형은 이미지 모양을 기반으로 한 몇 가지 간단한 작업입니다. 일반적으로 이진 이미지에서 수행됩니다. 그것은 두 개의 입력이 필요합니다. 하나는 우리의 원래 이미지이고, 두 번째는 **구조 요소** 라고 부릅니다. 또는 조작의 본질을 결정하는 **커널** 입니다. 두 가지 기본적인 형태학 연산자는 침식과 탈모입니다. 그런 다음 **Opening, Closing, Gradient** 등과 같은 변형 된 형태도 작용합니다. 우리는 다음 이미지의 도움을 받아 하나씩 보게 될 것입니다 :\n",
    "![](j.png)"
   ]
  },
  {
   "cell_type": "markdown",
   "metadata": {},
   "source": [
    "##### 1. Erosion\n",
    "침식의 기본 개념은 토양 침식과 같습니다. 전경 물체의 경계를 부식시킵니다 (항상 전경을 흰색으로 유지하려고 노력하십시오). 그래서 그것은 무엇입니까? 커널은 2D 컨볼 루션 에서처럼 이미지를 통해 슬라이드합니다. 원래 이미지의 픽셀 (1 또는 0)은 커널 아래의 모든 픽셀이 1 인 경우에만 1로 간주되고, 그렇지 않으면 침식 (0으로 설정)됩니다.\n",
    "\n",
    "그렇다면 경계의 모든 픽셀은 커널의 크기에 따라 버려집니다. 따라서 전경 물체의 두께 나 크기가 줄어들거나 단순히 이미지의 흰색 영역이 줄어 듭니다. 작은 흰색 노이즈를 제거하고 (컬러 스페이스 장에서 보았 듯이) 연결된 두 객체를 분리하는 데 유용합니다.\n",
    "\n",
    "여기 예를 들어 5x5 커널에 1x5 커널을 사용할 것입니다. 그것이 어떻게 작동하는지 보자 :"
   ]
  },
  {
   "cell_type": "code",
   "execution_count": null,
   "metadata": {
    "scrolled": true
   },
   "outputs": [],
   "source": [
    "import cv2\n",
    "import numpy as np\n",
    "\n",
    "img = cv2.imread('j.png', cv2.COLOR_BGR2GRAY)\n",
    "kernel = np.ones((5, 5), np.uint8)\n",
    "\n",
    "erosion = cv2.erode(img, kernel, iterations = 1)\n",
    "\n",
    "cv2.imshow('result', erosion)\n",
    "cv2.waitKey(0)\n",
    "cv2.destroyAllWindows()\n",
    "cv2.waitKey(1)"
   ]
  },
  {
   "cell_type": "markdown",
   "metadata": {},
   "source": [
    "##### 2. Dilation\n",
    "그것은 침식의 정반대입니다. 여기서, 커널 아래의 적어도 하나의 픽셀이 '1'이면 픽셀 요소는 '1'이다. 따라서 이미지의 흰색 영역이 증가하거나 전경 객체의 크기가 커집니다. 일반적으로 소음 제거와 같은 경우에는 침식 후에 팽창이 발생합니다. 왜냐하면 침식은 백색 잡음을 제거하지만, 또한 우리의 목적을 축소시킵니다. 그래서 우리는 그것을 팽창시킵니다. 소음이 사라지므로 소리가 돌아 오지 않지만 물체가 증가합니다. 또한 객체의 깨진 부분을 결합하는 데 유용합니다."
   ]
  },
  {
   "cell_type": "code",
   "execution_count": null,
   "metadata": {
    "scrolled": true
   },
   "outputs": [],
   "source": [
    "dilation = cv2.dilate(img, kernel, iterations = 1)\n",
    "\n",
    "cv2.imshow('result', dilation)\n",
    "cv2.waitKey(0)\n",
    "cv2.destroyAllWindows()\n",
    "cv2.waitKey(1)"
   ]
  },
  {
   "cell_type": "markdown",
   "metadata": {},
   "source": [
    "#####  3. Opening\n",
    "오프닝은 침식과 팽창 의 또 다른 이름입니다 . 위에서 설명했듯이 소음을 제거하는 데 유용합니다. 여기에서는 cv2.morphologyEx () 함수를 사용합니다."
   ]
  },
  {
   "cell_type": "markdown",
   "metadata": {},
   "source": [
    "img = cv2.imread('noisy_j.png', cv2.COLOR_BGR2GRAY)\n",
    "\n",
    "opening = cv2.morphologyEx(img, cv2.MORPH_OPEN, kernel)\n",
    "\n",
    "cv2.imshow('original', img)\n",
    "cv2.imshow('result', opening)\n",
    "cv2.waitKey(0)\n",
    "cv2.destroyAllWindows()\n",
    "cv2.waitKey(1)"
   ]
  },
  {
   "cell_type": "markdown",
   "metadata": {},
   "source": [
    "##### 4. Closing\n",
    "닫히기 는 여는 것과 반대이며, 유두를 뒤이어 계속합니다 . 전경 개체 내부의 작은 구멍을 닫거나 개체의 작은 검은 점을 닫을 때 유용합니다."
   ]
  },
  {
   "cell_type": "code",
   "execution_count": null,
   "metadata": {
    "scrolled": true
   },
   "outputs": [],
   "source": [
    "img = cv2.imread('noisy2_j.png', cv2.COLOR_BGR2GRAY)\n",
    "\n",
    "closing = cv2.morphologyEx(img, cv2.MORPH_CLOSE, kernel)\n",
    "\n",
    "cv2.imshow('original', img)\n",
    "cv2.imshow('result', closing)\n",
    "cv2.waitKey(0)\n",
    "cv2.destroyAllWindows()\n",
    "cv2.waitKey(1)"
   ]
  },
  {
   "cell_type": "markdown",
   "metadata": {},
   "source": [
    "##### 5. Morphological Gradient\n",
    "\n",
    "그것은 이미지의 확장과 침식의 차이입니다.\n",
    "결과는 객체의 윤곽선처럼 보입니다."
   ]
  },
  {
   "cell_type": "code",
   "execution_count": null,
   "metadata": {},
   "outputs": [],
   "source": [
    "img = cv2.imread('j.png', cv2.COLOR_BGR2GRAY)\n",
    "                 \n",
    "gradient = cv2.morphologyEx(img, cv2.MORPH_GRADIENT, kernel)\n",
    "\n",
    "cv2.imshow('original', img)\n",
    "cv2.imshow('result', gradient)\n",
    "cv2.waitKey(0)\n",
    "cv2.destroyAllWindows()\n",
    "cv2.waitKey(1)"
   ]
  },
  {
   "cell_type": "markdown",
   "metadata": {},
   "source": [
    "##### 6. Top Hat\n",
    "\n",
    "그것은 입력 이미지와 이미지 열기 사이의 차이입니다. 아래 예제는 9x9 커널에 대해 수행됩니다."
   ]
  },
  {
   "cell_type": "code",
   "execution_count": null,
   "metadata": {
    "scrolled": true
   },
   "outputs": [],
   "source": [
    "img = cv2.imread('j.png', cv2.COLOR_BGR2GRAY)\n",
    "\n",
    "kernel = np.ones((9, 9), np.uint8)\n",
    "tophat = cv2.morphologyEx(img, cv2.MORPH_TOPHAT, kernel)\n",
    "\n",
    "cv2.imshow('original', img)\n",
    "cv2.imshow('result', tophat)\n",
    "cv2.waitKey(0)\n",
    "cv2.destroyAllWindows()\n",
    "cv2.waitKey(1)"
   ]
  },
  {
   "cell_type": "markdown",
   "metadata": {},
   "source": [
    "##### 7. Black Hat\n",
    "It is the difference between the closing of the input image and input image."
   ]
  },
  {
   "cell_type": "code",
   "execution_count": null,
   "metadata": {
    "scrolled": true
   },
   "outputs": [],
   "source": [
    "img = cv2.imread('j.png', cv2.COLOR_BGR2GRAY)\n",
    "\n",
    "kernel = np.ones((9, 9), np.uint8)\n",
    "blackhat = cv2.morphologyEx(img, cv2.MORPH_BLACKHAT, kernel)\n",
    "\n",
    "cv2.imshow('original', img)\n",
    "cv2.imshow('result', blackhat)\n",
    "cv2.waitKey(0)\n",
    "cv2.destroyAllWindows()\n",
    "cv2.waitKey(1)"
   ]
  },
  {
   "cell_type": "markdown",
   "metadata": {},
   "source": [
    "#### 구성 요소\n",
    "mpy의 도움을 받아 앞의 예제에서 수동으로 구조 요소를 만들었습니다. 사각형 모양입니다. 그러나 어떤 경우에는 타원형 / 원형 커널이 필요할 수도 있습니다. 그래서이 목적을 위해 OpenCV는 cv2.getStructuringElement () 함수를 가지고 있습니다. 커널의 모양과 크기 만 전달하면 원하는 커널을 얻을 수 있습니다.\n"
   ]
  },
  {
   "cell_type": "code",
   "execution_count": 27,
   "metadata": {},
   "outputs": [
    {
     "name": "stdout",
     "output_type": "stream",
     "text": [
      "[[1 1 1 1 1]\n",
      " [1 1 1 1 1]\n",
      " [1 1 1 1 1]\n",
      " [1 1 1 1 1]\n",
      " [1 1 1 1 1]]\n",
      "[[0 0 1 0 0]\n",
      " [1 1 1 1 1]\n",
      " [1 1 1 1 1]\n",
      " [1 1 1 1 1]\n",
      " [0 0 1 0 0]]\n",
      "[[0 0 1 0 0]\n",
      " [0 0 1 0 0]\n",
      " [1 1 1 1 1]\n",
      " [0 0 1 0 0]\n",
      " [0 0 1 0 0]]\n"
     ]
    }
   ],
   "source": [
    "# Rectangular Kernel\n",
    "print(cv2.getStructuringElement(cv2.MORPH_RECT, (5, 5)))\n",
    "\n",
    "# Elliptical Kernel\n",
    "print(cv2.getStructuringElement(cv2.MORPH_ELLIPSE,(5,5)))\n",
    "\n",
    "# Cross-shaped Kernel\n",
    "print(cv2.getStructuringElement(cv2.MORPH_CROSS,(5,5)))"
   ]
  }
 ],
 "metadata": {
  "kernelspec": {
   "display_name": "Python 3",
   "language": "python",
   "name": "python3"
  },
  "toc": {
   "base_numbering": 1,
   "nav_menu": {},
   "number_sections": true,
   "sideBar": true,
   "skip_h1_title": false,
   "title_cell": "Table of Contents",
   "title_sidebar": "Contents",
   "toc_cell": false,
   "toc_position": {},
   "toc_section_display": true,
   "toc_window_display": true
  },
  "varInspector": {
   "cols": {
    "lenName": 16,
    "lenType": 16,
    "lenVar": 40
   },
   "kernels_config": {
    "python": {
     "delete_cmd_postfix": "",
     "delete_cmd_prefix": "del ",
     "library": "var_list.py",
     "varRefreshCmd": "print(var_dic_list())"
    },
    "r": {
     "delete_cmd_postfix": ") ",
     "delete_cmd_prefix": "rm(",
     "library": "var_list.r",
     "varRefreshCmd": "cat(var_dic_list()) "
    }
   },
   "types_to_exclude": [
    "module",
    "function",
    "builtin_function_or_method",
    "instance",
    "_Feature"
   ],
   "window_display": false
  }
 },
 "nbformat": 4,
 "nbformat_minor": 2
}
