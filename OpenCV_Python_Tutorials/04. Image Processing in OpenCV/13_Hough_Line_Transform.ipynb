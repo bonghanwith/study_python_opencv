{
 "cells": [
  {
   "cell_type": "markdown",
   "metadata": {},
   "source": [
    "### Hough Line Transform\n",
    "Learn to detect lines in an image\n",
    "\n",
    "#### 목표\n",
    "In this chapter,\n",
    "\n",
    "* We will understand the concept of the Hough Transform.\n",
    "* We will see how to use it to detect lines in an image.\n",
    "* We will see the following functions: [cv.HoughLines()](https://docs.opencv.org/3.4/dd/d1a/group__imgproc__feature.html#ga46b4e588934f6c8dfd509cc6e0e4545a), [cv.HoughLinesP()](https://docs.opencv.org/3.4/dd/d1a/group__imgproc__feature.html#ga8618180a5948286384e3b7ca02f6feeb)\n",
    "\n",
    "#### 이론\n",
    "\n",
    "Hough Transform은 그 형태를 수학적 형태로 나타낼 수 있다면 어떤 형태라도 감지 할 수있는 보편적 인 기술입니다. 그것은 부서 지거나 조금 왜곡 되더라도 모양을 감지 할 수 있습니다. 우리는 그것이 한 라인에서 어떻게 작동하는지 볼 것입니다.\n",
    "\n",
    "선은 y = mx + c 또는 파라 메트릭 형태로, ρ = xcosθ + ysinθ로 나타낼 수 있습니다. 여기서 ρ는 원점에서 선까지의 수직 거리이고, θ는이 수직선과 수평 축에 의해 형성된 각도입니다 반 시계 방향으로 측정 (이 방향은 좌표계를 나타내는 방법에 따라 달라지며이 표현은 OpenCV에서 사용됩니다). 아래 이미지를 확인하십시오.\n",
    "\n",
    "![](houghLineTheory.jpg)\n",
    "\n",
    "따라서 선이 원점 아래를 지나갈 경우 양의 ρ와 180보다 작은 각도를 갖게됩니다. 원점을 초과하면 180보다 큰 각도를 사용하는 대신 각도가 180보다 작고 ρ 부정적인 것으로 간주됩니다. 수직선은 0도, 수평선은 90 도가됩니다.\n",
    "\n",
    "이제 Hough Transform이 선에 대해 어떻게 작동하는지 살펴 보겠습니다. 임의의 선은이 두 항 (ρ, θ)로 나타낼 수 있습니다. 먼저 2D 배열 또는 누적기를 작성하여 두 매개 변수의 값을 보유합니다. 처음에는 0으로 설정됩니다. 행은 ρ를 표시하고 열은 θ를 나타냅니다. 배열의 크기는 필요한 정확도에 따라 다릅니다. 각도의 정확도가 1 도가되기를 원한다면 180 열이 필요합니다. ρ의 경우 가능한 최대 거리는 이미지의 대각 길이입니다. 따라서 한 픽셀 정확도를 고려하면 행 수는 이미지의 대각선 길이가 될 수 있습니다.\n",
    "\n",
    "중간에 수평선이있는 100x100 이미지를 생각해보십시오. 선의 첫 번째 점을 가져옵니다. 당신은 그것의 (x, y) 값을 알고 있습니다. 이제 라인 방정식에서 θ = 0,1,2, ...., 180 값을 입력하고 ρ를 확인하십시오. 모든 (ρ, θ) 쌍에 대해, 우리는 해당 누적 기 (ρ, θ) 셀의 값을 1 씩 증가시킵니다. 그래서 이제는 축전기에서 다른 셀과 함께 셀 (50,90) = 1이됩니다.\n",
    "\n",
    "이제 라인의 두 번째 점을 잡으십시오. 위와 동일하게하십시오. 당신이 가진 (rho, theta)에 해당하는 셀의 값을 증가 시키십시오. 이번에는 셀 (50,90) = 2입니다. 실제로하는 것은 (ρ, θ) 값을 투표하는 것입니다. 이 프로세스는 라인의 모든 포인트에 대해 계속됩니다. 각 포인트에서, 셀 (50, 90)은 증가되거나 투표되고, 다른 셀은 투표 될 수도 있고 그렇지 않을 수도 있습니다. 이렇게하면 결국 셀 (50,90)에 최대 득표 수가있게됩니다. 따라서 누적기를 최대 득점으로 검색하면 값이 (50,90)이됩니다.이 이미지에는 원점에서 50도 떨어진 각도에 90도 각도의 선이 있습니다. 그것은 아래의 애니메이션에 잘 나타나 있습니다 (이미지 제공 : Amos Storkey)\n",
    "![](houghlinesdemo.gif)\n",
    "이것은 hough transform이 라인에서 어떻게 작동 하는지를 보여줍니다. 그것은 간단하며 스스로 Numpy를 사용하여 구현할 수도 있습니다. 아래 그림은 누산기를 보여주는 이미지입니다. 일부 위치의 밝은 점은 이미지에서 가능한 선의 매개 변수임을 나타냅니다. (이미지 제공 : 위키피디아 )\n",
    "![](houghlines2.jpg)\n",
    "\n",
    "#### OpenCV에서의 Hough 변환\n",
    "\n",
    "위에서 설명한 모든 것은 OpenCV 함수 인 cv.HoughLines ()에 캡슐화되어 있습니다. 단순히 math : (rho, theta)값의 배열을 반환합니다. ρ는 픽셀 단위로 측정되며 θ는 라디안 단위로 측정됩니다. 첫 번째 매개 변수는 입력 이미지가 바이너리 이미지 여야하므로 임계 값을 적용하거나 허니 변환을 적용하기 전에 가장자리 감지를 사용하십시오. 두 번째 및 세 번째 매개 변수는 각각 ρ 및 θ 정확도입니다. 넷째 인수는 한계선으로, 최소한 투표로 간주되어 선으로 간주되어야한다. 투표 수는 선상에있는 점수의 수에 달려 있음을 기억하십시오. 그래서 그것은 탐지되어야하는 라인의 최소 길이를 나타냅니다.\n",
    "\n"
   ]
  },
  {
   "cell_type": "code",
   "execution_count": 18,
   "metadata": {},
   "outputs": [
    {
     "data": {
      "text/plain": [
       "True"
      ]
     },
     "execution_count": 18,
     "metadata": {},
     "output_type": "execute_result"
    }
   ],
   "source": [
    "import cv2 as cv\n",
    "import numpy as np\n",
    "\n",
    "img   = cv.imread('sudoku-original.jpg')\n",
    "gray  = cv.cvtColor(img,cv.COLOR_BGR2GRAY)\n",
    "edges = cv.Canny(gray,50,100,apertureSize = 3)\n",
    "lines = cv.HoughLines(edges,1,np.pi / 180, 175)\n",
    "\n",
    "for line in lines:\n",
    "    rho,theta = line[0]\n",
    "    a         = np.cos(theta)\n",
    "    b         = np.sin(theta)\n",
    "    x0        = a * rho\n",
    "    y0        = b * rho\n",
    "    x1        = int(x0 + 1000 * (-b))\n",
    "    y1        = int(y0 + 1000 * (a))\n",
    "    x2        = int(x0 - 1000 * (-b))\n",
    "    y2        = int(y0 - 1000 * (a))\n",
    "    cv.line(img,(x1,y1),(x2,y2),(0,0,255),2)\n",
    "cv.imwrite('houghlines3.jpg',img)\n"
   ]
  },
  {
   "cell_type": "markdown",
   "metadata": {},
   "source": [
    "![](houghlines3.jpg)\n",
    "\n",
    "#### Probabilistic Hough Transform\n",
    "hough 변환에서 두 개의 인수를 가진 행에 대해서조차도 많은 계산이 필요하다는 것을 알 수 있습니다. Probabilistic Hough Transform은 우리가 본 Hough Transform의 최적화입니다. 모든 점을 고려하지는 않습니다. 대신에 라인 탐지에 충분한 임의의 부분 집합 만 사용합니다. 임계 값을 줄여야합니다. Hough 공간에서 Hough Transform과 Probabilistic Hough Transform을 비교하는 아래 이미지를 참조하십시오. (이미지 제공 : Franck Bettinger의 홈 페이지 )\n",
    "![](houghlines4.png)\n",
    "OpenCV 구현은 Matas, J. 및 Galambos, C. 및 Kittler, JV [129]에 의해 Progressive Probabilistic Hough Transform을 사용하여 라인의 강력한 탐지를 기반으로 합니다. 사용 된 함수는 cv.HoughLinesP () 입니다. 그것에는 두 가지 새로운 주장이 있습니다.\n",
    "\n",
    "* minLineLength - 라인의 최소 길이. 이보다 더 짧은 선분은 거부됩니다.\n",
    "* maxLineGap - 한 줄로 처리 할 수있는 선 세그먼트 사이의 최대 간격입니다.\n",
    "가장 좋은 점은 라인의 두 끝점을 직접 반환한다는 것입니다. 이전의 경우 선의 매개 변수 만 가져 왔고 모든 점을 찾아야했습니다. 여기 모든 것이 직접적이고 간단합니다."
   ]
  },
  {
   "cell_type": "code",
   "execution_count": 27,
   "metadata": {},
   "outputs": [
    {
     "data": {
      "text/plain": [
       "True"
      ]
     },
     "execution_count": 27,
     "metadata": {},
     "output_type": "execute_result"
    }
   ],
   "source": [
    "import cv2 as cv\n",
    "import numpy as np\n",
    "\n",
    "img   = cv.imread('sudoku-original.jpg')\n",
    "gray  = cv.cvtColor(img,cv.COLOR_BGR2GRAY)\n",
    "edges = cv.Canny(gray, 50, 90, apertureSize = 3)\n",
    "lines = cv.HoughLinesP(edges,1,np.pi / 180, 100, minLineLength = 100,maxLineGap = 10)\n",
    "for line in lines:\n",
    "    x1,y1,x2,y2 = line[0]\n",
    "    cv.line(img,(x1,y1),(x2,y2),(0,255,0),2)\n",
    "cv.imwrite('houghlines5.jpg',img)"
   ]
  },
  {
   "cell_type": "markdown",
   "metadata": {},
   "source": [
    "![](houghlines5.jpg)\n",
    "\n",
    "#### Additional Resources\n",
    "1. [Hough Transform on Wikipedia](https://en.wikipedia.org/wiki/Hough_transform)"
   ]
  }
 ],
 "metadata": {
  "kernelspec": {
   "display_name": "Python 3",
   "language": "python",
   "name": "python3"
  },
  "language_info": {
   "codemirror_mode": {
    "name": "ipython",
    "version": 3
   },
   "file_extension": ".py",
   "mimetype": "text/x-python",
   "name": "python",
   "nbconvert_exporter": "python",
   "pygments_lexer": "ipython3",
   "version": "3.6.6"
  },
  "toc": {
   "base_numbering": 1,
   "nav_menu": {},
   "number_sections": true,
   "sideBar": true,
   "skip_h1_title": false,
   "title_cell": "Table of Contents",
   "title_sidebar": "Contents",
   "toc_cell": false,
   "toc_position": {},
   "toc_section_display": true,
   "toc_window_display": false
  },
  "varInspector": {
   "cols": {
    "lenName": 16,
    "lenType": 16,
    "lenVar": 40
   },
   "kernels_config": {
    "python": {
     "delete_cmd_postfix": "",
     "delete_cmd_prefix": "del ",
     "library": "var_list.py",
     "varRefreshCmd": "print(var_dic_list())"
    },
    "r": {
     "delete_cmd_postfix": ") ",
     "delete_cmd_prefix": "rm(",
     "library": "var_list.r",
     "varRefreshCmd": "cat(var_dic_list()) "
    }
   },
   "types_to_exclude": [
    "module",
    "function",
    "builtin_function_or_method",
    "instance",
    "_Feature"
   ],
   "window_display": false
  }
 },
 "nbformat": 4,
 "nbformat_minor": 2
}
