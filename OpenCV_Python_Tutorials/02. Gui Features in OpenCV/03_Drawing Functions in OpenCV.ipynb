{
 "cells": [
  {
   "cell_type": "markdown",
   "metadata": {},
   "source": [
    "## Drawing Functions in OpenCV [링크](https://docs.opencv.org/3.0-beta/doc/py_tutorials/py_gui/py_drawing_functions/py_drawing_functions.html#drawing-functions)\n",
    "\n",
    "#### Drawing Line\n",
    "> 선을 그리려면 선의 시작과 끝 좌표를 전달해야합니다. 우리는 검은 색 이미지를 만들고 왼쪽 위부터 오른쪽 아래까지 파란 선을 그릴 것입니다. \n",
    "#### Drawing Rectange\n",
    "> 직사각형을 그리려면 사각형의 왼쪽 위 모서리와 오른쪽 하단 모서리가 필요합니다. 이번에는 이미지의 오른쪽 상단에 녹색 사각형을 그려 보겠습니다.\n",
    "#### Drawing Circle\n",
    "> 원을 그리려면 중심 좌표와 반지름이 필요합니다. 위에서 그린 직사각형 안에 원을 그립니다.\n",
    "#### Drawing Ellipse\n",
    "> To draw the ellipse, we need to pass several arguments. One argument is the center location (x,y). Next argument is axes lengths (major axis length, minor axis length). angle is the angle of rotation of ellipse in anti-clockwise direction. startAngle and endAngle denotes the starting and ending of ellipse arc measured in clockwise direction from major axis. i.e. giving values 0 and 360 gives the full ellipse. For more details, check the documentation of cv2.ellipse(). Below example draws a half ellipse at the center of the image.\n",
    "#### Drawing Polygon\n",
    "> To draw a polygon, first you need coordinates of vertices. Make those points into an array of shape ROWSx1x2 where ROWS are number of vertices and it should be of type int32. Here we draw a small polygon of with four vertices in yellow color.\n",
    "#### Adding Text to Images:\n",
    "> To put texts in images, you need specify following things.\n",
    "Text data that you want to write\n",
    "Position coordinates of where you want put it (i.e. bottom-left corner where data starts).\n",
    "Font type (Check cv2.putText() docs for supported fonts)\n",
    "Font Scale (specifies the size of font)\n",
    "regular things like color, thickness, lineType etc. For better look, lineType = cv2.LINE_AA is recommended.\n",
    "We will write OpenCV on our image in white color."
   ]
  },
  {
   "cell_type": "code",
   "execution_count": 1,
   "metadata": {},
   "outputs": [],
   "source": [
    "import numpy as np\n",
    "import cv2\n",
    "\n",
    "img = np.zeros((512, 512, 3), np.uint8)\n",
    "\n",
    "cv2.line(img, (0, 0), (511, 511), (255, 0, 0), 5)\n",
    "\n",
    "cv2.rectangle(img, (384, 0), (510, 218), (0, 255, 0, 3))\n",
    "\n",
    "cv2.circle(img, (447, 53), 53, (0, 0, 255), -1)\n",
    "\n",
    "cv2.ellipse(img,(256, 256), (100, 50) ,0 , 0, 180, 255, 4)\n",
    "\n",
    "pts = np.array([[10,5],[20,30],[70,20],[50,10]], np.int32)\n",
    "pts = pts.reshape((-1,1,2))\n",
    "cv2.polylines(img,[pts],True,(0,255,255))\n",
    "\n",
    "font = cv2.FONT_HERSHEY_SIMPLEX\n",
    "cv2.putText(img, 'OpenCV', (10, 500), font, 4, (255, 255, 255), 2, cv2.LINE_AA)\n",
    "\n",
    "cv2.imshow('resutl', img)\n",
    "cv2.waitKey(0)\n",
    "cv2.destroyAllWindows()"
   ]
  },
  {
   "cell_type": "markdown",
   "metadata": {},
   "source": [
    "## Exercises\n",
    "> 1. Try to create the logo of OpenCV using drawing functions available in OpenCV."
   ]
  },
  {
   "cell_type": "code",
   "execution_count": 28,
   "metadata": {},
   "outputs": [],
   "source": [
    "import numpy as np\n",
    "import cv2\n",
    "\n",
    "img = np.zeros((512, 512, 3), np.uint8)\n",
    "\n",
    "cv2.ellipse(img,(100, 300), (50, 50) ,0 , 0, 300, (0, 255, 0), -1)\n",
    "cv2.ellipse(img,(100, 300), (25, 25) ,0 , 0, 300, (0, 0, 0), -1)\n",
    "\n",
    "cv2.ellipse(img,(250, 100), (50, 50) ,60 , 0, -300, (0, 0, 255), -1)\n",
    "cv2.ellipse(img,(250, 100), (25, 25) ,60 , 0, -300, (0, 0, 0), -1)\n",
    "\n",
    "cv2.ellipse(img,(400, 300), (50, 50) ,-60 , 0, 300, (255, 0, 0), -1)\n",
    "cv2.ellipse(img,(400, 300), (25, 25) ,-60 , 0, 300, (0, 0, 0), -1)\n",
    "\n",
    "font = cv2.FONT_HERSHEY_SIMPLEX\n",
    "cv2.putText(img, 'OpenCV', (50, 500), font, 3.4, (255, 255, 255), 8, cv2.LINE_8)\n",
    "\n",
    "\n",
    "cv2.imshow('resutl', img)\n",
    "cv2.waitKey(0)\n",
    "cv2.destroyAllWindows()"
   ]
  }
 ],
 "metadata": {
  "kernelspec": {
   "display_name": "Python 3",
   "language": "python",
   "name": "python3"
  },
  "language_info": {
   "codemirror_mode": {
    "name": "ipython",
    "version": 3
   },
   "file_extension": ".py",
   "mimetype": "text/x-python",
   "name": "python",
   "nbconvert_exporter": "python",
   "pygments_lexer": "ipython3",
   "version": "3.6.6"
  }
 },
 "nbformat": 4,
 "nbformat_minor": 2
}
