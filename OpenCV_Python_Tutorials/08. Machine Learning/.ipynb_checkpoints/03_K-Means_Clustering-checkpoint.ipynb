{
 "cells": [
  {
   "cell_type": "markdown",
   "metadata": {},
   "source": [
    "## [K-Means Clustering](https://docs.opencv.org/3.4/d9/d70/tutorial_py_kmeans_index.html)\n",
    "K-Means Clustering을 사용하여 데이터를 여러 클러스터로 그룹화하는 방법을 학습하십시오. K-Means Clustering을 사용하여 컬러 양자화를하는 방법을 배우십시오.\n",
    "\n",
    "### [Understanding K-Means Clustering]https://docs.opencv.org/3.4/de/d4d/tutorial_py_kmeans_understanding.html\n",
    "\n",
    "#### Goal\n",
    "In this chapter, we will understand the concepts of K-Means Clustering, how it works etc.\n",
    "\n",
    "#### Theory\n",
    "We will deal this with an example which is commonly used.\n",
    "\n",
    "##### T-shirt size problem\n",
    "시장에 새로운 티셔츠 모델을 공개 할 회사를 생각해보십시오. 분명히 그들은 모든 규모의 사람들을 만족시키기 위해 다양한 크기의 모델을 만들어야 할 것입니다. 그래서 회사는 사람들의 신장과 체중을 나타내는 데이터를 만들어 그래프에 그려줍니다.\n",
    "\n",
    "![](tshirt.jpg)\n",
    "회사는 모든 크기의 티셔츠를 만들 수 없습니다. 대신 사람들을 중소, 중형 및 대형으로 나누고 모든 사람들에게 적합한이 3 가지 모델 만 제조합니다. 이 그룹을 세 그룹으로 그룹화하는 것은 k-means 클러스터링으로 수행 할 수 있으며 알고리즘은 모든 사람들을 만족시킬 수있는 최상의 3 가지 크기를 제공합니다. 그리고 그렇지 않은 경우, 회사는 사람들을 더 많은 그룹으로 나눌 수 있으며, 5 개가 될 수도 있습니다. 아래 이미지 확인 :\n",
    "\n",
    "![](tshirt_grouped.jpg)\n",
    "\n",
    "##### How does it work ?\n",
    "이 알고리즘은 반복적 인 프로세스입니다. 우리는 이미지의 도움으로 단계별로 설명 할 것입니다.\n",
    "\n",
    "다음과 같은 데이터 세트를 고려해 보십시오 (T 셔츠 문제로 간주 할 수 있음). 이 데이터를 두 그룹으로 묶어야 합니다.\n",
    "\n",
    "![](testdata.jpg)\n",
    "\n",
    "**Step : 1** - 알고리즘은 무작위로 두 개의 centroid 인 \\\\(C1\\\\)과 \\\\(C2\\\\)를 선택합니다 (때로는 두 개의 데이터가 centroid로 간주됩니다)\n",
    "\n",
    "**Step : 2** - 각 점으로부터 두 centroid까지의 거리를 계산합니다. 테스트 데이터가 \\\\(C1\\\\)에 더 가깝다면 그 데이터는 '0'으로 표시됩니다. \\\\(C2\\\\)에 가까우면 '1'로 표시됩니다 (더 많은 중심 부호가 있으면 '2', '3'등으로 표시).\n",
    "\n",
    "우리의 경우, 우리는 모두 붉은 색으로 레이블링 된 '0'을, 파란색으로 레이블링 된 '1'을 색칠합니다. 그래서 우리는 위의 작업 후에도 다음 이미지를 얻습니다.\n",
    "\n",
    "![](initial_labelling.jpg)\n",
    "\n",
    "**3 단계** - 다음으로 우리는 모든 파란색 점과 빨간색 점의 평균을 따로 계산합니다.이 점이 우리의 새로운 중심입니다. \\\\(C1\\\\)과 \\\\(C2\\\\)가 새로 계산 된 중심으로 이동합니다. (표시된 이미지는 실제 값이 아니라 실제 스케일이 아니라 단지 데모 용입니다.)\n",
    "\n",
    "그리고 다시 새로운 centroid와 레이블 데이터를 '0'과 '1'로하여 2 단계를 수행하십시오.\n",
    "\n",
    "결과는 아래와 같습니다.\n",
    "\n",
    "![](update_centroid.jpg)\n",
    "\n",
    "\n",
    "이제 **step-2**와 **step-3**은 두 centroid가 고정 점에 수렴 될 때까지 반복됩니다. * (최대 반복 횟수 또는 특정 정확도에 도달 할 때 제공되는 기준에 따라 중단 될 수 있습니다.)* **이 포인트는 테스트 데이터와 해당 무게 중심 간의 거리의 합이 최소가되는 지점입니다.** 또는 단순히 \\\\(C1 \\leftrightarrow Red\\_Points\\\\)와 \\\\(C2 \\leftrightarrow Blue\\_Points\\\\) 사이의 거리의 합이 최소입니다.\n",
    "\\\\(\n",
    "minimize \\;\\bigg[J = \\sum_{All\\: Red\\_Points}distance(C1,Red\\_Point) + \\sum_{All\\: Blue\\_Points}distance(C2,Blue\\_Point)\\bigg]\n",
    "\\\\)\n",
    "Final result almost looks like below :\n",
    "\n",
    "![](l_clusters.jpg)\n",
    "그래서 이것은 K-Means Clustering의 직관적 인 이해 일뿐입니다. 더 자세한 내용과 수학적 설명은 표준 기계 학습 교과서를 읽거나 추가 자료로 링크를 확인하십시오. K-Means 클러스터링의 최상위 계층 일뿐입니다. 이 알고리즘에는 초기 중심을 선택하는 방법, 반복 프로세스를 빠르게하는 방법 등 많은 수정 사항이 있습니다.\n",
    "\n",
    "#### Additional Resources\n",
    "1. [Machine Learning Course](https://www.coursera.org/learn/machine-learning), Video lectures by Prof. Andrew Ng (Some of the images are taken from this)\n",
    "\n",
    "#### Exercises\n",
    "\n",
    "### [K-Means Clustering in OpenCV](https://docs.opencv.org/3.4/d1/d5c/tutorial_py_kmeans_opencv.html)\n",
    "Now let's try K-Means functions in OpenCV\n",
    "\n",
    "#### Goal\n",
    "Learn to use [cv.kmeans()](https://docs.opencv.org/3.4/d5/d38/group__core__cluster.html#ga9a34dc06c6ec9460e90860f15bcd2f88) function in OpenCV for data clustering\n",
    "\n",
    "#### Understanding Parameters\n",
    "##### Input parameters\n",
    "1. **samples** : It should be of **np.float32** data type, and each feature should be put in a single column.\n",
    "2. **nclusters(K)** : Number of clusters required at end\n",
    "3. **criteria** : It is the iteration termination criteria. When this criteria is satisfied, algorithm iteration stops. Actually, it should be a tuple of 3 parameters. They are `( type, max_iter, epsilon )`:\n",
    "\n",
    "    a. type of termination criteria. It has 3 flags as below:\n",
    "        * **cv.TERM_CRITERIA_EPS** - stop the algorithm iteration if specified accuracy, epsilon, is reached.\n",
    "        * **cv.TERM_CRITERIA_MAX_ITER** - stop the algorithm after the specified number of iterations, max_iter.\n",
    "        * **cv.TERM_CRITERIA_EPS + cv.TERM_CRITERIA_MAX_ITER** - stop the iteration when any of the above condition is met.\n",
    "        \n",
    "    b. max_iter - An integer specifying maximum number of iterations.\n",
    "    \n",
    "    c. epsilon - Required accuracy\n",
    "\n",
    "4. **attempts** : Flag to specify the number of times the algorithm is executed using different initial labellings. The algorithm returns the labels that yield the best compactness. This compactness is returned as output.\n",
    "5. **flags** : This flag is used to specify how initial centers are taken. Normally two flags are used for this : [cv.KMEANS_PP_CENTERS](https://docs.opencv.org/3.4/d0/de1/group__core.html#gga276000efe55ee2756e0c471c7b270949a78ddd00a99cd51db10ed63c024eb1e62) and [cv.KMEANS_RANDOM_CENTERS](https://docs.opencv.org/3.4/d0/de1/group__core.html#gga276000efe55ee2756e0c471c7b270949adfa80a38dfc0aef0de888c3164f33faf).\n",
    "\n",
    "\n",
    "##### Output parameters\n",
    "1. compactness : It is the sum of squared distance from each point to their corresponding centers.\n",
    "2. labels : This is the label array (same as 'code' in previous article) where each element marked '0', '1'.....\n",
    "3. centers : This is array of centers of clusters.\n",
    "\n",
    "Now we will see how to apply K-Means algorithm with three examples.\n",
    "\n",
    "#### 1. Data with Only One Feature\n",
    "하나의 피쳐 (예 : 1 차원) 만있는 데이터 세트가 있다고 가정합니다. 예를 들어, 우리는 티셔츠의 크기를 결정하기 위해 사람들의 키높이에만 사용하는 티셔츠 문제를 생각해 볼 수 있습니다.\n",
    "\n",
    "먼저 데이터를 만들어 Matplotlib에 그려 봅니다."
   ]
  },
  {
   "cell_type": "code",
   "execution_count": 5,
   "metadata": {
    "scrolled": true
   },
   "outputs": [
    {
     "data": {
      "image/png": "[encoded data removed]",
      "text/plain": [
       "<Figure size 432x288 with 1 Axes>"
      ]
     },
     "metadata": {
      "needs_background": "light"
     },
     "output_type": "display_data"
    }
   ],
   "source": [
    "import numpy as np\n",
    "import cv2 as cv\n",
    "from matplotlib import pyplot as plt\n",
    "\n",
    "x = np.random.randint(25,100,25)\n",
    "y = np.random.randint(175,255,25)\n",
    "z = np.hstack((x,y))\n",
    "z = z.reshape((50,1))\n",
    "z = np.float32(z)\n",
    "plt.hist(z,256,[0,256]),\n",
    "plt.show()"
   ]
  },
  {
   "cell_type": "markdown",
   "metadata": {},
   "source": [
    "그래서 우리는 크기가 50이고 값이 0에서 255 사이의 배열 인 'z'를가집니다. 열 벡터에 'z'를 재 형성했습니다. 둘 이상의 기능이있는 경우 더 유용합니다. 그런 다음 np.float32 유형의 데이터를 만들었습니다.\n",
    "\n",
    "우리는 위와 같은 이미지를 얻습니다.\n",
    "\n",
    "이제 우리는 KMeans 함수를 적용합니다. 그 전에 우리는 기준을 명시 할 필요가있다. 내 기준은 알고리즘의 10 번 반복이 실행되거나 엡실론 = 1.0의 정확도에 도달 할 때마다 알고리즘을 중지하고 응답을 반환한다는 것입니다."
   ]
  },
  {
   "cell_type": "code",
   "execution_count": 7,
   "metadata": {},
   "outputs": [],
   "source": [
    "# Define criteria = ( type, max_iter = 10 , epsilon = 1.0 )\n",
    "criteria = (cv.TERM_CRITERIA_EPS + cv.TERM_CRITERIA_MAX_ITER, 10, 1.0)\n",
    "\n",
    "# Set flags (Just to avoid line break in the code)\n",
    "flags = cv.KMEANS_RANDOM_CENTERS\n",
    "\n",
    "# Apply KMeans\n",
    "compactness,labels,centers = cv.kmeans(z, 2, None, criteria, 10, flags)"
   ]
  },
  {
   "cell_type": "markdown",
   "metadata": {},
   "source": [
    "이것은 우리에게 소형화, 라벨 및 센터를 제공합니다. 이 경우, 센터는 60과 207입니다. 레이블의 크기는 테스트 데이터의 크기와 같으며 각 데이터의 중심에 따라 '0', '1', '2'등으로 레이블이 지정됩니다. 이제 레이블에 따라 데이터를 다른 클러스터로 분할했습니다."
   ]
  },
  {
   "cell_type": "code",
   "execution_count": 8,
   "metadata": {},
   "outputs": [],
   "source": [
    "A = z[labels == 0]\n",
    "B = z[labels == 1]"
   ]
  },
  {
   "cell_type": "markdown",
   "metadata": {},
   "source": [
    "Now we plot A in Red color and B in Blue color and their centroids in Yellow color."
   ]
  },
  {
   "cell_type": "code",
   "execution_count": 9,
   "metadata": {
    "scrolled": true
   },
   "outputs": [
    {
     "data": {
      "image/png": "[encoded data removed]",
      "text/plain": [
       "<Figure size 432x288 with 1 Axes>"
      ]
     },
     "metadata": {
      "needs_background": "light"
     },
     "output_type": "display_data"
    }
   ],
   "source": [
    "# Now plot 'A' in red, 'B' in blue, 'centers' in yellow\n",
    "plt.hist(A, 256, [0,256], color = 'r')\n",
    "plt.hist(B, 256, [0,256], color = 'b')\n",
    "plt.hist(centers, 32, [0, 256], color = 'y')\n",
    "plt.show()"
   ]
  },
  {
   "cell_type": "markdown",
   "metadata": {},
   "source": [
    "#### 2. Data with Multiple Features\n",
    "이전 예에서는 티셔츠 문제에 대해서만 높이를 사용했습니다. 여기서는 높이와 무게, 즉 두 가지 기능을 모두 사용합니다.\n",
    "\n",
    "이전 사례에서는 데이터를 단일 열 벡터로 만들었습니다. 각 기능은 열에 정렬되어 있으며, 각 행은 입력 테스트 샘플에 해당합니다.\n",
    "\n",
    "예를 들어이 경우 50 명의 높이와 무게 인 50x2 크기의 테스트 데이터를 설정합니다. 첫 번째 열은 모든 50 명의 사람들의 높이에 해당하고 두 번째 열은 그들의 무게에 해당합니다. 첫 번째 행에는 첫 번째 사람의 높이와 두 번째 사람의 몸무게를 나타내는 두 요소가 있습니다. 마찬가지로 나머지 행은 다른 사람들의 높이와 무게에 해당합니다. 아래 이미지 확인 :\n",
    "\n",
    "![](oc_feature_representation.jpg)\n",
    "\n",
    "Now I am directly moving to the code:"
   ]
  },
  {
   "cell_type": "code",
   "execution_count": 10,
   "metadata": {
    "scrolled": true
   },
   "outputs": [
    {
     "data": {
      "image/png": "[encoded data removed]",
      "text/plain": [
       "<Figure size 432x288 with 1 Axes>"
      ]
     },
     "metadata": {
      "needs_background": "light"
     },
     "output_type": "display_data"
    }
   ],
   "source": [
    "import numpy as np\n",
    "import cv2 as cv\n",
    "from matplotlib import pyplot as plt\n",
    "\n",
    "X = np.random.randint(25, 50, (25, 2))\n",
    "Y = np.random.randint(60, 85, (25, 2))\n",
    "Z = np.vstack((X,Y))\n",
    "\n",
    "# convert to np.float32\n",
    "Z = np.float32(Z)\n",
    "\n",
    "# define criteria and apply kmeans()\n",
    "criteria           = (cv.TERM_CRITERIA_EPS + cv.TERM_CRITERIA_MAX_ITER, 10, 1.0)\n",
    "ret, label, center = cv.kmeans(Z, 2, None, criteria, 10, cv.KMEANS_RANDOM_CENTERS)\n",
    "\n",
    "# Now separate the data, Note the flatten()\n",
    "A = Z[label.ravel()==0]\n",
    "B = Z[label.ravel()==1]\n",
    "\n",
    "# Plot the data\n",
    "plt.scatter(A[:, 0],A[:, 1])\n",
    "plt.scatter(B[:, 0],B[:,1 ], c = 'r')\n",
    "plt.scatter(center[:, 0], center[:, 1], s = 80, c = 'y', marker = 's')\n",
    "plt.xlabel('Height'), plt.ylabel('Weight')\n",
    "plt.show()"
   ]
  },
  {
   "cell_type": "markdown",
   "metadata": {},
   "source": [
    "#### 3. Color Quantization\n",
    "색 양자화는 이미지의 색상 수를 줄이는 프로세스입니다. 이렇게하는 한 가지 이유는 메모리를 줄이는 것입니다. 경우에 따라 일부 장치에는 제한된 수의 색상 만 생성 할 수있는 제한이있을 수 있습니다. 이 경우에도 컬러 양자화가 수행됩니다. 여기서 우리는 색 양자화를 위해 k-means 클러스터링을 사용합니다.\n",
    "\n",
    "여기서 설명 할 새로운 것은 없습니다. R, G, B 등 3 가지 기능이 있습니다. 따라서 이미지를 Mx3 크기의 배열로 바꿔야합니다 (M은 이미지의 픽셀 수임). 그리고 클러스터링이 끝날 때마다 결과 값이 지정된 수의 색상을 갖도록 모든 픽셀에 중심 값 (R, G, B이기도 함)을 적용합니다. 다시 원래의 이미지 모양으로 다시 바꿀 필요가 있습니다. 아래는 코드입니다."
   ]
  },
  {
   "cell_type": "code",
   "execution_count": null,
   "metadata": {},
   "outputs": [],
   "source": [
    "import numpy as np\n",
    "import cv2 as cv\n",
    "\n",
    "img = cv.imread('../data/home.jpg')\n",
    "Z   = img.reshape((-1,3))\n",
    "\n",
    "# convert to np.float32\n",
    "Z = np.float32(Z)\n",
    "\n",
    "# define criteria, number of clusters(K) and apply kmeans()\n",
    "criteria = (cv.TERM_CRITERIA_EPS + cv.TERM_CRITERIA_MAX_ITER, 10, 1.0)\n",
    "\n",
    "K = 8\n",
    "ret, label, center = cv.kmeans(Z, K, None, criteria, 10, cv.KMEANS_RANDOM_CENTERS)\n",
    "\n",
    "# Now convert back into uint8, and make original image\n",
    "center = np.uint8(center)\n",
    "res    = center[label.flatten()]\n",
    "res2   = res.reshape((img.shape))\n",
    "cv.imshow('res2', res2)\n",
    "cv.waitKey(0)\n",
    "cv.destroyAllWindows()\n",
    "cv.waitKey(1)"
   ]
  },
  {
   "cell_type": "markdown",
   "metadata": {},
   "source": [
    "#### Additional Resources\n",
    "#### Exercises"
   ]
  },
  {
   "cell_type": "code",
   "execution_count": null,
   "metadata": {},
   "outputs": [],
   "source": [
    "\n"
   ]
  }
 ],
 "metadata": {
  "kernelspec": {
   "display_name": "Python 3",
   "language": "python",
   "name": "python3"
  },
  "language_info": {
   "codemirror_mode": {
    "name": "ipython",
    "version": 3
   },
   "file_extension": ".py",
   "mimetype": "text/x-python",
   "name": "python",
   "nbconvert_exporter": "python",
   "pygments_lexer": "ipython3",
   "version": "3.6.6"
  },
  "toc": {
   "base_numbering": 1,
   "nav_menu": {},
   "number_sections": true,
   "sideBar": true,
   "skip_h1_title": false,
   "title_cell": "Table of Contents",
   "title_sidebar": "Contents",
   "toc_cell": false,
   "toc_position": {},
   "toc_section_display": true,
   "toc_window_display": true
  },
  "varInspector": {
   "cols": {
    "lenName": 16,
    "lenType": 16,
    "lenVar": 40
   },
   "kernels_config": {
    "python": {
     "delete_cmd_postfix": "",
     "delete_cmd_prefix": "del ",
     "library": "var_list.py",
     "varRefreshCmd": "print(var_dic_list())"
    },
    "r": {
     "delete_cmd_postfix": ") ",
     "delete_cmd_prefix": "rm(",
     "library": "var_list.r",
     "varRefreshCmd": "cat(var_dic_list()) "
    }
   },
   "types_to_exclude": [
    "module",
    "function",
    "builtin_function_or_method",
    "instance",
    "_Feature"
   ],
   "window_display": false
  }
 },
 "nbformat": 4,
 "nbformat_minor": 2
}
