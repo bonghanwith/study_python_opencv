{
 "cells": [
  {
   "cell_type": "markdown",
   "metadata": {},
   "source": [
    "# [Machine Learning](https://docs.opencv.org/3.4/d6/de2/tutorial_py_table_of_contents_ml.html)\n",
    "In this section you will learn different image processing functions inside OpenCV.\n",
    "\n",
    "## [K-Nearest Neighbour](https://docs.opencv.org/3.4/d0/d72/tutorial_py_knn_index.html)\n",
    "Learn to use kNN for classification Plus learn about handwritten digit recognition using kNN\n",
    "\n",
    "### [Understanding k-Nearest Neighbour](https://docs.opencv.org/3.4/d5/d26/tutorial_py_knn_understanding.html)\n",
    "Get a basic understanding of what kNN is\n",
    "\n",
    "#### Goal\n",
    " this chapter, we will understand the concepts of k-Nearest Neighbour (kNN) algorithm.\n",
    " \n",
    " #### Theory\n",
    " kNN은 감독 학습에 사용할 수있는 가장 간단한 분류 알고리즘 중 하나입니다. 아이디어는 피쳐 공간에서 가장 가까운 테스트 데이터 일치를 검색하는 것입니다. 우리는 아래 이미지를 보게 될 것입니다.\n",
    "\n",
    "![](knn_theory.png)\n",
    "\n",
    "이미지에는 Blue Squares와 Red Triangles의 두 종류가 있습니다. 우리는 각 가정을 **클래스** 라고 부릅니다 . 그들의 집은 우리가 특징 공간이라고 부르는 그들의 마을지도에 나타난다. * (모든 데이터가 투영되는 공간으로 간주 할 수 있습니다. 예를 들어, 2D 좌표 공간을 고려하십시오. 각 데이터에는 x 좌표와 y 좌표의 두 가지 기능이 있습니다.이 데이터를 2D 좌표 공간에서 나타낼 수 있습니까? 이제 3 가지 기능이 있다면 3D 공간이 필요합니다. 이제 N 차원 공간이 필요한 N 개의 기능을 고려해보십시오.이 N 차원 공간은 기능 공간입니다. 이미지에서 2D 사례로 간주 할 수 있습니다. 두 가지 기능 포함) *.\n",
    "\n",
    "이제 새로운 회원이 마을에 와서 녹색 원으로 표시된 새로운 집을 만듭니다. 그는 이 Blue / Red 가족 중 한 곳에 추가해야 합니다. 우리는 그 과정을 분류라고 부릅니다. 우리가하는 일? kNN을 다루기 때문에 이 알고리즘을 적용 해 봅시다.\n",
    "\n",
    "한 가지 방법은 가장 가까운 이웃을 확인하는 것입니다. 이미지에서 Red Triangle 제품군이 명확합니다. 그래서 그는 레드 삼각형에 추가됩니다. 분류는 가장 가까운 이웃에만 의존하기 때문에이 방법은 간단히 **가장 가까운 이웃(Nearest Neighbour)** 이라고 합니다.\n",
    "\n",
    "그러나 거기에 문제가 있습니다. 적색 삼각형이 가장 가까운 것일 수 있습니다. 하지만 그 근처에 많은 블루 스퀘어가 있다면 어떨까요? 그런 다음 블루 스퀘어는 레드 삼각형보다 그 지역에서 더 강한 힘을 가지고 있습니다. 가장 가까운 것을 확인하는 것만으로는 충분하지 않습니다. 대신 우리는 가장 가까운 k 개의 가족을 확인합니다. 그런 다음 그들 중 다수 인 사람은 그 가족에 속합니다. 우리의 이미지에서, k = 3, 즉 가장 가까운 3 개의 가족을 취합니다. 그는 두 개의 빨간색과 한 개의 파란색을 가지고 있습니다 (두 개의 블루가 등거리이지만, k = 3이므로 하나만 가져옵니다). 그래서 다시 그는 레드 계열에 추가되어야합니다. 그러나 k = 7이라면? 그런 다음 그는 5 명의 블루 가족과 2 명의 레드 가족을두고 있습니다. 큰!! 이제 그는 Blue family에 추가되어야합니다. 그래서 그것은 k의 값으로 모두 바뀝니다. 더 재미있는 것은, k = 4라면? 그는 2 명의 빨간색과 2 명의 이웃을 가지고 있습니다. 그것은 넥타이 다 !!! 따라서 k를 홀수로 취하는 것이 좋습니다. **k-Nearest Neighbor** 은 k 최근 접 이웃에 따라 분류됩니다.\n",
    "\n",
    "kNN에서 k 개의 이웃을 고려하는 것은 사실이지만 모든 사람에게 동등한 중요성을 부여합니다. 그렇습니까? 그게 정의 야? 예를 들어, k = 4의 경우를 생각해 보자. 우리는 그것이 넥타이라고했습니다. 그러나 2 명의 Red 가족은 다른 2 명의 Blue 가족보다 더 가까이 있습니다. 따라서 그는 Red에 더 추가 될 자격이 있습니다. 그럼 어떻게 수학적으로 설명할까요? 우리는 신입생과의 거리에 따라 각 가족에게 약간의 무게를줍니다. 가까운 사람들은 더 높은 몸무게를 얻고, 다른 사람들은 더 낮은 몸무게를 갖습니다. 그런 다음 각 패밀리의 총 가중치를 따로 따로 가산합니다. 가장 큰 총중량을 얻은 사람은 누구나 그 가족에게갑니다. 이를 **수정 된 kNN** 이라고 합니다.\n",
    "\n",
    "그렇다면 여기에서 볼 수있는 중요한 것들은 무엇입니까?\n",
    "\n",
    "* 마을에있는 모든 집에 대한 정보가 필요해, 그렇지? 왜냐하면 가장 가까운 이웃을 찾기 위해 새 집부터 모든 기존 주택까지의 거리를 확인해야하기 때문입니다. 집과 가족이 많이 있다면, 많은 기억과 계산 시간이 필요합니다.\n",
    "* 어떤 종류의 훈련이나 준비도 거의 제로 시간입니다.\n",
    "이제 OpenCV에서 보겠습니다.\n",
    "\n",
    "#### kNN in OpenCV\n",
    "\n",
    "위에서처럼 두 개의 패밀리 (클래스)가있는 간단한 예제를 보여 드리겠습니다. 다음 장에서 더 좋은 예를 들어 보겠습니다.\n",
    "\n",
    "여기에서 우리는 Red family를 Class-0 (그래서 0으로 표시)과 Blue 가족을 Class-1 ( 1 로 표시)로 분류합니다. 우리는 25 개의 가족 또는 25 개의 훈련 데이터를 생성하고 Class-0 또는 Class-1로 분류합니다. 우리는 Numpy의 난수 생성기를 사용하여이 모든 작업을 수행합니다.\n",
    "\n",
    "그런 다음 우리는 Matplotlib의 도움을 받아 그것을 플로팅합니다. 빨간색 가족은 붉은 삼각형으로 표시되고 파란색 가족은 파란색 사각형으로 표시됩니다."
   ]
  },
  {
   "cell_type": "code",
   "execution_count": 7,
   "metadata": {
    "scrolled": true
   },
   "outputs": [
    {
     "data": {
      "image/png": "[encoded data removed]",
      "text/plain": [
       "<Figure size 432x288 with 1 Axes>"
      ]
     },
     "metadata": {
      "needs_background": "light"
     },
     "output_type": "display_data"
    }
   ],
   "source": [
    "%matplotlib inline\n",
    "import cv2 as cv\n",
    "import numpy as np\n",
    "import matplotlib.pyplot as plt\n",
    "\n",
    "# Feature set containing (x,y) values of 25 known/training data\n",
    "trainData = np.random.randint(0, 100, (25, 2)).astype(np.float32)\n",
    "\n",
    "# Labels each one either Red or Blue with numbers 0 and 1\n",
    "responses = np.random.randint(0, 2, (25, 1)).astype(np.float32)\n",
    "\n",
    "# Take Red families and plot them\n",
    "red = trainData[responses.ravel() == 0]\n",
    "plt.scatter(red[:, 0], red[:, 1],80 , 'r', '^')\n",
    "\n",
    "# Take Blue families and plot them\n",
    "blue = trainData[responses.ravel() == 1]\n",
    "plt.scatter(blue[:,0], blue[:,1], 80, 'b', 's')\n",
    "plt.show()"
   ]
  },
  {
   "cell_type": "markdown",
   "metadata": {},
   "source": [
    "첫 번째 이미지와 비슷한 것을 얻을 수 있습니다. 난수 생성기를 사용하기 때문에 코드를 실행할 때마다 다른 데이터를 얻게됩니다.\n",
    "\n",
    "다음으로 kNN 알고리즘을 시작하고 trainData와 응답을 전달하여 kNN을 훈련시킵니다 (검색 트리를 구성 함).\n",
    "\n",
    "그런 다음 OpenCV에서 kNN의 도움을 받아 한 명의 새로운 사람을 데리고 가족에게 분류 할 것입니다. kNN에 가기 전에 우리는 테스트 데이터 (새로운 코너의 데이터)에 대해 알아야합니다. 우리의 데이터는 //(numberoftestdata × numberoffeatures \\\\) 크기의 부동 소수점 배열이어야합니다. 그런 다음 우리는 가장 가까운 이웃을 찾는다. 우리는 얼마나 많은 이웃들을 원하는지 지정할 수 있습니다. 다음을 반환합니다.\n",
    "\n",
    "1. 우리가 이전에 보았던 kNN 이론에 따라 new-comer에게 주어지는 레이블. Nearest Neighbor 알고리즘을 원하면 k = 1을 지정하면됩니다. 여기서 k는 이웃 노드의 수입니다.\n",
    "2. k-Nearest Neighbors의 라벨.\n",
    "3. 새로운 친구부터 가장 가까운 이웃까지의 거리를 나타냅니다.\n",
    "\n",
    "그럼 어떻게 작동하는지 봅시다. 새롭게 선별 된 부분은 녹색으로 표시됩니다."
   ]
  },
  {
   "cell_type": "code",
   "execution_count": 20,
   "metadata": {
    "scrolled": false
   },
   "outputs": [
    {
     "name": "stdout",
     "output_type": "stream",
     "text": [
      "result:  [[0.]\n",
      " [0.]\n",
      " [1.]\n",
      " [0.]\n",
      " [1.]\n",
      " [1.]\n",
      " [0.]\n",
      " [0.]\n",
      " [0.]\n",
      " [1.]]\n",
      "\n",
      "neighbours:  [[1. 0. 0.]\n",
      " [0. 0. 0.]\n",
      " [1. 1. 0.]\n",
      " [1. 0. 0.]\n",
      " [1. 0. 1.]\n",
      " [1. 1. 1.]\n",
      " [0. 1. 0.]\n",
      " [0. 0. 1.]\n",
      " [0. 0. 0.]\n",
      " [1. 1. 1.]]\n",
      "\n",
      "distance:  [[2.900e+01 2.210e+02 9.000e+02]\n",
      " [2.500e+01 3.400e+01 1.130e+02]\n",
      " [2.600e+01 5.000e+01 2.290e+02]\n",
      " [2.500e+02 8.500e+02 2.005e+03]\n",
      " [1.000e+02 1.220e+02 1.250e+02]\n",
      " [8.000e+01 1.450e+02 2.560e+02]\n",
      " [1.300e+01 1.090e+02 1.690e+02]\n",
      " [3.700e+01 5.800e+01 5.800e+01]\n",
      " [2.000e+01 4.900e+01 1.250e+02]\n",
      " [1.000e+00 4.500e+01 2.920e+02]]\n",
      "\n"
     ]
    },
    {
     "data": {
      "image/png": "[encoded data removed]",
      "text/plain": [
       "<Figure size 432x288 with 1 Axes>"
      ]
     },
     "metadata": {
      "needs_background": "light"
     },
     "output_type": "display_data"
    }
   ],
   "source": [
    "import cv2 as cv\n",
    "import numpy as np\n",
    "import matplotlib.pyplot as plt\n",
    "\n",
    "# Feature set containing (x,y) values of 25 known/training data\n",
    "trainData = np.random.randint(0, 100, (25, 2)).astype(np.float32)\n",
    "\n",
    "# Labels each one either Red or Blue with numbers 0 and 1\n",
    "responses = np.random.randint(0, 2, (25, 1)).astype(np.float32)\n",
    "\n",
    "# Take Red families and plot them\n",
    "red = trainData[responses.ravel() == 0]\n",
    "plt.scatter(red[:, 0], red[:, 1],80 , 'r', '^')\n",
    "\n",
    "# Take Blue families and plot them\n",
    "blue = trainData[responses.ravel() == 1]\n",
    "plt.scatter(blue[:,0], blue[:,1], 80, 'b', 's')\n",
    "\n",
    "#plt.show()\n",
    "\n",
    "#newcomer = np.random.randint(0, 100, (1, 2)).astype(np.float32)\n",
    "newcomer = np.random.randint(0, 100, (10, 2)).astype(np.float32)\n",
    "plt.scatter(newcomer[:, 0], newcomer[:,1 ], 80, 'g', 'o')\n",
    "knn = cv.ml.KNearest_create()\n",
    "knn.train(trainData, cv.ml.ROW_SAMPLE, responses)\n",
    "ret, results, neighbours ,dist = knn.findNearest(newcomer, 3)\n",
    "\n",
    "print( \"result:  {}\\n\".format(results) )\n",
    "print( \"neighbours:  {}\\n\".format(neighbours) )\n",
    "print( \"distance:  {}\\n\".format(dist) )\n",
    "plt.show()"
   ]
  },
  {
   "cell_type": "markdown",
   "metadata": {},
   "source": [
    "#### Additional Resources\n",
    "\n",
    "[NPTEL notes on Pattern Recognition, Chapter 11](https://nptel.ac.in/courses/106108057/12)\n",
    "\n",
    "#### Exercises"
   ]
  },
  {
   "cell_type": "markdown",
   "metadata": {},
   "source": [
    "### OCR of Hand-written Data using kNN\n",
    "\n",
    "Now let's use kNN in OpenCV for digit recognition OCR\n",
    "\n",
    "#### Goal\n",
    "In this chapter\n",
    "\n",
    "* We will use our knowledge on kNN to build a basic OCR application.\n",
    "* We will try with Digits and Alphabets data available that comes with OpenCV.\n",
    "\n",
    "#### OCR of Hand-written Digits\n",
    "우리의 목표는 필기체 숫자를 읽을 수있는 응용 프로그램을 작성하는 것입니다. 이를 위해서는 train_data 및 test_data가 필요합니다. OpenCV는 5000 자필 자릿수 (각 자릿수 당 500 자)를 갖는 digits.png 이미지 (opencv / samples / data / 폴더에 있음)와 함께 제공됩니다. 각 자릿수는 20x20 이미지입니다. 그래서 우리의 첫 번째 단계는이 이미지를 5000 자리수로 나누는 것입니다. 각 자릿수에 대해 400 픽셀의 단일 행으로 병합합니다. 그것은 우리의 특징 세트, 즉 모든 픽셀의 강도 값입니다. 그것은 우리가 만들 수있는 가장 간단한 기능 세트입니다. 각 디지트의 처음 250 개 샘플을 train_data로 사용하고 다음 250 개 샘플을 test_data로 사용합니다. 먼저 그들을 준비합시다."
   ]
  },
  {
   "cell_type": "code",
   "execution_count": 21,
   "metadata": {},
   "outputs": [
    {
     "name": "stdout",
     "output_type": "stream",
     "text": [
      "91.76\n"
     ]
    }
   ],
   "source": [
    "import numpy as np\n",
    "import cv2 as cv\n",
    "from matplotlib import pyplot as plt\n",
    "\n",
    "img  = cv.imread('../data/digits.png')\n",
    "gray = cv.cvtColor(img, cv.COLOR_BGR2GRAY)\n",
    "\n",
    "# Now we split the image to 5000 cells, each 20x20 size\n",
    "cells = [np.hsplit(row, 100) for row in np.vsplit(gray, 50)]\n",
    "\n",
    "# Make it into a Numpy array. It size will be (50,100,20,20)\n",
    "x = np.array(cells)\n",
    "\n",
    "# Now we prepare train_data and test_data.\n",
    "train = x[:, :50].reshape(-1, 400).astype(np.float32) # Size = (2500,400)\n",
    "test  = x[:, 50:100].reshape(-1, 400).astype(np.float32) # Size = (2500,400)\n",
    "\n",
    "# Create labels for train and test data\n",
    "k = np.arange(10)\n",
    "train_labels = np.repeat(k, 250)[:, np.newaxis]\n",
    "test_labels  = train_labels.copy()\n",
    "\n",
    "# Initiate kNN, train the data, then test it with test data for k=1\n",
    "knn = cv.ml.KNearest_create()\n",
    "knn.train(train, cv.ml.ROW_SAMPLE, train_labels)\n",
    "ret, result, neighbours, dist = knn.findNearest(test, k = 5)\n",
    "\n",
    "# Now we check the accuracy of classification\n",
    "# For that, compare the result with test_labels and check which are wrong\n",
    "matches = result == test_labels\n",
    "correct = np.count_nonzero(matches)\n",
    "accuracy = correct * 100.0 / result.size\n",
    "print( accuracy )"
   ]
  },
  {
   "cell_type": "markdown",
   "metadata": {},
   "source": [
    "그래서 우리의 기본적인 OCR 앱이 준비되었습니다. 이 특별한 예는 나에게 91 %의 정확성을 주었다. 정확도를 향상시키는 옵션 중 하나는 교육용 데이터, 특히 잘못된 데이터를 추가하는 것입니다. 따라서 응용 프로그램을 시작할 때마다이 교육 자료를 찾는 대신, 더 잘 저장하므로 다음에 파일에서이 데이터를 직접 읽고 분류를 시작하십시오. np.savetxt, np.savez, np.load 등의 Numpy 기능을 사용하여 작업을 수행 할 수 있습니다. 자세한 내용은 해당 문서를 확인하십시오."
   ]
  },
  {
   "cell_type": "code",
   "execution_count": 22,
   "metadata": {},
   "outputs": [
    {
     "name": "stdout",
     "output_type": "stream",
     "text": [
      "['train', 'train_labels']\n"
     ]
    }
   ],
   "source": [
    "# save the data\n",
    "np.savez('knn_data.npz',train=train, train_labels=train_labels)\n",
    "\n",
    "# Now load the data\n",
    "with np.load('knn_data.npz') as data:\n",
    "    print( data.files )\n",
    "    train = data['train']\n",
    "    train_labels = data['train_labels']"
   ]
  },
  {
   "cell_type": "markdown",
   "metadata": {},
   "source": [
    "내 시스템에서는 약 4.4MB의 메모리가 필요합니다. 강도 값 (uint8 데이터)을 피쳐로 사용하기 때문에 먼저 데이터를 np.uint8로 변환 한 다음 저장하는 것이 좋습니다. 이 경우에는 1.1 MB 밖에 걸리지 않습니다. 그런 다음로드하는 동안 다시 float32로 변환 할 수 있습니다.\n",
    "\n",
    "#### OCR of English Alphabets\n",
    "\n",
    "다음으로 영어 알파벳에 대해서도 동일한 작업을 수행하지만 데이터 및 기능 세트는 약간 변경됩니다. 여기서 OpenCV는 이미지 대신 opencv / samples / cpp / folder에 데이터 파일 인 letter-recognition.data를 제공합니다. 열면 20000 줄을 볼 수 있는데, 처음에는 쓰레기처럼 보일 수 있습니다. 사실, 각 행에서 첫 번째 열은 우리의 레이블 인 알파벳입니다. 다음 16 개의 숫자는 다른 기능입니다. 이러한 기능은 [UCI 기계 학습 저장소](http://archive.ics.uci.edu/ml/index.php) 에서 가져옵니다 . 이 기능에 대한 자세한 내용은 [이 페이지](http://archive.ics.uci.edu/ml/datasets/Letter+Recognition)에서 확인할 수 있습니다 .\n",
    "\n",
    "사용할 수있는 샘플은 20000 개이므로 첫 번째 10000 개의 데이터를 트레이닝 샘플로, 나머지 10000 개의 샘플을 테스트 샘플로 사용합니다. 알파벳으로 직접 작업 할 수 없으므로 알파벳을 ASCII 문자로 변경해야합니다."
   ]
  },
  {
   "cell_type": "code",
   "execution_count": 23,
   "metadata": {},
   "outputs": [
    {
     "name": "stdout",
     "output_type": "stream",
     "text": [
      "93.06\n"
     ]
    }
   ],
   "source": [
    "import cv2 as cv\n",
    "import numpy as np\n",
    "import matplotlib.pyplot as plt\n",
    "# Load the data, converters convert the letter to a number\n",
    "data= np.loadtxt('../data/letter-recognition.data', dtype= 'float32', delimiter = ',',\n",
    "                    converters= {0: lambda ch: ord(ch)-ord('A')})\n",
    "\n",
    "# split the data to two, 10000 each for train and test\n",
    "train, test = np.vsplit(data, 2)\n",
    "\n",
    "# split trainData and testData to features and responses\n",
    "responses, trainData = np.hsplit(train, [1])\n",
    "labels, testData     = np.hsplit(test, [1])\n",
    "\n",
    "# Initiate the kNN, classify, measure accuracy.\n",
    "knn = cv.ml.KNearest_create()\n",
    "knn.train(trainData, cv.ml.ROW_SAMPLE, responses)\n",
    "ret, result, neighbours, dist = knn.findNearest(testData, k = 5)\n",
    "correct  = np.count_nonzero(result == labels)\n",
    "accuracy = correct * 100.0 / 10000\n",
    "print( accuracy )"
   ]
  },
  {
   "cell_type": "markdown",
   "metadata": {},
   "source": [
    "It gives me an accuracy of 93.22%. Again, if you want to increase accuracy, you can iteratively add error data in each level.\n",
    "\n",
    "#### Additional Resources\n",
    "\n",
    "#### Exercises"
   ]
  }
 ],
 "metadata": {
  "kernelspec": {
   "display_name": "Python 3",
   "language": "python",
   "name": "python3"
  },
  "language_info": {
   "codemirror_mode": {
    "name": "ipython",
    "version": 3
   },
   "file_extension": ".py",
   "mimetype": "text/x-python",
   "name": "python",
   "nbconvert_exporter": "python",
   "pygments_lexer": "ipython3",
   "version": "3.6.6"
  },
  "toc": {
   "base_numbering": 1,
   "nav_menu": {},
   "number_sections": true,
   "sideBar": true,
   "skip_h1_title": false,
   "title_cell": "Table of Contents",
   "title_sidebar": "Contents",
   "toc_cell": false,
   "toc_position": {
    "height": "calc(100% - 180px)",
    "left": "10px",
    "top": "150px",
    "width": "249.261px"
   },
   "toc_section_display": true,
   "toc_window_display": true
  },
  "varInspector": {
   "cols": {
    "lenName": 16,
    "lenType": 16,
    "lenVar": 40
   },
   "kernels_config": {
    "python": {
     "delete_cmd_postfix": "",
     "delete_cmd_prefix": "del ",
     "library": "var_list.py",
     "varRefreshCmd": "print(var_dic_list())"
    },
    "r": {
     "delete_cmd_postfix": ") ",
     "delete_cmd_prefix": "rm(",
     "library": "var_list.r",
     "varRefreshCmd": "cat(var_dic_list()) "
    }
   },
   "types_to_exclude": [
    "module",
    "function",
    "builtin_function_or_method",
    "instance",
    "_Feature"
   ],
   "window_display": false
  }
 },
 "nbformat": 4,
 "nbformat_minor": 2
}
