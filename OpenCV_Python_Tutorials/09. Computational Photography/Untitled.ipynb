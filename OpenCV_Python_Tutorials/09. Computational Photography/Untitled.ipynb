{
 "cells": [
  {
   "cell_type": "markdown",
   "metadata": {},
   "source": [
    "### [Image Inpainting](https://docs.opencv.org/3.4/df/d3d/tutorial_py_inpainting.html)\n",
    "많은 검은 점들과 선이 그려져있는 오래된 저하 된 사진이 있습니까? 가져. 이미지 복구 (image inpainting)라는 기술로 복원 해보자.\n",
    "\n",
    "#### Goal\n",
    "In this chapter,\n",
    "\n",
    "* We will learn how to remove small noises, strokes etc in old photographs by a method called inpainting\n",
    "* We will see inpainting functionalities in OpenCV.\n",
    "\n",
    "#### Basic\n",
    "대부분의 사람들은 집에서 검은 색 반점, 약간의 스트로크 등으로 오래된 저하 된 사진을 갖게됩니다. 당신은 그것을 다시 복원 할 생각을 해 본 적이 있습니까? 페인트 도구에서 단순히 지우지는 못합니다. 검은 구조체를 아무 쓸모가없는 흰색 구조체로 간단히 대체하기 때문입니다. 이러한 경우 이미지 인 페인팅이라는 기술이 사용됩니다. 기본 아이디어는 간단합니다.이 나쁜 마크를 이웃 픽셀과 바꾸면 이웃과 비슷하게 보입니다. 아래에 표시된 이미지를 고려하십시오 ([Wikipedia에서 가져옴](https://en.wikipedia.org/wiki/Inpainting)).\n",
    "![](inpaint_basics.jpg)\n",
    "\n",
    "Several algorithms were designed for this purpose and OpenCV provides two of them. Both can be accessed by the same function, [cv.inpaint()](https://docs.opencv.org/3.4/d1/d0d/group__photo.html#gaedd30dfa0214fec4c88138b51d678085)\n",
    "\n",
    "첫 번째 알고리즘은 2004 년 Alexandru Telea가 **\"Fast Marching Method를 기반으로 한 이미지 Inpainting 기법 \"** 이라는 논문을 기반으로합니다. Fast Marching Method를 기반으로합니다. 이미지에서 도색 할 영역을 고려하십시오. 알고리즘은이 영역의 경계에서부터 시작하여 경계 안의 모든 것을 점진적으로 채우는 영역 내부로갑니다. 그것은 인근에있는 픽셀 주변의 작은 이웃을 가져 와야합니다. 이 픽셀은 이웃에있는 모든 알려진 픽셀의 정규화 된 가중 합계로 대체됩니다. 무게의 선택은 중요한 문제입니다. 점의 근처에있는 픽셀, 경계의 법선에 가까운 픽셀 및 경계 윤곽선에있는 픽셀에 더 많은 가중치가 부여됩니다. 픽셀이 페인팅되면 Fast Marching Method를 사용하여 다음 가장 가까운 픽셀로 이동합니다. FMM은 알려진 픽셀 근처의 픽셀이 먼저 페인팅되도록 보장하므로 수동 휴리스틱 작업처럼 작동합니다. 이 알고리즘은 플래그 [cv.INPAINT_TELEA](https://docs.opencv.org/3.4/d1/d0d/group__photo.html#gga9cab8e1bb3588dd0f2beaa56521805cea892824c38e258feb5e72f308a358d52e)를 사용하여 활성화됩니다.\n",
    "\n",
    "두 번째 알고리즘은 2001 년 Bertalmio, Marcelo, Andrea L. Bertozzi 및 Guillermo Sapiro의 ** ** \"Navier-Stokes, Fluid Dynamics 및 Image and Video Inpainting\"** 논문을 기반으로합니다.이 알고리즘은 유체 역학을 기반으로하며 편미분 방정식. 기본 원칙은 경험이 풍부합니다. 먼저 모서리를 따라 알려진 영역에서 알 수없는 영역으로 이동합니다 (모서리는 연속적이기 때문에). 그것은 isophotes (등고선과 같은 강도를 가진 점들을 연결하는 선들은 같은 높이를 갖는 점들과 조화를 이룬다)을하는 한편 inpainting 영역의 경계에서 그라디언트 벡터들을 매칭시킨다. 이를 위해 유체 역학의 일부 방법이 사용됩니다. 일단 색상이 채워지면 해당 영역의 최소 분산을 줄이기 위해 색상이 채워집니다. 이 알고리즘은 플래그 [cv.INPAINT_NS](https://docs.opencv.org/3.4/d1/d0d/group__photo.html#gga9cab8e1bb3588dd0f2beaa56521805cea05e763003a805e6c11c673a9f4ba7d07)를 사용하여 활성화됩니다 \n",
    "\n",
    "#### Code\n",
    "We need to create a mask of same size as that of input image, where non-zero pixels corresponds to the area which is to be inpainted. Everything else is simple. My image is degraded with some black strokes (I added manually). I created a corresponding strokes with Paint tool."
   ]
  },
  {
   "cell_type": "code",
   "execution_count": 4,
   "metadata": {},
   "outputs": [
    {
     "data": {
      "text/plain": [
       "-1"
      ]
     },
     "execution_count": 4,
     "metadata": {},
     "output_type": "execute_result"
    }
   ],
   "source": [
    "import numpy as np\n",
    "import cv2 as cv\n",
    "\n",
    "img  = cv.imread('messi.jpg')\n",
    "mask = cv.imread('messi_mask.jpg',0)\n",
    "#dst  = cv.inpaint(img, mask, 3, cv.INPAINT_TELEA) #cv.INPAINT_NS\n",
    "dst  = cv.inpaint(img, mask, 3, cv.INPAINT_NS) #cv.INPAINT_NS\n",
    "cv.imshow('dst', dst)\n",
    "cv.waitKey(0)\n",
    "cv.destroyAllWindows()\n",
    "cv.waitKey(1)"
   ]
  },
  {
   "cell_type": "markdown",
   "metadata": {},
   "source": [
    "#### Additional Resources\n",
    "1. Bertalmio, Marcelo, Andrea L. Bertozzi, Guillermo Sapiro. \"Navier-Stokes, 유체 역학, 이미지 및 비디오 수리 작업.\" 컴퓨터 비전 및 패턴 인식, 2001. CVPR 2001. 2001 IEEE 컴퓨터 학회 컨퍼런스 논문집, vol. 1, pp.I-355. IEEE, 2001.\n",
    "2. Telea, Alexandru. \"빠른 행진법에 기반한 이미지 페인팅 기술.\" 저널 그래픽 도구 9.1 (2004) : 23-34.\n",
    "\n",
    "#### Exercises\n",
    "1. OpenCV는 inpainting에 대한 대화식 샘플 인 / samples / python / inpaint.py와 함께 제공됩니다.\n",
    "2. 몇 달 전, Adobe Photoshop에서 사용 된 고급 Inpainting 기술인 [Content-Aware Fill](https://www.youtube.com/watch?v=ZtoUiplKa2A) 에 관한 비디오를 보았습니다 . 추가로 검색 할 때 김프에서 이미 다른 이름 인 \"Resynthesizer\"(동일한 플러그인을 설치해야 함)와 동일한 기술이 이미 있음을 알 수있었습니다. 나는 그 기술을 즐기실 것이라고 확신합니다.\n"
   ]
  }
 ],
 "metadata": {
  "kernelspec": {
   "display_name": "Python 3",
   "language": "python",
   "name": "python3"
  },
  "language_info": {
   "codemirror_mode": {
    "name": "ipython",
    "version": 3
   },
   "file_extension": ".py",
   "mimetype": "text/x-python",
   "name": "python",
   "nbconvert_exporter": "python",
   "pygments_lexer": "ipython3",
   "version": "3.6.6"
  },
  "toc": {
   "base_numbering": 1,
   "nav_menu": {},
   "number_sections": true,
   "sideBar": true,
   "skip_h1_title": false,
   "title_cell": "Table of Contents",
   "title_sidebar": "Contents",
   "toc_cell": false,
   "toc_position": {},
   "toc_section_display": true,
   "toc_window_display": true
  },
  "varInspector": {
   "cols": {
    "lenName": 16,
    "lenType": 16,
    "lenVar": 40
   },
   "kernels_config": {
    "python": {
     "delete_cmd_postfix": "",
     "delete_cmd_prefix": "del ",
     "library": "var_list.py",
     "varRefreshCmd": "print(var_dic_list())"
    },
    "r": {
     "delete_cmd_postfix": ") ",
     "delete_cmd_prefix": "rm(",
     "library": "var_list.r",
     "varRefreshCmd": "cat(var_dic_list()) "
    }
   },
   "types_to_exclude": [
    "module",
    "function",
    "builtin_function_or_method",
    "instance",
    "_Feature"
   ],
   "window_display": false
  }
 },
 "nbformat": 4,
 "nbformat_minor": 2
}
